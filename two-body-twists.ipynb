{
 "cells": [
  {
   "cell_type": "markdown",
   "metadata": {},
   "source": [
    "# Two-body twisted boundary conditions"
   ]
  },
  {
   "cell_type": "markdown",
   "metadata": {},
   "source": [
    "This notebook provides a minimal description how to implement twisted boundary conditions for a non-relativistc two-body quantum system following the publication [[1511.06598]](https://arxiv.org/abs/1511.06598v1)."
   ]
  },
  {
   "cell_type": "markdown",
   "metadata": {},
   "source": [
    "## Initialization"
   ]
  },
  {
   "cell_type": "code",
   "execution_count": null,
   "metadata": {},
   "outputs": [],
   "source": [
    "# Python modules\n",
    "import itertools\n",
    "import time\n",
    "from dataclasses import dataclass\n",
    "from dataclasses import field\n",
    "from typing import Dict\n",
    "\n",
    "# Numerical modules\n",
    "import numpy as np\n",
    "import scipy.sparse as sp\n",
    "import scipy.sparse.linalg as lina\n",
    "import scipy.optimize as opt\n",
    "\n",
    "# Data management\n",
    "import pandas as pd\n",
    "\n",
    "# Plotting\n",
    "import matplotlib.pylab as plt\n",
    "import seaborn as sns\n",
    "\n",
    "# Fitting\n",
    "import gvar as gv\n",
    "import lsqfit"
   ]
  },
  {
   "cell_type": "code",
   "execution_count": null,
   "metadata": {},
   "outputs": [],
   "source": [
    "%load_ext blackcellmagic"
   ]
  },
  {
   "cell_type": "markdown",
   "metadata": {},
   "source": [
    "### Parameters"
   ]
  },
  {
   "cell_type": "markdown",
   "metadata": {},
   "source": [
    "Quantities will be expressed in units of [fm]. Energies are converted to inverse fermi using $\\hbar c = 197.326$ MeV/fm."
   ]
  },
  {
   "cell_type": "code",
   "execution_count": null,
   "metadata": {},
   "outputs": [],
   "source": [
    "HBARC = 197.326 # MeV / fm\n",
    "E_DEUTERON = - 2.225 / HBARC\n",
    "M_NUCLEON = (938.27 + 939.57) / 2 / HBARC\n",
    "\n",
    "NDIM_MAX = 3\n",
    "N1D_MAX = 20\n",
    "LATTICE_SPACING = 1.97"
   ]
  },
  {
   "cell_type": "markdown",
   "metadata": {},
   "source": [
    "# Introduction"
   ]
  },
  {
   "cell_type": "markdown",
   "metadata": {},
   "source": [
    "This notebook implements a lattice Hamiltonian with a simple contact interaction and twisted boundary conditions\n",
    "The numerical derivatives are implementend using the \"twist at each hop\" method described in [[1511.06598]](https://arxiv.org/abs/1511.06598v1).\n",
    "\n",
    "In the later parts of the notebook, the eigenvalues of the Hamiltonian are computed for different volumes and different boundary conditions."
   ]
  },
  {
   "cell_type": "markdown",
   "metadata": {},
   "source": [
    "### Kinetic Hamiltonian"
   ]
  },
  {
   "cell_type": "markdown",
   "metadata": {},
   "source": [
    "The implementation of the kinetich Hamiltonian is the crucial part for the implementation of twisted boundary conditions.\n",
    "\n",
    "In the one-dimensional case, a simple discrete 1-step derivative for twisted boundary conditions is given by\n",
    "$$\n",
    "    \\frac{d^2 f(x = n \\epsilon)}{dx^2} \n",
    "    \\rightarrow \\frac{1}{\\epsilon^2}\n",
    "    \\left[ \n",
    "        f(n\\epsilon + \\epsilon) e^{i \\phi \\epsilon/ L } \n",
    "        - 2 f(n\\epsilon) \n",
    "        + f(n\\epsilon - \\epsilon) e^{-i \\phi \\epsilon/ L } \n",
    "    \\right] \\, ,\n",
    "$$\n",
    "where $\\epsilon$ is the lattice spacing, $\\phi$ the twist angle and $L$ the size of the volume.\n",
    "\n",
    "For improved discrete derivative implementations (n-steps) see also [Finite difference coefficients](https://en.wikipedia.org/wiki/Finite_difference_coefficient).\n",
    "\n",
    "The kinetic Hamiltonian in relative coordinates is computed by dividing the above expression by two times the reduced mass of the subsystem &mdash; in the case of equal mass particles, half the mass of individual particles."
   ]
  },
  {
   "cell_type": "markdown",
   "metadata": {},
   "source": [
    "The below implementation of the kinetic Hamiltonian is general in the number of dimensions and the implementation of the derivative.\n",
    "This is achieved by creating a meta index for coordinates:\n",
    "```python\n",
    "nr = n1 + n2 * n1d_max ** 1 + n3 * n1d_max ** 2 + ...\n",
    "```\n",
    "where `ni` describe the index in each respective dimension.\n",
    "\n",
    "Taking the derivative in a respective direction adjusts the `ni` components.\n",
    "Because the grid is finite with boundary conditions, all `ni` are identified with their `n1d_max` modulus. \n",
    "\n",
    "For example, when shifitng the y-coordinate in a three dimensional space by one lattice spacing becomes\n",
    "```\n",
    "nr_yshift = nx + ((ny + 1) % n1d_max) * n1d_max ** 1 + nz * n1d_max ** 2\n",
    "```\n",
    "\n",
    "The below kinetic Hamiltonian iterates over all dimensions and shifts to create a `n_max x n_max` matrix with `n_max = n1d_max ** ndim_max`."
   ]
  },
  {
   "cell_type": "code",
   "execution_count": null,
   "metadata": {},
   "outputs": [],
   "source": [
    "def get_kinetic_hamiltonian(\n",
    "    n1d_max: int,\n",
    "    twist_angle: float = 0.0,\n",
    "    lattice_spacing: float = 1.0,\n",
    "    particle_mass: float = M_NUCLEON,\n",
    "    ndim_max: int = 3,\n",
    "    derivative_shifts: Dict[int, float] = {-1: 1.0, 0: -2.0, 1: 1.0},\n",
    ") -> sp.csr_matrix:\n",
    "    \"\"\"Computes the kinetic Hamiltonian for a relative two-body system in a 3D box.\n",
    "    \n",
    "    The kinetic Hamiltonian is defined by\n",
    "        `H0 = - Laplace / 2 /(particle_mass/2)` \n",
    "    Where Laplace is the lattice laplace operator with twisted boundary conditions.\n",
    "    \n",
    "    The function uses scipy sparse matrices in column format.\n",
    "    \n",
    "    Arguments\n",
    "    ---------\n",
    "        n1d_max: int\n",
    "            Spatial dimension of lattice in any direction.\n",
    "        \n",
    "        twist_angle: float\n",
    "            The total amount of twist.\n",
    "            \n",
    "        lattice_spacing: float\n",
    "            The lattice spacing in fermi.\n",
    "            \n",
    "        particle_mass: float\n",
    "            The mass of the particles to be described in inverse fermi.\n",
    "        \n",
    "        ndim_max: float\n",
    "            The number of spatial dimensions.\n",
    "        \n",
    "        derivative_shifts: Dict[int, float]\n",
    "            The implementation of the numerical laplace operator.\n",
    "            E.g., for a one step derivative \n",
    "                `d2f/dx2(n) = sum(\n",
    "                    c_i * f(n + s_i) * exp(1j * twist_angle/n1d_max * s_i)\n",
    "                )/lattice_spacing**2`\n",
    "            where s_i and c_i are the keys and values of derivative_shifts.\n",
    "            \n",
    "            \n",
    "    \"\"\"\n",
    "    data = sp.lil_matrix((n1d_max ** ndim_max, n1d_max ** ndim_max), dtype=complex)\n",
    "\n",
    "    h0_fact = 1 / lattice_spacing ** 2 / 2 / (particle_mass / 2)\n",
    "\n",
    "    modified_shifts = {\n",
    "        shift: coeff * h0_fact * np.exp(1j * twist_angle / n1d_max * shift)\n",
    "        for shift, coeff in derivative_shifts.items()\n",
    "    }\n",
    "\n",
    "    for nr in range(n1d_max ** ndim_max):\n",
    "        nr_subtracted = nr\n",
    "        n1d_pow_ndim = 1\n",
    "\n",
    "        for ndim in range(ndim_max):\n",
    "            nxi = (nr_subtracted % (n1d_pow_ndim * n1d_max)) // n1d_pow_ndim\n",
    "            nr_subtracted -= nxi * n1d_pow_ndim\n",
    "\n",
    "            for shift, coeff in modified_shifts.items():\n",
    "                nr_shift = nr + n1d_pow_ndim * (\n",
    "                    -nxi + (nxi + shift + n1d_max * 10) % n1d_max\n",
    "                )\n",
    "                data[(nr, nr_shift)] -= coeff\n",
    "\n",
    "            n1d_pow_ndim *= n1d_max\n",
    "\n",
    "    return data.tocsr()\n"
   ]
  },
  {
   "cell_type": "markdown",
   "metadata": {},
   "source": [
    "### Cross check"
   ]
  },
  {
   "cell_type": "markdown",
   "metadata": {},
   "source": [
    "The eigenvalues"
   ]
  },
  {
   "cell_type": "markdown",
   "metadata": {},
   "source": [
    "## Potential"
   ]
  },
  {
   "cell_type": "markdown",
   "metadata": {},
   "source": [
    "To simplify the analysis, the potential is a simple contact interaction\n",
    "$$\n",
    "    V(r) = c \\delta(r) \\, .\n",
    "$$\n",
    "For the sake of simplicity, the lattice spacing in discrete space is absorbed in the definition of $c$ (no analysis of discretization effects)."
   ]
  },
  {
   "cell_type": "code",
   "execution_count": null,
   "metadata": {},
   "outputs": [],
   "source": [
    "def get_full_hamiltonian(\n",
    "    kinetic_hamiltonian: sp.csr_matrix, contact_strength: float\n",
    ") -> sp.csr_matrix:\n",
    "    \"\"\"Copies the kinetic Hamiltonian and subtracts contact_strength from the (0, 0) component.\n",
    "    \n",
    "    Computes `H = H0 + V`, where `V = contact_strength * delta(nr, 0)` and `nr` is ther relative\n",
    "    distance in the two particle system.\n",
    "    \n",
    "    Arguments\n",
    "    ---------\n",
    "        kinetic_hamiltonian: sparse matrix\n",
    "            The kinetic two-body lattice Hamiltonian.\n",
    "            \n",
    "        contact_strength: float\n",
    "            The strength of the contact interaction in respective units.\n",
    "            This depends on the dimension of the problem, e.g., [fm]**(-1 - ndim).\n",
    "    \"\"\"\n",
    "    hamiltonian = kinetic_hamiltonian.copy()\n",
    "    hamiltonian[0, 0] += contact_strength\n",
    "    return hamiltonian\n"
   ]
  },
  {
   "cell_type": "markdown",
   "metadata": {},
   "source": [
    "## Solver"
   ]
  },
  {
   "cell_type": "markdown",
   "metadata": {},
   "source": [
    "To further simplify computations, a solver class is provided.\n",
    "Once a system is initialized for given parameters, one can extract the groundstate using `solver.get_ground_state(contact_strength)`."
   ]
  },
  {
   "cell_type": "code",
   "execution_count": null,
   "metadata": {},
   "outputs": [],
   "source": [
    "@dataclass\n",
    "class Solver:\n",
    "    \"\"\"Solver for fast eigenvalue access depending on contact interaction strength.\n",
    "    \"\"\"\n",
    "\n",
    "    n1d_max: int\n",
    "    twist_angle: float = 0.0\n",
    "    lattice_spacing: float = 1.0\n",
    "    particle_mass: float = M_NUCLEON\n",
    "    ndim_max: int = 3\n",
    "    derivative_shifts: Dict[int, float] = field(\n",
    "        default_factory=lambda: {\n",
    "            -4: -1.0 / 560.0,\n",
    "            -3: 8.0 / 315.0,\n",
    "            -2: -1.0 / 5.0,\n",
    "            -1: 8.0 / 5.0,\n",
    "            +0: -205.0 / 72.0,\n",
    "            +1: 8.0 / 5.0,\n",
    "            +2: -1.0 / 5.0,\n",
    "            +3: 8.0 / 315.0,\n",
    "            +4: -1.0 / 560.0,\n",
    "\n",
    "        }\n",
    "    )\n",
    "    kinetic_hamiltonian: sp.lil_matrix = field(init=False, repr=False)\n",
    "\n",
    "    def __post_init__(self):\n",
    "        self.kinetic_hamiltonian = get_kinetic_hamiltonian(\n",
    "            self.n1d_max,\n",
    "            self.twist_angle,\n",
    "            self.lattice_spacing,\n",
    "            self.particle_mass,\n",
    "            self.ndim_max,\n",
    "            self.derivative_shifts,\n",
    "        )\n",
    "\n",
    "    def get_ground_state(self, contact_strength: float, **kwargs) -> float:\n",
    "        \"\"\"Returns smallest algebraic eigenvalue in of Hamiltonian in `[fm]`\n",
    "        \n",
    "        Arguments\n",
    "        ---------\n",
    "            contact_strength: float\n",
    "                The strength of the contact interaction in respective units.\n",
    "                This depends on the dimension of the problem, e.g., [fm]**(-1 - ndim).\n",
    "                \n",
    "            kwargs:\n",
    "                Additional keyword arguments passed to `eigsh` solver.\n",
    "        \"\"\"\n",
    "        H = get_full_hamiltonian(self.kinetic_hamiltonian, contact_strength)\n",
    "        return lina.eigsh(H, k=1, which=\"SA\", **kwargs)[0][0]\n"
   ]
  },
  {
   "cell_type": "markdown",
   "metadata": {},
   "source": [
    "## Fit to deuteron binding energy"
   ]
  },
  {
   "cell_type": "markdown",
   "metadata": {},
   "source": [
    "Since there is one free parameter, the strength of the contact interaction, one must provide one condition to fix the system.\n",
    "In this case, in the infinte volume, the system ground state energx reproduce the deuteron binding energy.\n",
    "Thus, thee contact interaction strength `C0` is fitted to binding energies at large volumes (`N1D_INF`).\n",
    "\n",
    "Repeating eigenvalue computations for smaller volumes with the fixed `C0` returns the binding energy for finite lattices `E_L`."
   ]
  },
  {
   "cell_type": "code",
   "execution_count": null,
   "metadata": {},
   "outputs": [],
   "source": [
    "N1D_INF = N1D_MAX // 2 * 3"
   ]
  },
  {
   "cell_type": "markdown",
   "metadata": {},
   "source": [
    "### Numerical accelerator"
   ]
  },
  {
   "cell_type": "markdown",
   "metadata": {},
   "source": [
    "The ground state wave function is of the form\n",
    "$$\n",
    "    f(r) \\sim \\frac{\\exp\\{-\\kappa r\\}}{r} \\, , \\quad \\kappa^2 = M_N | E_B| \\, .\n",
    "$$\n",
    "This information can be used to accelerate the computation by making an educated guess for the ground state:"
   ]
  },
  {
   "cell_type": "code",
   "execution_count": null,
   "metadata": {},
   "outputs": [],
   "source": [
    "N1D_INF = N1D_MAX // 2 * 3"
   ]
  },
  {
   "cell_type": "code",
   "execution_count": null,
   "metadata": {},
   "outputs": [],
   "source": [
    "r = []\n",
    "for nxi in itertools.product(*[range(N1D_INF)] * NDIM_MAX):\n",
    "    r.append(np.sqrt(np.sum(np.array(nxi) ** 2)) * LATTICE_SPACING)\n",
    "r = np.array(r)\n",
    "\n",
    "kappa = np.sqrt(M_NUCLEON * abs(E_DEUTERON))\n",
    "\n",
    "psi0 = np.exp(-kappa * r) / (r + 1.e-7)\n",
    "psi0 /= np.sqrt(psi0 @ psi0)"
   ]
  },
  {
   "cell_type": "markdown",
   "metadata": {},
   "source": [
    "### Run the fit"
   ]
  },
  {
   "cell_type": "markdown",
   "metadata": {},
   "source": [
    "**This might take a while**"
   ]
  },
  {
   "cell_type": "markdown",
   "metadata": {},
   "source": [
    "Minimize $ f(c) = (E_L(c) - E_D)^2 $."
   ]
  },
  {
   "cell_type": "code",
   "execution_count": null,
   "metadata": {},
   "outputs": [],
   "source": [
    "solver = Solver(n1d_max=N1D_INF, ndim_max=NDIM_MAX, lattice_spacing=LATTICE_SPACING)\n",
    "res = opt.minimize(\n",
    "    lambda c: (solver.get_ground_state(c, v0=psi0) - E_DEUTERON) ** 2, -10.0\n",
    ")\n",
    "C0 = res.x[0]\n",
    "\n",
    "H = get_full_hamiltonian(solver.kinetic_hamiltonian, C0)\n",
    "fitted_ground_state = lina.eigsh(H, k=1, which=\"SA\")[0][0] * HBARC\n",
    "\n",
    "print(f\"Contact strength: {C0:1.4e} with ground state {fitted_ground_state:1.3f} [MeV]\")"
   ]
  },
  {
   "cell_type": "markdown",
   "metadata": {},
   "source": [
    "## Twist computation"
   ]
  },
  {
   "cell_type": "markdown",
   "metadata": {},
   "source": [
    "Here, the computations are repeated for fixed `C0` but different twist angles and volumes.\n",
    "\n",
    "The quantitites of interest are the finite volume ground state energy `E_L`."
   ]
  },
  {
   "cell_type": "code",
   "execution_count": null,
   "metadata": {},
   "outputs": [],
   "source": [
    "data = []\n",
    "\n",
    "for n1d in range(2, N1D_MAX, 2):\n",
    "    for twist_angle in np.linspace(0, 2 * np.pi, 21):\n",
    "        solver = Solver(\n",
    "            n1d_max=n1d,\n",
    "            ndim_max=NDIM_MAX,\n",
    "            lattice_spacing=LATTICE_SPACING,\n",
    "            twist_angle=twist_angle,\n",
    "        )\n",
    "\n",
    "        t_start = time.time_ns()\n",
    "        EL = solver.get_ground_state(C0)\n",
    "        t_end = time.time_ns()\n",
    "\n",
    "        data.append(\n",
    "            {\n",
    "                \"E_L\": EL * HBARC,\n",
    "                \"n1d\": n1d,\n",
    "                \"twist_angle\": twist_angle / np.pi,\n",
    "                \"L\": n1d * LATTICE_SPACING,\n",
    "                \"cpu_time\": (t_end - t_start) / 10 ** 9,\n",
    "            }\n",
    "        )\n",
    "\n",
    "df = pd.DataFrame(data)\n",
    "\n",
    "df.head()"
   ]
  },
  {
   "cell_type": "markdown",
   "metadata": {},
   "source": [
    "### Plot the finite volume convergence"
   ]
  },
  {
   "cell_type": "code",
   "execution_count": null,
   "metadata": {
    "scrolled": false
   },
   "outputs": [],
   "source": [
    "selected_fits = df.where((df.twist_angle * 10) % 2 != 1).query(\"twist_angle <= 1.0\")\n",
    "\n",
    "g = sns.lmplot(\n",
    "    x=\"L\",\n",
    "    y=\"E_L\",\n",
    "    hue=\"twist_angle\",\n",
    "    data=selected_fits,\n",
    "    fit_reg=False,\n",
    "    legend=False,\n",
    "    height=2.5,\n",
    "    aspect=1.5,\n",
    ")\n",
    "\n",
    "g.set_axis_labels(\"$L$ [fm]\", \"$E_L$ [MeV]\")\n",
    "g.fig.set_dpi(250)\n",
    "g.fig.legend(title=\"$\\phi / \\pi$\", loc=\"upper right\", fontsize=\"x-small\")\n",
    "\n",
    "g.ax.axhline(E_DEUTERON * HBARC, ls=\"--\", color=\"black\", zorder=-1, lw=1)\n",
    "g.ax.set_ylim(-5, 2)\n",
    "\n",
    "plt.show(g)"
   ]
  },
  {
   "cell_type": "markdown",
   "metadata": {},
   "source": [
    "## Fitting"
   ]
  },
  {
   "cell_type": "markdown",
   "metadata": {},
   "source": [
    "Different to the fitting method defined in the paper, this notebook uses a bayesian approach using Peter Lepages [`lsqfit`](https://github.com/gplepage/lsqfit)."
   ]
  },
  {
   "cell_type": "markdown",
   "metadata": {},
   "source": [
    "### Fit setup"
   ]
  },
  {
   "cell_type": "markdown",
   "metadata": {},
   "source": [
    "The fitting function is of the form\n",
    "\n",
    "$$\n",
    "    E_L(L; E_0, A^{(LO)}, A_1^{(NLO)}, A_2^{(NLO)}, A_1^{(N2LO)})\n",
    "    =\n",
    "    E_0\n",
    "    + A^{(LO)} \\frac{e^{-\\kappa L}}{\\kappa L}\n",
    "    + A_1^{(NLO)} \\frac{e^{-\\sqrt{2}\\kappa L}}{\\kappa L}\n",
    "    + A_2^{(NLO)} \\frac{e^{-\\kappa L}}{\\kappa^2 L^2}\n",
    "    + A_1^{(N2LO)} \\frac{e^{-2\\kappa L}}{\\kappa L}\n",
    "    \\, ,\n",
    "$$\n",
    "where $ \\kappa(E_0) = \\sqrt{- E_0 M_N}$.\n",
    "\n",
    "The prior of the parameters is chosen broadly to affect the posterior of the fit parameters in a minimal way (standard deviation is way larger than outcome standard deviation)."
   ]
  },
  {
   "cell_type": "code",
   "execution_count": null,
   "metadata": {},
   "outputs": [],
   "source": [
    "def multi_exp(L: \"array\", pars: Dict[str, \"GVar\"]) -> \"GVar\":\n",
    "    \"\"\"Implents the multi-exponential fit function.\n",
    "    \n",
    "    Arguments\n",
    "    ---------\n",
    "        L: array\n",
    "            The size of the finite volume in one dimension in [fm].\n",
    "            \n",
    "        pars: Dict[str, \"GVar\"]\n",
    "            The input parameters for the fit. The dictionary must contain\n",
    "            the keys `E0`, `A_LO`, `A1_NLO`, `A2_NLO` and `A1_N2LO`.\n",
    "            The unit of all parameters are [MeV].\n",
    "    \"\"\"\n",
    "    y = pars[\"E0\"]\n",
    "\n",
    "    kappa = gv.sqrt(-pars[\"E0\"] / HBARC * M_NUCLEON)\n",
    "    y += pars[\"A_LO\"] * gv.exp(-kappa * L) / L / kappa\n",
    "    y += pars[\"A1_NLO\"] * gv.exp(-kappa * np.sqrt(2) * L) / L / kappa\n",
    "    y += pars[\"A2_NLO\"] * gv.exp(-kappa * L) / L ** 2 / kappa ** 2\n",
    "    y += pars[\"A1_N2LO\"] * gv.exp(-kappa * 2 * L) / L / kappa\n",
    "    return y\n",
    "\n",
    "\n",
    "def make_prior() -> \"GVar\":\n",
    "    \"\"\"Creates an example prior for fitting the `multi_exp` function defined above.\n",
    "    \"\"\"\n",
    "    return {\n",
    "        \"E0\": gv.gvar(-3.0, 5.0),\n",
    "        \"A_LO\": gv.gvar(0.0, 100.0),\n",
    "        \"A1_NLO\": gv.gvar(0.0, 200.0),\n",
    "        \"A2_NLO\": gv.gvar(0.0, 200.0),\n",
    "        \"A1_N2LO\": gv.gvar(0.0, 200.0),\n",
    "    }\n"
   ]
  },
  {
   "cell_type": "markdown",
   "metadata": {},
   "source": [
    "### Run the fits"
   ]
  },
  {
   "cell_type": "code",
   "execution_count": null,
   "metadata": {},
   "outputs": [],
   "source": [
    "fit_res = []\n",
    "\n",
    "for twist_angle in df.twist_angle.unique():\n",
    "    fit_data = df.query(\"twist_angle == @twist_angle\")\n",
    "    \n",
    "    energy_numerical_err = [0.002] * fit_data.E_L.values.size\n",
    "\n",
    "    res = lsqfit.nonlinear_fit(\n",
    "        data=(\n",
    "            fit_data.L.values,\n",
    "            gv.gvar(fit_data.E_L.values, energy_numerical_err),\n",
    "        ),\n",
    "        fcn=multi_exp,\n",
    "        prior=make_prior(),\n",
    "    )\n",
    "    res.p[\"twist_angle\"] = twist_angle\n",
    "    res.p[\"chi2dof\"] = res.chi2 / res.dof\n",
    "    fit_res.append(res.p)\n",
    "    \n",
    "fit_df = pd.DataFrame(fit_res)\n",
    "fit_df"
   ]
  },
  {
   "cell_type": "markdown",
   "metadata": {},
   "source": [
    "### Extrapolated binding energy depending on twist angle"
   ]
  },
  {
   "cell_type": "code",
   "execution_count": null,
   "metadata": {},
   "outputs": [],
   "source": [
    "angles = fit_df.twist_angle * np.pi\n",
    "\n",
    "fig, ax = plt.subplots(figsize=(3, 2), dpi=250)\n",
    "\n",
    "ax.errorbar(\n",
    "    angles,\n",
    "    gv.mean(fit_df.E0.values),\n",
    "    gv.sdev(fit_df.E0.values),\n",
    "    marker=\".\",\n",
    "    ls=\"None\",\n",
    "    capsize=2,\n",
    "    lw=1,\n",
    "    label=\"Fit\",\n",
    ")\n",
    "\n",
    "ax.axhline(\n",
    "    E_DEUTERON * HBARC, ls=\"--\", color=\"black\", zorder=-1, lw=1, label=\"Infinte Volume\"\n",
    ")\n",
    "\n",
    "ax.legend(loc=\"upper center\", fontsize=\"x-small\")\n",
    "ax.set_ylabel(\"$E_D$\")\n",
    "ax.set_xlabel(\"$\\phi$\")\n",
    "\n",
    "sns.despine()\n",
    "\n",
    "plt.show(fig)"
   ]
  },
  {
   "cell_type": "markdown",
   "metadata": {},
   "source": [
    "### Extracted leading FV energy shift amplitude depending on twist angle"
   ]
  },
  {
   "cell_type": "code",
   "execution_count": null,
   "metadata": {
    "scrolled": false
   },
   "outputs": [],
   "source": [
    "fig, ax = plt.subplots(figsize=(3, 2), dpi=250)\n",
    "\n",
    "ax.errorbar(\n",
    "    angles,\n",
    "    -gv.mean(fit_df.A_LO.values) / gv.mean(fit_df.A_LO.iloc[0]),\n",
    "    gv.sdev(fit_df.A_LO.values) / gv.mean(fit_df.A_LO.iloc[0]),\n",
    "    marker=\".\",\n",
    "    ls=\"None\",\n",
    "    capsize=2,\n",
    "    lw=1,\n",
    "    label=\"Fit\",\n",
    ")\n",
    "\n",
    "phi_grid = np.linspace(0, np.pi * 2, 100)\n",
    "ax.plot(phi_grid, -np.cos(phi_grid), label=\"Theory\", zorder=-1)\n",
    "\n",
    "ax.legend(loc=\"upper right\", fontsize=\"x-small\")\n",
    "ax.set_ylabel(r\"$\\frac{A^{(LO)}(\\phi)}{A^{(LO)}(0)}$\")\n",
    "ax.set_xlabel(\"$\\phi$\")\n",
    "\n",
    "sns.despine()\n",
    "\n",
    "plt.show(fig)"
   ]
  },
  {
   "cell_type": "markdown",
   "metadata": {},
   "source": [
    "## Discussion"
   ]
  },
  {
   "cell_type": "markdown",
   "metadata": {},
   "source": [
    "See [[1511.06598]](https://arxiv.org/abs/1511.06598v1) section IV and following."
   ]
  }
 ],
 "metadata": {
  "kernelspec": {
   "display_name": "Python 3",
   "language": "python",
   "name": "python3"
  },
  "language_info": {
   "codemirror_mode": {
    "name": "ipython",
    "version": 3
   },
   "file_extension": ".py",
   "mimetype": "text/x-python",
   "name": "python",
   "nbconvert_exporter": "python",
   "pygments_lexer": "ipython3",
   "version": "3.7.0"
  }
 },
 "nbformat": 4,
 "nbformat_minor": 2
}
