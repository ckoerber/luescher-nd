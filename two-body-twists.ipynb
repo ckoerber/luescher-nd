{
 "cells": [
  {
   "cell_type": "markdown",
   "metadata": {},
   "source": [
    "# Two-body twisted boundary conditions"
   ]
  },
  {
   "cell_type": "markdown",
   "metadata": {},
   "source": [
    "This notebook provides a minimal description how to implement twisted boundary conditions for a non-relativistc two-body quantum system following the publication [[1511.06598]](https://arxiv.org/abs/1511.06598v1)."
   ]
  },
  {
   "cell_type": "markdown",
   "metadata": {},
   "source": [
    "## Initialization"
   ]
  },
  {
   "cell_type": "code",
   "execution_count": 1,
   "metadata": {},
   "outputs": [],
   "source": [
    "# Python modules\n",
    "import itertools\n",
    "from dataclasses import dataclass\n",
    "from dataclasses import field\n",
    "from typing import Dict\n",
    "import time\n",
    "\n",
    "# Numerical modules\n",
    "import numpy as np\n",
    "import scipy.sparse as sp\n",
    "import scipy.sparse.linalg as lina\n",
    "import scipy.optimize as opt\n",
    "\n",
    "# Data handeling\n",
    "import pandas as pd\n",
    "\n",
    "# Plotting\n",
    "import seaborn as sns\n",
    "import matplotlib.pylab as plt\n",
    "\n",
    "# Fitting\n",
    "import lsqfit\n",
    "import gvar as gv\n",
    "\n",
    "%load_ext blackcellmagic"
   ]
  },
  {
   "cell_type": "markdown",
   "metadata": {},
   "source": [
    "### Parameters"
   ]
  },
  {
   "cell_type": "code",
   "execution_count": 2,
   "metadata": {},
   "outputs": [],
   "source": [
    "HBARC = 197.326 # MeV / fm\n",
    "E_DEUTERON = - 2.225 / HBARC\n",
    "M_NUCLEON = (938.27 + 939.57) / 2 / HBARC\n",
    "\n",
    "NDIM_MAX = 3\n",
    "N1D_MAX = 20\n",
    "LATTICE_SPACING = 1.97"
   ]
  },
  {
   "cell_type": "markdown",
   "metadata": {},
   "source": [
    "# Introduction"
   ]
  },
  {
   "cell_type": "markdown",
   "metadata": {},
   "source": [
    "### Kinetic Hamiltonian"
   ]
  },
  {
   "cell_type": "code",
   "execution_count": null,
   "metadata": {},
   "outputs": [],
   "source": [
    "def get_kinetic_hamiltonian(\n",
    "    n1d_max: int,\n",
    "    twist_angle: float = 0.0,\n",
    "    lattice_spacing: float = 1.0,\n",
    "    particle_mass: float = M_NUCLEON,\n",
    "    ndim_max: int = 3,\n",
    "    derivative_shifts: Dict[int, float] = {-1: 1.0, 0: -2.0, 1: 1.0},\n",
    ") -> sp.csr_matrix:\n",
    "    \"\"\"Computes the kinetic Hamiltonian for a relative two-body system in a 3D box.\n",
    "    \n",
    "    The kinetic Hamiltonian is defined by\n",
    "        `H0 = - Laplace / 2 /(2 particle_mass)` \n",
    "    Where Laplace is the lattice laplace operator with twisted boundary conditions.\n",
    "    \n",
    "    Arguments\n",
    "    ---------\n",
    "        n1d_max: int\n",
    "            Spatial dimension of lattice in any direction.\n",
    "        \n",
    "        twist_angle: float\n",
    "            The total amount of twist.\n",
    "            \n",
    "        lattice_spacing: float\n",
    "            The lattice spacing in fermi.\n",
    "            \n",
    "        particle_mass: float\n",
    "            The mass of the particles to be described in inverse fermi.\n",
    "        \n",
    "        ndim_max: float\n",
    "            The number of spatial dimensions.\n",
    "        \n",
    "        derivative_shifts: Dict[int, float]\n",
    "            The implementation of the numerical laplace operator.\n",
    "            E.g., for a one step derivative \n",
    "                `d2f/dx2(n) = sum(\n",
    "                    c_i * f(n + s_i) * exp(1j * twist_angle/n1d_max * s_i)\n",
    "                )/lattice_spacing**2`\n",
    "            where s_i and c_i are the keys and values of derivative_shifts.\n",
    "            \n",
    "            \n",
    "    \"\"\"\n",
    "    data = sp.lil_matrix((n1d_max ** ndim_max, n1d_max ** ndim_max), dtype=complex)\n",
    "\n",
    "    modified_shifts = {\n",
    "        key: val\n",
    "        / lattice_spacing ** 2\n",
    "        / 2\n",
    "        / (particle_mass / 2)\n",
    "        * np.exp(1j * twist_angle / n1d_max * key)\n",
    "        for key, val in derivative_shifts.items()\n",
    "    }\n",
    "\n",
    "    for nr in range(n1d_max ** ndim_max):\n",
    "        nr_subtracted = nr\n",
    "        n1d_pow_ndim = 1\n",
    "\n",
    "        for ndim in range(ndim_max):\n",
    "            nxi = (nr_subtracted % (n1d_pow_ndim * n1d_max)) // n1d_pow_ndim\n",
    "            nr_subtracted -= nxi * n1d_pow_ndim\n",
    "\n",
    "            for shift, coeff in modified_shifts.items():\n",
    "                nr_shift = nr + n1d_pow_ndim * (\n",
    "                    -nxi + (nxi + shift + n1d_max * 10) % n1d_max\n",
    "                )\n",
    "                data[(nr, nr_shift)] -= coeff\n",
    "\n",
    "            n1d_pow_ndim *= n1d_max\n",
    "\n",
    "    return data.tocsr()\n"
   ]
  },
  {
   "cell_type": "markdown",
   "metadata": {},
   "source": [
    "## Potential"
   ]
  },
  {
   "cell_type": "code",
   "execution_count": 4,
   "metadata": {},
   "outputs": [],
   "source": [
    "def get_full_hamiltonian(\n",
    "    kinetic_hamiltonian: sp.csr_matrix, contact_strength: float\n",
    ") -> sp.csr_matrix:\n",
    "    \"\"\"Copies the kinetic Hamiltonian and subtracts contact_strength from the (0, 0) component.\n",
    "    \n",
    "    Computes `H = H0 + V`, where `V = contact_strength * delta(nr, 0)` and `nr` is ther relative\n",
    "    distance in the two particle system.\n",
    "    \n",
    "    Arguments\n",
    "    ---------\n",
    "        kinetic_hamiltonian: sparse matrix\n",
    "            The kinetic two-body lattice Hamiltonian.\n",
    "            \n",
    "        contact_strength: float\n",
    "            The strength of the contact interaction in respective units.\n",
    "            This depends on the dimension of the problem, e.g., [fm]**(-1 - ndim).\n",
    "    \"\"\"\n",
    "    hamiltonian = kinetic_hamiltonian.copy()\n",
    "    hamiltonian[0, 0] += contact_strength\n",
    "    return hamiltonian\n"
   ]
  },
  {
   "cell_type": "markdown",
   "metadata": {},
   "source": [
    "## Solver"
   ]
  },
  {
   "cell_type": "markdown",
   "metadata": {},
   "source": [
    "A helper class which is used for computing the eigenvalues "
   ]
  },
  {
   "cell_type": "code",
   "execution_count": 218,
   "metadata": {},
   "outputs": [],
   "source": [
    "@dataclass\n",
    "class Solver:\n",
    "    \"\"\"Solver for fast eigenvalue access depending on contact interaction strength.\n",
    "    \"\"\"\n",
    "\n",
    "    n1d_max: int\n",
    "    twist_angle: float = 0.0\n",
    "    lattice_spacing: float = 1.0\n",
    "    particle_mass: float = M_NUCLEON\n",
    "    ndim_max: int = 3\n",
    "    derivative_shifts: Dict[int, float] = field(\n",
    "        default_factory=lambda: {\n",
    "            -4: -1.0 / 560.0,\n",
    "            -3: 8.0 / 315.0,\n",
    "            -2: -1.0 / 5.0,\n",
    "            -1: 8.0 / 5.0,\n",
    "            +0: -205.0 / 72.0,\n",
    "            +1: 8.0 / 5.0,\n",
    "            +2: -1.0 / 5.0,\n",
    "            +3: 8.0 / 315.0,\n",
    "            +4: -1.0 / 560.0,\n",
    "\n",
    "        }\n",
    "    )\n",
    "    kinetic_hamiltonian: sp.lil_matrix = field(init=False, repr=False)\n",
    "\n",
    "    def __post_init__(self):\n",
    "        self.kinetic_hamiltonian = get_kinetic_hamiltonian(\n",
    "            self.n1d_max,\n",
    "            self.twist_angle,\n",
    "            self.lattice_spacing,\n",
    "            self.particle_mass,\n",
    "            self.ndim_max,\n",
    "            self.derivative_shifts,\n",
    "        )\n",
    "\n",
    "    def get_ground_state(self, contact_strength: float, **kwargs) -> float:\n",
    "        \"\"\"Returns smallest algebraic eigenvalue in of Hamiltonian in `[fm]`\n",
    "        \n",
    "        Arguments\n",
    "        ---------\n",
    "            contact_strength: float\n",
    "                The strength of the contact interaction in respective units.\n",
    "                This depends on the dimension of the problem, e.g., [fm]**(-1 - ndim).\n",
    "                \n",
    "            kwargs:\n",
    "                Additional keyword arguments passed to `eigsh` solver.\n",
    "        \"\"\"\n",
    "        H = get_full_hamiltonian(self.kinetic_hamiltonian, contact_strength)\n",
    "        return lina.eigsh(H, k=1, which=\"SA\", **kwargs)[0][0]\n"
   ]
  },
  {
   "cell_type": "markdown",
   "metadata": {},
   "source": [
    "## Fit to deuteron binding energy"
   ]
  },
  {
   "cell_type": "markdown",
   "metadata": {},
   "source": [
    "The contact interaction strength is fitted to binding energies at large volumes."
   ]
  },
  {
   "cell_type": "markdown",
   "metadata": {},
   "source": [
    "The ground state wave function is of the form\n",
    "$$\n",
    "    f(r) \\sim \\frac{\\exp\\{-\\kappa r\\}}{r} \\, , \\quad \\kappa^2 = M_N | E_B| \\, .\n",
    "$$\n",
    "This information can be used to accelerate computation by making an educated guess for the ground state:"
   ]
  },
  {
   "cell_type": "code",
   "execution_count": 256,
   "metadata": {},
   "outputs": [],
   "source": [
    "r = []\n",
    "for nxi in itertools.product(*[range(N1D_MAX)] * NDIM_MAX):\n",
    "    r.append(np.sqrt(np.sum(np.array(nxi) ** 2)) * LATTICE_SPACING)\n",
    "r = np.array(r)\n",
    "\n",
    "kappa = np.sqrt(M_NUCLEON * abs(E_DEUTERON))\n",
    "\n",
    "psi0 = np.exp(-kappa * r) / (r + 1.e-7)\n",
    "psi0 /= np.sqrt(psi0 @ psi0)"
   ]
  },
  {
   "cell_type": "markdown",
   "metadata": {},
   "source": [
    "**This might take a while**"
   ]
  },
  {
   "cell_type": "code",
   "execution_count": 257,
   "metadata": {},
   "outputs": [
    {
     "name": "stdout",
     "output_type": "stream",
     "text": [
      "Contact strength: -3.1676e-01 with ground state -2.225 [MeV]\n"
     ]
    }
   ],
   "source": [
    "solver = Solver(n1d_max=N1D_MAX, ndim_max=NDIM_MAX, lattice_spacing=LATTICE_SPACING)\n",
    "res = opt.minimize(\n",
    "    lambda c: (solver.get_ground_state(c, v0=psi0) - E_DEUTERON)**2, -10.0\n",
    ")\n",
    "C0 = res.x[0]\n",
    "\n",
    "H = get_full_hamiltonian(solver.kinetic_hamiltonian, C0)\n",
    "fitted_ground_state = lina.eigsh(H, k=1, which=\"SA\")[0][0]*HBARC\n",
    "\n",
    "print(f\"Contact strength: {C0:1.4e} with ground state {fitted_ground_state:1.3f} [MeV]\")"
   ]
  },
  {
   "cell_type": "markdown",
   "metadata": {},
   "source": [
    "## Twist computation"
   ]
  },
  {
   "cell_type": "code",
   "execution_count": 279,
   "metadata": {},
   "outputs": [
    {
     "name": "stdout",
     "output_type": "stream",
     "text": [
      "2\n",
      "4\n",
      "6\n",
      "8\n",
      "10\n",
      "12\n",
      "14\n",
      "16\n",
      "18\n"
     ]
    },
    {
     "data": {
      "text/html": [
       "<div>\n",
       "<style scoped>\n",
       "    .dataframe tbody tr th:only-of-type {\n",
       "        vertical-align: middle;\n",
       "    }\n",
       "\n",
       "    .dataframe tbody tr th {\n",
       "        vertical-align: top;\n",
       "    }\n",
       "\n",
       "    .dataframe thead th {\n",
       "        text-align: right;\n",
       "    }\n",
       "</style>\n",
       "<table border=\"1\" class=\"dataframe\">\n",
       "  <thead>\n",
       "    <tr style=\"text-align: right;\">\n",
       "      <th></th>\n",
       "      <th>E_L</th>\n",
       "      <th>L</th>\n",
       "      <th>cpu_time</th>\n",
       "      <th>n1d</th>\n",
       "      <th>twist_angle</th>\n",
       "    </tr>\n",
       "  </thead>\n",
       "  <tbody>\n",
       "    <tr>\n",
       "      <th>0</th>\n",
       "      <td>-14.639848</td>\n",
       "      <td>3.94</td>\n",
       "      <td>0.001938</td>\n",
       "      <td>2</td>\n",
       "      <td>0.0</td>\n",
       "    </tr>\n",
       "    <tr>\n",
       "      <th>1</th>\n",
       "      <td>-13.986749</td>\n",
       "      <td>3.94</td>\n",
       "      <td>0.001457</td>\n",
       "      <td>2</td>\n",
       "      <td>0.1</td>\n",
       "    </tr>\n",
       "    <tr>\n",
       "      <th>2</th>\n",
       "      <td>-12.051129</td>\n",
       "      <td>3.94</td>\n",
       "      <td>0.000960</td>\n",
       "      <td>2</td>\n",
       "      <td>0.2</td>\n",
       "    </tr>\n",
       "    <tr>\n",
       "      <th>3</th>\n",
       "      <td>-8.912378</td>\n",
       "      <td>3.94</td>\n",
       "      <td>0.000724</td>\n",
       "      <td>2</td>\n",
       "      <td>0.3</td>\n",
       "    </tr>\n",
       "    <tr>\n",
       "      <th>4</th>\n",
       "      <td>-4.733997</td>\n",
       "      <td>3.94</td>\n",
       "      <td>0.001115</td>\n",
       "      <td>2</td>\n",
       "      <td>0.4</td>\n",
       "    </tr>\n",
       "  </tbody>\n",
       "</table>\n",
       "</div>"
      ],
      "text/plain": [
       "         E_L     L  cpu_time  n1d  twist_angle\n",
       "0 -14.639848  3.94  0.001938    2          0.0\n",
       "1 -13.986749  3.94  0.001457    2          0.1\n",
       "2 -12.051129  3.94  0.000960    2          0.2\n",
       "3  -8.912378  3.94  0.000724    2          0.3\n",
       "4  -4.733997  3.94  0.001115    2          0.4"
      ]
     },
     "execution_count": 279,
     "metadata": {},
     "output_type": "execute_result"
    }
   ],
   "source": [
    "data = []\n",
    "\n",
    "for n1d in range(2, N1D_MAX, 2):\n",
    "    print(n1d)\n",
    "    for twist_angle in np.linspace(0, 2*np.pi, 21):\n",
    "        solver = Solver(\n",
    "            n1d_max=n1d,\n",
    "            ndim_max=NDIM_MAX,\n",
    "            lattice_spacing=LATTICE_SPACING,\n",
    "            twist_angle=twist_angle,\n",
    "        )\n",
    "\n",
    "        t_start = time.time_ns()\n",
    "\n",
    "        EL = solver.get_ground_state(C0)\n",
    "\n",
    "        t_end = time.time_ns()\n",
    "\n",
    "        data.append(\n",
    "            {\n",
    "                \"E_L\": EL*HBARC,\n",
    "                \"n1d\": n1d,\n",
    "                \"twist_angle\": twist_angle/np.pi,\n",
    "                \"L\": n1d * LATTICE_SPACING,\n",
    "                \"cpu_time\": (t_end - t_start) / 10 ** 9,\n",
    "            }\n",
    "        )\n",
    "\n",
    "df = pd.DataFrame(data)\n",
    "\n",
    "df.head()"
   ]
  },
  {
   "cell_type": "code",
   "execution_count": 361,
   "metadata": {
    "scrolled": false
   },
   "outputs": [
    {
     "data": {
      "image/png": "[encoded data removed]",
      "text/plain": [
       "<Figure size 1125x750 with 1 Axes>"
      ]
     },
     "metadata": {},
     "output_type": "display_data"
    }
   ],
   "source": [
    "g = sns.lmplot(\n",
    "    x=\"L\",\n",
    "    y=\"E_L\",\n",
    "    hue=\"twist_angle\",\n",
    "    data=df.where( (df.twist_angle * 10) % 2 != 1).query(\"twist_angle <= 1.0\"),\n",
    "    fit_reg=False,\n",
    "    legend=False,\n",
    "    height=3,\n",
    "    aspect=1.5,\n",
    ")\n",
    "\n",
    "# Use more informative axis labels than are provided by default\n",
    "g.set_axis_labels(\"$L$ [fm]\", \"$E_L$ [MeV]\")\n",
    "g.fig.set_dpi(250)\n",
    "g.fig.legend(title=\"$\\phi / \\pi$\", loc=\"upper right\", fontsize=\"small\")\n",
    "\n",
    "g.ax.axhline(E_DEUTERON*HBARC, ls=\"--\", color=\"black\", zorder=-1, lw=1)\n",
    "g.ax.set_ylim(-5, 2)\n",
    "\n",
    "plt.show(g)"
   ]
  },
  {
   "cell_type": "markdown",
   "metadata": {},
   "source": [
    "## Fitting"
   ]
  },
  {
   "cell_type": "code",
   "execution_count": 340,
   "metadata": {},
   "outputs": [
    {
     "data": {
      "text/plain": [
       "array([-3(46), -3.0(8.1), -3.0(5.2), -3.0(5.0), -3.0(5.0), -3.0(5.0),\n",
       "       -3.0(5.0), -3.0(5.0), -3.0(5.0)], dtype=object)"
      ]
     },
     "execution_count": 340,
     "metadata": {},
     "output_type": "execute_result"
    }
   ],
   "source": [
    "def multi_exp(L, pars):\n",
    "    \"\"\"\n",
    "    \"\"\"\n",
    "    y = pars[\"E0\"]\n",
    "    \n",
    "    g0 = gv.sqrt( -pars[\"E0\"] / HBARC * M_NUCLEON)\n",
    "    y += pars[\"A0\"] * gv.exp(-g0 * L) / L /  g0\n",
    "    y += pars[\"A1\"] * gv.exp(-g0*np.sqrt(2) * L) / L /  g0\n",
    "    y += pars[\"A2\"] * gv.exp(-g0 * L) / L**2 /g0**2\n",
    "    return y\n",
    "\n",
    "    \n",
    "   \n",
    "def make_prior():\n",
    "    \"\"\"\n",
    "    \"\"\"\n",
    "    return {\n",
    "        \"E0\": gv.gvar(-3.0, 5.0),\n",
    "        \"A0\": gv.gvar(0.0, 100.0),\n",
    "        \"A2\": gv.gvar(0.0, 100.0),\n",
    "        \"A1\": gv.gvar(0.0, 50.0),\n",
    "    }\n",
    "\n",
    "multi_exp(df.L.unique(), make_prior())"
   ]
  },
  {
   "cell_type": "code",
   "execution_count": 362,
   "metadata": {},
   "outputs": [
    {
     "data": {
      "text/html": [
       "<div>\n",
       "<style scoped>\n",
       "    .dataframe tbody tr th:only-of-type {\n",
       "        vertical-align: middle;\n",
       "    }\n",
       "\n",
       "    .dataframe tbody tr th {\n",
       "        vertical-align: top;\n",
       "    }\n",
       "\n",
       "    .dataframe thead th {\n",
       "        text-align: right;\n",
       "    }\n",
       "</style>\n",
       "<table border=\"1\" class=\"dataframe\">\n",
       "  <thead>\n",
       "    <tr style=\"text-align: right;\">\n",
       "      <th></th>\n",
       "      <th>A0</th>\n",
       "      <th>A1</th>\n",
       "      <th>A2</th>\n",
       "      <th>E0</th>\n",
       "      <th>chi2dof</th>\n",
       "      <th>twist_angle</th>\n",
       "    </tr>\n",
       "  </thead>\n",
       "  <tbody>\n",
       "    <tr>\n",
       "      <th>0</th>\n",
       "      <td>-41.87(69)</td>\n",
       "      <td>47.3(2.8)</td>\n",
       "      <td>-17.1(1.1)</td>\n",
       "      <td>-2.2216(24)</td>\n",
       "      <td>0.363002</td>\n",
       "      <td>0.0</td>\n",
       "    </tr>\n",
       "    <tr>\n",
       "      <th>1</th>\n",
       "      <td>-39.43(69)</td>\n",
       "      <td>43.7(2.8)</td>\n",
       "      <td>-15.7(1.1)</td>\n",
       "      <td>-2.2219(24)</td>\n",
       "      <td>0.318135</td>\n",
       "      <td>0.1</td>\n",
       "    </tr>\n",
       "    <tr>\n",
       "      <th>2</th>\n",
       "      <td>-32.58(70)</td>\n",
       "      <td>34.1(2.8)</td>\n",
       "      <td>-11.9(1.1)</td>\n",
       "      <td>-2.2225(24)</td>\n",
       "      <td>0.205795</td>\n",
       "      <td>0.2</td>\n",
       "    </tr>\n",
       "    <tr>\n",
       "      <th>3</th>\n",
       "      <td>-22.68(71)</td>\n",
       "      <td>21.5(2.9)</td>\n",
       "      <td>-6.6(1.2)</td>\n",
       "      <td>-2.2233(24)</td>\n",
       "      <td>0.086567</td>\n",
       "      <td>0.3</td>\n",
       "    </tr>\n",
       "    <tr>\n",
       "      <th>4</th>\n",
       "      <td>-11.66(73)</td>\n",
       "      <td>9.5(2.9)</td>\n",
       "      <td>-0.5(1.2)</td>\n",
       "      <td>-2.2241(24)</td>\n",
       "      <td>0.019512</td>\n",
       "      <td>0.4</td>\n",
       "    </tr>\n",
       "    <tr>\n",
       "      <th>5</th>\n",
       "      <td>-1.43(74)</td>\n",
       "      <td>0.08(2.94)</td>\n",
       "      <td>6.2(1.2)</td>\n",
       "      <td>-2.2245(24)</td>\n",
       "      <td>0.004390</td>\n",
       "      <td>0.5</td>\n",
       "    </tr>\n",
       "    <tr>\n",
       "      <th>6</th>\n",
       "      <td>6.92(76)</td>\n",
       "      <td>-8.3(3.0)</td>\n",
       "      <td>14.5(1.2)</td>\n",
       "      <td>-2.2244(24)</td>\n",
       "      <td>0.010738</td>\n",
       "      <td>0.6</td>\n",
       "    </tr>\n",
       "    <tr>\n",
       "      <th>7</th>\n",
       "      <td>13.25(77)</td>\n",
       "      <td>-17.3(3.0)</td>\n",
       "      <td>23.9(1.2)</td>\n",
       "      <td>-2.2241(24)</td>\n",
       "      <td>0.033771</td>\n",
       "      <td>0.7</td>\n",
       "    </tr>\n",
       "    <tr>\n",
       "      <th>8</th>\n",
       "      <td>17.75(78)</td>\n",
       "      <td>-25.8(3.0)</td>\n",
       "      <td>32.3(1.2)</td>\n",
       "      <td>-2.2238(24)</td>\n",
       "      <td>0.069485</td>\n",
       "      <td>0.8</td>\n",
       "    </tr>\n",
       "    <tr>\n",
       "      <th>9</th>\n",
       "      <td>20.46(78)</td>\n",
       "      <td>-31.5(3.0)</td>\n",
       "      <td>37.6(1.2)</td>\n",
       "      <td>-2.2236(24)</td>\n",
       "      <td>0.101724</td>\n",
       "      <td>0.9</td>\n",
       "    </tr>\n",
       "    <tr>\n",
       "      <th>10</th>\n",
       "      <td>21.37(78)</td>\n",
       "      <td>-33.5(3.0)</td>\n",
       "      <td>39.4(1.2)</td>\n",
       "      <td>-2.2235(24)</td>\n",
       "      <td>0.114602</td>\n",
       "      <td>1.0</td>\n",
       "    </tr>\n",
       "    <tr>\n",
       "      <th>11</th>\n",
       "      <td>20.46(78)</td>\n",
       "      <td>-31.5(3.0)</td>\n",
       "      <td>37.6(1.2)</td>\n",
       "      <td>-2.2236(24)</td>\n",
       "      <td>0.101724</td>\n",
       "      <td>1.1</td>\n",
       "    </tr>\n",
       "    <tr>\n",
       "      <th>12</th>\n",
       "      <td>17.75(78)</td>\n",
       "      <td>-25.8(3.0)</td>\n",
       "      <td>32.3(1.2)</td>\n",
       "      <td>-2.2238(24)</td>\n",
       "      <td>0.069485</td>\n",
       "      <td>1.2</td>\n",
       "    </tr>\n",
       "    <tr>\n",
       "      <th>13</th>\n",
       "      <td>13.25(77)</td>\n",
       "      <td>-17.3(3.0)</td>\n",
       "      <td>23.9(1.2)</td>\n",
       "      <td>-2.2241(24)</td>\n",
       "      <td>0.033771</td>\n",
       "      <td>1.3</td>\n",
       "    </tr>\n",
       "    <tr>\n",
       "      <th>14</th>\n",
       "      <td>6.92(76)</td>\n",
       "      <td>-8.3(3.0)</td>\n",
       "      <td>14.5(1.2)</td>\n",
       "      <td>-2.2244(24)</td>\n",
       "      <td>0.010738</td>\n",
       "      <td>1.4</td>\n",
       "    </tr>\n",
       "    <tr>\n",
       "      <th>15</th>\n",
       "      <td>-1.43(74)</td>\n",
       "      <td>0.08(2.94)</td>\n",
       "      <td>6.2(1.2)</td>\n",
       "      <td>-2.2245(24)</td>\n",
       "      <td>0.004390</td>\n",
       "      <td>1.5</td>\n",
       "    </tr>\n",
       "    <tr>\n",
       "      <th>16</th>\n",
       "      <td>-11.66(73)</td>\n",
       "      <td>9.5(2.9)</td>\n",
       "      <td>-0.5(1.2)</td>\n",
       "      <td>-2.2241(24)</td>\n",
       "      <td>0.019512</td>\n",
       "      <td>1.6</td>\n",
       "    </tr>\n",
       "    <tr>\n",
       "      <th>17</th>\n",
       "      <td>-22.68(71)</td>\n",
       "      <td>21.5(2.9)</td>\n",
       "      <td>-6.6(1.2)</td>\n",
       "      <td>-2.2233(24)</td>\n",
       "      <td>0.086567</td>\n",
       "      <td>1.7</td>\n",
       "    </tr>\n",
       "    <tr>\n",
       "      <th>18</th>\n",
       "      <td>-32.58(70)</td>\n",
       "      <td>34.1(2.8)</td>\n",
       "      <td>-11.9(1.1)</td>\n",
       "      <td>-2.2225(24)</td>\n",
       "      <td>0.205795</td>\n",
       "      <td>1.8</td>\n",
       "    </tr>\n",
       "    <tr>\n",
       "      <th>19</th>\n",
       "      <td>-39.43(69)</td>\n",
       "      <td>43.7(2.8)</td>\n",
       "      <td>-15.7(1.1)</td>\n",
       "      <td>-2.2219(24)</td>\n",
       "      <td>0.318135</td>\n",
       "      <td>1.9</td>\n",
       "    </tr>\n",
       "    <tr>\n",
       "      <th>20</th>\n",
       "      <td>-41.87(69)</td>\n",
       "      <td>47.3(2.8)</td>\n",
       "      <td>-17.1(1.1)</td>\n",
       "      <td>-2.2216(24)</td>\n",
       "      <td>0.363002</td>\n",
       "      <td>2.0</td>\n",
       "    </tr>\n",
       "  </tbody>\n",
       "</table>\n",
       "</div>"
      ],
      "text/plain": [
       "            A0          A1          A2           E0   chi2dof  twist_angle\n",
       "0   -41.87(69)   47.3(2.8)  -17.1(1.1)  -2.2216(24)  0.363002          0.0\n",
       "1   -39.43(69)   43.7(2.8)  -15.7(1.1)  -2.2219(24)  0.318135          0.1\n",
       "2   -32.58(70)   34.1(2.8)  -11.9(1.1)  -2.2225(24)  0.205795          0.2\n",
       "3   -22.68(71)   21.5(2.9)   -6.6(1.2)  -2.2233(24)  0.086567          0.3\n",
       "4   -11.66(73)    9.5(2.9)   -0.5(1.2)  -2.2241(24)  0.019512          0.4\n",
       "5    -1.43(74)  0.08(2.94)    6.2(1.2)  -2.2245(24)  0.004390          0.5\n",
       "6     6.92(76)   -8.3(3.0)   14.5(1.2)  -2.2244(24)  0.010738          0.6\n",
       "7    13.25(77)  -17.3(3.0)   23.9(1.2)  -2.2241(24)  0.033771          0.7\n",
       "8    17.75(78)  -25.8(3.0)   32.3(1.2)  -2.2238(24)  0.069485          0.8\n",
       "9    20.46(78)  -31.5(3.0)   37.6(1.2)  -2.2236(24)  0.101724          0.9\n",
       "10   21.37(78)  -33.5(3.0)   39.4(1.2)  -2.2235(24)  0.114602          1.0\n",
       "11   20.46(78)  -31.5(3.0)   37.6(1.2)  -2.2236(24)  0.101724          1.1\n",
       "12   17.75(78)  -25.8(3.0)   32.3(1.2)  -2.2238(24)  0.069485          1.2\n",
       "13   13.25(77)  -17.3(3.0)   23.9(1.2)  -2.2241(24)  0.033771          1.3\n",
       "14    6.92(76)   -8.3(3.0)   14.5(1.2)  -2.2244(24)  0.010738          1.4\n",
       "15   -1.43(74)  0.08(2.94)    6.2(1.2)  -2.2245(24)  0.004390          1.5\n",
       "16  -11.66(73)    9.5(2.9)   -0.5(1.2)  -2.2241(24)  0.019512          1.6\n",
       "17  -22.68(71)   21.5(2.9)   -6.6(1.2)  -2.2233(24)  0.086567          1.7\n",
       "18  -32.58(70)   34.1(2.8)  -11.9(1.1)  -2.2225(24)  0.205795          1.8\n",
       "19  -39.43(69)   43.7(2.8)  -15.7(1.1)  -2.2219(24)  0.318135          1.9\n",
       "20  -41.87(69)   47.3(2.8)  -17.1(1.1)  -2.2216(24)  0.363002          2.0"
      ]
     },
     "execution_count": 362,
     "metadata": {},
     "output_type": "execute_result"
    }
   ],
   "source": [
    "fit_res = []\n",
    "\n",
    "for twist_angle in df.twist_angle.unique():\n",
    "    fit_data = df.query(\"twist_angle == @twist_angle\")\n",
    "\n",
    "\n",
    "    res = lsqfit.nonlinear_fit(\n",
    "        data=(\n",
    "            fit_data.L.values,\n",
    "            gv.gvar(fit_data.E_L.values, [0.005] * fit_data.E_L.values.size),\n",
    "        ),\n",
    "        fcn=multi_exp,\n",
    "        prior=make_prior(),\n",
    "    )\n",
    "    res.p[\"twist_angle\"] = twist_angle\n",
    "    res.p[\"chi2dof\"] = res.chi2 / res.dof\n",
    "    fit_res.append(res.p)\n",
    "    \n",
    "fit_df = pd.DataFrame(fit_res)\n",
    "fit_df"
   ]
  },
  {
   "cell_type": "code",
   "execution_count": 363,
   "metadata": {},
   "outputs": [
    {
     "data": {
      "text/plain": [
       "[<matplotlib.lines.Line2D at 0x1205aedd8>]"
      ]
     },
     "execution_count": 363,
     "metadata": {},
     "output_type": "execute_result"
    },
    {
     "data": {
      "image/png": "[encoded data removed]",
      "text/plain": [
       "<Figure size 432x288 with 1 Axes>"
      ]
     },
     "metadata": {},
     "output_type": "display_data"
    }
   ],
   "source": [
    "angles = fit_df.twist_angle * np.pi\n",
    "plt.errorbar(\n",
    "    angles,\n",
    "    -gv.mean(fit_df.A0.values) / gv.mean(fit_df.A0.iloc[0]),\n",
    "    gv.sdev(fit_df.A0.values) / gv.mean(fit_df.A0.iloc[0]),\n",
    "    marker=\".\",\n",
    "    ls=\"None\",\n",
    ")\n",
    "plt.plot(angles, -np.cos(angles))\n"
   ]
  },
  {
   "cell_type": "code",
   "execution_count": 364,
   "metadata": {},
   "outputs": [
    {
     "data": {
      "text/plain": [
       "<ErrorbarContainer object of 3 artists>"
      ]
     },
     "execution_count": 364,
     "metadata": {},
     "output_type": "execute_result"
    },
    {
     "data": {
      "image/png": "[encoded data removed]",
      "text/plain": [
       "<Figure size 432x288 with 1 Axes>"
      ]
     },
     "metadata": {},
     "output_type": "display_data"
    }
   ],
   "source": [
    "plt.errorbar(\n",
    "    angles,\n",
    "    -gv.mean(fit_df.A1.values) / gv.mean(fit_df.A1.iloc[0]),\n",
    "    gv.sdev(fit_df.A1.values) / gv.mean(fit_df.A1.iloc[0]),\n",
    "    marker=\".\",\n",
    "    ls=\"None\",\n",
    ")"
   ]
  },
  {
   "cell_type": "code",
   "execution_count": 365,
   "metadata": {},
   "outputs": [
    {
     "data": {
      "text/plain": [
       "<ErrorbarContainer object of 3 artists>"
      ]
     },
     "execution_count": 365,
     "metadata": {},
     "output_type": "execute_result"
    },
    {
     "data": {
      "image/png": "[encoded data removed]",
      "text/plain": [
       "<Figure size 432x288 with 1 Axes>"
      ]
     },
     "metadata": {},
     "output_type": "display_data"
    }
   ],
   "source": [
    "plt.errorbar(\n",
    "    angles,\n",
    "    -gv.mean(fit_df.A2.values) / gv.mean(fit_df.A2.iloc[0]),\n",
    "    gv.sdev(fit_df.A2.values) / gv.mean(fit_df.A2.iloc[0]),\n",
    "    marker=\".\",\n",
    "    ls=\"None\",\n",
    ")"
   ]
  },
  {
   "cell_type": "code",
   "execution_count": 366,
   "metadata": {},
   "outputs": [
    {
     "data": {
      "text/plain": [
       "<ErrorbarContainer object of 3 artists>"
      ]
     },
     "execution_count": 366,
     "metadata": {},
     "output_type": "execute_result"
    },
    {
     "data": {
      "image/png": "[encoded data removed]",
      "text/plain": [
       "<Figure size 432x288 with 1 Axes>"
      ]
     },
     "metadata": {},
     "output_type": "display_data"
    }
   ],
   "source": [
    "angles = fit_df.twist_angle * np.pi\n",
    "plt.errorbar(\n",
    "    angles,\n",
    "    -gv.mean(fit_df.E0.values),\n",
    "    gv.sdev(fit_df.E0.values),\n",
    "    marker=\".\",\n",
    "    ls=\"None\",\n",
    ")\n",
    "\n"
   ]
  },
  {
   "cell_type": "code",
   "execution_count": null,
   "metadata": {},
   "outputs": [],
   "source": []
  }
 ],
 "metadata": {
  "kernelspec": {
   "display_name": "Python 3",
   "language": "python",
   "name": "python3"
  },
  "language_info": {
   "codemirror_mode": {
    "name": "ipython",
    "version": 3
   },
   "file_extension": ".py",
   "mimetype": "text/x-python",
   "name": "python",
   "nbconvert_exporter": "python",
   "pygments_lexer": "ipython3",
   "version": "3.7.0"
  }
 },
 "nbformat": 4,
 "nbformat_minor": 2
}
