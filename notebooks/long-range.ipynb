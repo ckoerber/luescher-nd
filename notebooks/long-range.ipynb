{
 "cells": [
  {
   "cell_type": "markdown",
   "metadata": {},
   "source": [
    "# Long range interaction"
   ]
  },
  {
   "cell_type": "markdown",
   "metadata": {},
   "source": [
    "Computation of long range phase shifts on the lattice.\n",
    "\n",
    "This notebook shall identify a local potential with long range components (non-zero effective range but sparse in coordinate or momentum space).\n",
    "Preferably, the result should be cutoff independent.\n",
    "For now, $S$-wave results are sufficinet.\n",
    "The current idea is to choose a potential which mimics chiral LO interactions (contact + one pion exchange) and numerically compute the phase shifts with high precision.\n",
    "\n",
    "$$\\renewcommand{\\vec}[1]{\\boldsymbol{#1}}$$\n",
    "\n",
    "---\n",
    "**Notes:** I first analyzed a separable potential $V(p, p') = - g^*(p) g(p')$ but this is very expensive to compute on the lattice (dense Hamiltonian).\n"
   ]
  },
  {
   "cell_type": "markdown",
   "metadata": {},
   "source": [
    "## Numerical compututation of phase shifts"
   ]
  },
  {
   "cell_type": "markdown",
   "metadata": {},
   "source": [
    "This section provides a numerical extraction of phase shifts."
   ]
  },
  {
   "cell_type": "markdown",
   "metadata": {},
   "source": [
    "### Init"
   ]
  },
  {
   "cell_type": "markdown",
   "metadata": {},
   "source": [
    "Modules:"
   ]
  },
  {
   "cell_type": "code",
   "execution_count": null,
   "metadata": {},
   "outputs": [],
   "source": [
    "import numpy as np\n",
    "from itertools import product\n",
    "import matplotlib.pylab as plt\n",
    "\n",
    "from opdens.utilities.mesh import trns"
   ]
  },
  {
   "cell_type": "markdown",
   "metadata": {},
   "source": [
    "Parameters (in MeV)"
   ]
  },
  {
   "cell_type": "code",
   "execution_count": null,
   "metadata": {},
   "outputs": [],
   "source": [
    "HBARC = 197\n",
    "mN = 939 /HBARC\n",
    "mu = mN / 2"
   ]
  },
  {
   "cell_type": "markdown",
   "metadata": {},
   "source": [
    "Momentum grid points:"
   ]
  },
  {
   "cell_type": "code",
   "execution_count": null,
   "metadata": {},
   "outputs": [],
   "source": [
    "p, wp = trns(40, 20)\n",
    "\n",
    "p = np.linspace(1.e-6, 20, 200)\n",
    "wp = np.ones(p.size) * (p[1] - p[0])\n",
    "\n",
    "H0 = np.diag(p**2 / 2 / mu)"
   ]
  },
  {
   "cell_type": "code",
   "execution_count": null,
   "metadata": {},
   "outputs": [],
   "source": [
    "1 / pp0**2"
   ]
  },
  {
   "cell_type": "code",
   "execution_count": null,
   "metadata": {},
   "outputs": [],
   "source": [
    "plt.plot(p, 2 * mu * wp / (pp0**2 - p**2), \"o\")"
   ]
  },
  {
   "cell_type": "code",
   "execution_count": null,
   "metadata": {},
   "outputs": [],
   "source": [
    "#p, wp = trns(100, 100)\n",
    "pp0 =  15\n",
    "\n",
    "\n",
    "gint = np.sum(2 * mu * wp / (pp0**2 - p**2 ))\n",
    "\n",
    "print(gint, np.log((p[-1] + pp0) / (p[-1] - pp0)) * mu / pp0 )\n",
    "print(np.log((p[-1] + pp0) / (p[-1] - pp0)) * mu / pp0 - gint)"
   ]
  },
  {
   "cell_type": "markdown",
   "metadata": {},
   "source": [
    "### Idea"
   ]
  },
  {
   "cell_type": "markdown",
   "metadata": {},
   "source": [
    "Compute the $T$-matrix numerically on a partial wave grid $\\left| k, \\alpha\\right\\rangle$\n",
    "\n",
    "\\begin{align}\n",
    "    T_{\\alpha'\\alpha}\\left(k^{\\prime}, k ; E\\right)\n",
    "    &=\n",
    "    V_{\\alpha'\\alpha}\\left(k^{\\prime}, k\\right)\n",
    "    +\n",
    "    \\sum_{\\alpha''}\n",
    "    \\int d q q^{2} \n",
    "    \\frac{V_{\\alpha'\\alpha''}\\left(k^{\\prime}, q\\right) T_{\\alpha''\\alpha}(q, k ; E)}{E-E_{q}+i \\epsilon}\n",
    "    \\\\\n",
    "    &=\n",
    "    V_{\\alpha'\\alpha}\\left(k^{\\prime}, k\\right)\n",
    "    +\n",
    "    \\sum_{\\alpha''}\\mathcal P \\int_{0}^{\\infty} d q q^{2} \n",
    "        \\frac{V_{\\alpha'\\alpha''}\\left(k^{\\prime}, q\\right) T_{\\alpha''\\alpha}(q, k ; E)}{E-E_{q}}\n",
    "    -  i \\pi \\sum_{\\alpha''}\\int_{0}^{\\infty} d q q^{2} V_{\\alpha'\\alpha''}\\left(k^{\\prime}, q\\right) T_{\\alpha''\\alpha}(q, k ; E) \\delta(E-E_{q})\n",
    "    \\\\\n",
    "    &=\n",
    "    V_{\\alpha'\\alpha}\\left(k^{\\prime}, k\\right)\n",
    "    +\n",
    "    \\sum_{\\alpha''}\\mathcal P \\int_{0}^{\\infty} d q q^{2} \n",
    "        \\frac{V_{\\alpha'\\alpha''}\\left(k^{\\prime}, q\\right) T_{\\alpha''\\alpha}(q, k ; E)}{E-E_{q}}\n",
    "    -  i \\pi \\sum_{\\alpha''} \\left[ \\mu q \\, V_{\\alpha'\\alpha''}\\left(k^{\\prime}, q\\right) T_{\\alpha''\\alpha}(q, k ; E) \\right]_{q = \\sqrt{2 \\mu E}}\n",
    "\\end{align}\n",
    "\n",
    "where $E_q = q^2 / (2 \\mu)$."
   ]
  },
  {
   "cell_type": "markdown",
   "metadata": {
    "heading_collapsed": true
   },
   "source": [
    "### Delta identity"
   ]
  },
  {
   "cell_type": "markdown",
   "metadata": {
    "hidden": true
   },
   "source": [
    "In the above equation it was used that\n",
    "$$\n",
    "    \\int d x \\frac{1}{f(x) + i \\epsilon} = \\mathcal P \\int d x \\frac{1}{f(x)} - i \\pi  \\int d x \\delta(f(x))\n",
    "$$\n",
    "where $\\mathcal P$ denotes the principle value integral and\n",
    "$$\n",
    "    \\int d x \\delta(f(x)) g(x) = \\sum\\limits_{x_i} \\frac{g(x_i) }{|f'(x_i)|}\n",
    "$$\n",
    "where $x_i$ are the zeros of $f$."
   ]
  },
  {
   "cell_type": "markdown",
   "metadata": {},
   "source": [
    "### Basis definitions"
   ]
  },
  {
   "cell_type": "markdown",
   "metadata": {},
   "source": [
    "The partial wave decomposed matrix element of operators are defined as\n",
    "$$\n",
    "    O_{\\alpha' \\alpha}(k', k)\n",
    "    =\n",
    "    \\int d \\Omega_{k'}  d \\Omega_{k}\n",
    "    Y_{l' m_l'} (\\Omega_{k'})\n",
    "    \\left\\langle \\vec k' , \\tilde \\alpha' \\middle\\vert O \\middle\\vert \\vec k, \\tilde \\alpha \\right\\rangle\n",
    "    Y_{l m_l} (\\Omega_{k})\n",
    "$$\n",
    "with the collection of quantum numbers $\\alpha = (\\tilde \\alpha, l , m_l)$.\n",
    "\n",
    "More specifically, the angular matrix elements are defined as\n",
    "\n",
    "\\begin{align}\n",
    "    \\left\\langle \\vec k \\middle\\vert q l m_l \\right\\rangle \n",
    "    &=\n",
    "    \\frac{\\delta(k - q)}{q^2} Y_{l m_l}^*(\\Omega_k)\n",
    "    \\, , &\n",
    "    \\mathbb{1}\n",
    "    &=\n",
    "    \\sum\\limits_{l m} \\int d q q^2 \\left\\vert q l m \\right\\rangle\\left\\langle q l m \\right \\vert\n",
    "\\end{align}\n",
    "\n",
    "In case of $S$-wave only results, this becomes\n",
    "$$\n",
    "    O_{0}(k', k) = \n",
    "    \\frac{1}{4 \\pi} \n",
    "    \\int d \\Omega_{k'}  d \\Omega_{k}\n",
    "    \\left\\langle \\vec k' \\middle\\vert O \\middle\\vert \\vec k \\right\\rangle\n",
    "$$"
   ]
  },
  {
   "cell_type": "markdown",
   "metadata": {},
   "source": [
    "### Simplifications"
   ]
  },
  {
   "cell_type": "markdown",
   "metadata": {},
   "source": [
    "$$\n",
    "    \\frac{1}{X+i \\epsilon}=\\mathcal P \\frac{1}{X}-i \\pi \\delta(X)\n",
    "    \\qquad\n",
    "    \\int d x \\,  f(x) \\delta(g(x)) = \\sum_{x_i} \\frac{f(x_i)}{|g'(x_i)|}\n",
    "$$\n",
    "was used and $g(x_i) = 0$ are all zeros in the integration domain.\n",
    "The result is \n",
    "\n",
    "$$\n",
    "    \\int_{0}^{\\infty} d q q^{2} V_{\\alpha'\\alpha''}\\left(k^{\\prime}, q\\right) T_{\\alpha''\\alpha}(q, k ; E) \\delta(E-E_{q})\n",
    "    =\n",
    "    \\frac{\\mu}{p_0} p_0^2 \\, V_{\\alpha'\\alpha''}\\left(k^{\\prime}, p_0\\right) T_{\\alpha''\\alpha}(p_0, k ; E) \\bigg|_{p_0 = \\sqrt{2 \\mu E}}\n",
    "$$"
   ]
  },
  {
   "cell_type": "markdown",
   "metadata": {},
   "source": [
    "### Smoothing out"
   ]
  },
  {
   "cell_type": "markdown",
   "metadata": {},
   "source": [
    "The above equation becomes singular for $E_q = E$.\n",
    "Eventhough this value is ruled out by the principle value integral, it can be numerically unstable.\n",
    "For this reason it is replaced by a more stable equivalent.\n",
    "\n",
    "\\begin{multline}\n",
    "    P \\int_{0}^{\\infty} d q q^{2}\n",
    "    \\frac{V_{\\alpha'\\alpha''}\\left(k^{\\prime}, q\\right) T_{\\alpha''\\alpha}(q, k ; E)}{E-E_{q}}\n",
    "    \\\\=\n",
    "    P \\int_{0}^{\\infty} d q \n",
    "    \\frac{q^{2} V_{\\alpha'\\alpha''}\\left(k^{\\prime}, q\\right)T_{\\alpha''\\alpha}(q, k ; E) - p_0^2 V_{\\alpha'\\alpha''}\\left(k^{\\prime}, p_0 \\right)T_{\\alpha''\\alpha}(p_0, k ; E)  }{E-E_{q}} \n",
    "    \\\\+\n",
    "    P \\int_{0}^{\\infty} d q \n",
    "    \\frac{1}{E-E_{q}} p_0^2 V_{\\alpha'\\alpha''}\\left(k^{\\prime}, p_0 \\right) T_{\\alpha''\\alpha}(p_0, k ; E)\n",
    "\\end{multline}\n",
    "where $p_0 = \\sqrt{2 \\mu E}$.\n",
    "\n",
    "\n",
    "The last part is equal to\n",
    "$$\n",
    "    P \\int_{0}^{\\Lambda} d q \n",
    "    \\frac{1}{E-E_{q}}\n",
    "    =\n",
    "    \\frac{\\mu}{p_0} \\log \\left(\\frac{\\Lambda +p_0}{\\Lambda -p_0}\\right)\n",
    "    \\, , \\qquad \\Lambda \\geq p_0\n",
    "$$\n",
    "Note that this integral is zero for infinite cutoff."
   ]
  },
  {
   "cell_type": "markdown",
   "metadata": {},
   "source": [
    "Thus, the regularized integral becomes\n",
    "\n",
    "\\begin{multline}\n",
    "    T_{\\alpha'\\alpha}\\left(k^{\\prime}, k ; E\\right)\n",
    "    =\n",
    "    V_{\\alpha'\\alpha}\\left(k^{\\prime}, k\\right)\n",
    "    + P \\int_{0}^{\\Lambda} d q \n",
    "    \\frac{q^{2} V_{\\alpha'\\alpha''}\\left(k^{\\prime}, q\\right)T_{\\alpha''\\alpha}(q, k ; E) - p_0^2 V_{\\alpha'\\alpha''}\\left(k^{\\prime}, p_0 \\right)T_{\\alpha''\\alpha}(p_0, k ; E)  }{E-E_{q}} \n",
    "    \\\\\n",
    "    +  \\mu p_0 \\left[\n",
    "        \\log \\left(\\frac{\\Lambda +p_0}{\\Lambda -p_0}\\right) -  i \\pi\n",
    "    \\right] \n",
    "    \\sum_{\\alpha''}  V_{\\alpha'\\alpha''}\\left(k^{\\prime}, p_0\\right) T_{\\alpha''\\alpha}(p_0, k ; E)\n",
    "\\end{multline}"
   ]
  },
  {
   "cell_type": "markdown",
   "metadata": {},
   "source": [
    "### Discretization"
   ]
  },
  {
   "cell_type": "markdown",
   "metadata": {},
   "source": [
    "The on-shell equation of the $T$-matrix for $S$-waves only on a numerical grid ($(k_i, w_{k_i})$, $1 \\leq i \\leq N$) becomes a matrix-vector equation:\n",
    "\\begin{align}\n",
    "    t_0 &= T_0\\left(p_0, p_0, E = \\frac{p_0^2}{2 \\mu}\\right)\n",
    "    \\, , &\n",
    "    t_i &= T_0\\left(k_i, p_0, E = \\frac{p_0^2}{2 \\mu}\\right)\n",
    "    \\, , &\n",
    "    v_i &= V_0(k_i, p_0)\n",
    "    \\, , &\n",
    "    v_{i, j} &= V_0(k_i,k_j)\n",
    "    \\, , &\n",
    "    g_i &= \\frac{2 \\mu}{p_0^2 - k_i^2}\n",
    "\\end{align}\n",
    "\n",
    "$$\n",
    "    t_i \n",
    "    = \n",
    "    v_i \n",
    "    + \\sum\\limits_{n=1}^N w_{k_n} \\left(k_n^2  v_{i n} t_n - p_0^2 v_{i} t_0\\right) g_n\n",
    "    + \\mu p_0 \\left[\\log\\left(\\frac{\\Lambda + p_0}{\\Lambda - p_0} \\right) -  i \\pi  \\right] v_i t_0 \n",
    "    \\, , \\qquad  1 \\leq i \\leq N \\, .\n",
    "$$\n",
    "\n",
    "One can naturally extend this equation by choosing $k_0 = p_0$ and $k_0 \\neq k_i \\forall i \\neq 0$ such that one finds\n",
    "\n",
    "\\begin{align}\n",
    "    \\sum_{n=0}^N A_{in} t_n &= v_i\n",
    "    \\, , &\n",
    "    A_{in} &=\n",
    "    \\delta_{in} + \n",
    "    \\begin{cases}\n",
    "         - w_{k_n} k_n^2  v_{i n} g_n & n > 0  \\\\\n",
    "       \\mu p_0 \\left[\n",
    "           i \\pi  - \\log\\left(\\frac{\\Lambda + p_0}{\\Lambda - p_0}\\right)\n",
    "           + \\frac{p_0}{\\mu} \\sum\\limits_{n=1}^N w_{k_n} g_n  \n",
    "       \\right] v_i \n",
    "       & n = 0\n",
    "    \\end{cases}\n",
    "\\end{align}"
   ]
  },
  {
   "cell_type": "markdown",
   "metadata": {
    "heading_collapsed": true
   },
   "source": [
    "## Potentials"
   ]
  },
  {
   "cell_type": "markdown",
   "metadata": {
    "hidden": true
   },
   "source": [
    "Choose the Yukawa potential \n",
    "$$\n",
    "    V(\\vec p, \\vec k) \n",
    "    = \n",
    "    - \\frac{g_A^2}{2 F_\\pi^2} \n",
    "    \\frac{m_\\pi^2}{(\\vec p - \\vec k)^2 + m_\\pi^2}\n",
    "    \\leftrightarrow\n",
    "    V(r) \n",
    "    = \n",
    "   -\\frac{m_{\\pi }^2 g_A^2}{8 \\pi  F_{\\pi }^2} \\frac{e^{-m_{\\pi }r}}{ r}\n",
    "$$\n",
    "\n",
    "$g_A = 1.29$, $f_\\pi = 132$MeV and $m_\\pi = 141$MeV\n",
    "The $l = 0$ component is given by\n",
    "\n"
   ]
  },
  {
   "cell_type": "markdown",
   "metadata": {
    "hidden": true
   },
   "source": [
    "$$\n",
    "\\left\\langle\\mathbf{k}^{\\prime}|\\widehat{V}| \\mathbf{k}\\right\\rangle=\\frac{2}{\\pi} \\sum_{l, m} V_{l}\\left(k^{\\prime}, k\\right) Y_{l m}^{*}\\left(\\Omega_{k^{\\prime}}\\right) Y_{l m}\\left(\\Omega_{k}\\right)\n",
    "\\qquad\n",
    "V_{l}\\left(k^{\\prime}, k\\right)=\\int_{0}^{\\infty} r^{2} d r \\, j_{l}(k r) V(r) j_{l}\\left(k^{\\prime} r\\right)\n",
    "$$\n",
    "adn thus\n",
    "$$\n",
    " V_0(k, k') = \\frac{m_{\\pi }^2 g_A^2 }{32 \\pi \n",
    "   F_{\\pi }^2 } \\frac{1}{k k'}\\log \\left(1-\\frac{4 k k'}{(k+k')^2+m_{\\pi }^2}\\right)\n",
    "$$"
   ]
  },
  {
   "cell_type": "markdown",
   "metadata": {
    "hidden": true
   },
   "source": [
    "The partial wave decomposed matrix element of operators are defined as\n",
    "$$\n",
    "    O_{\\alpha' \\alpha}(k', k)\n",
    "    =\n",
    "    \\int d \\Omega_{k'}  d \\Omega_{k}\n",
    "    Y_{l' m_l'} (\\Omega_{k'})\n",
    "    \\left\\langle \\vec k' , \\tilde \\alpha' \\middle\\vert O \\middle\\vert \\vec k, \\tilde \\alpha \\right\\rangle\n",
    "    Y_{l m_l} (\\Omega_{k})\n",
    "$$\n",
    "with the collection of quantum numbers $\\alpha = (\\tilde \\alpha, l , m_l)$.\n",
    "\n",
    "More specifically, the angular matrix elements are defined as\n",
    "\n",
    "\\begin{align}\n",
    "    \\left\\langle \\vec k \\middle\\vert q l m_l \\right\\rangle \n",
    "    &=\n",
    "    \\frac{\\delta(k - q)}{q^2} Y_{l m_l}^*(\\Omega_k)\n",
    "    \\, , &\n",
    "    \\mathbb{1}\n",
    "    &=\n",
    "    \\sum\\limits_{l m} \\int d q q^2 \\left\\vert q l m \\right\\rangle\\left\\langle q l m \\right \\vert\n",
    "\\end{align}\n",
    "\n",
    "In case of $S$-wave only results, this becomes\n",
    "$$\n",
    "    O_{0}(k', k) = \n",
    "    \\frac{1}{4 \\pi} \n",
    "    \\int d \\Omega_{k'}  d \\Omega_{k}\n",
    "    \\left\\langle \\vec k' \\middle\\vert O \\middle\\vert \\vec k \\right\\rangle\n",
    "$$"
   ]
  },
  {
   "cell_type": "code",
   "execution_count": null,
   "metadata": {
    "hidden": true
   },
   "outputs": [],
   "source": [
    "def V1(k, mpi=141., gA=1.29, fpi=132.):\n",
    "    kk = k.reshape(-1, 1)\n",
    "    return gA**2 * mpi**2/ 32 / np.pi / fpi**2 / kk / k * np.log(1 - 4 * kk * k / ((k+kk)**2 + mpi**2)) \n",
    "\n",
    "def V(k):\n",
    "    return np.ones([k.size]*2)"
   ]
  },
  {
   "cell_type": "markdown",
   "metadata": {},
   "source": [
    "## Computing T"
   ]
  },
  {
   "cell_type": "code",
   "execution_count": null,
   "metadata": {},
   "outputs": [],
   "source": [
    "p0 = [(pp + p[n+1])/2 for n, pp in enumerate(p[:-1])][:10]\n",
    "\n",
    "\n",
    "phase_shifts = []\n",
    "\n",
    "for pp0 in p0:\n",
    "    pp = np.append([pp0], p)\n",
    "    v = -V(pp)\n",
    "    E = pp**2 / 2 / mu\n",
    "\n",
    "    A = np.zeros([pp.size]*2, dtype=complex)\n",
    "    \n",
    "    gint = np.sum(wp / (E[0] - E[1:]))\n",
    "    \n",
    "    print(- np.log((pp[-1] + pp0) / (pp[-1] - pp0)) * mu / pp0 + gint)\n",
    "    \n",
    "    for i, n in product(*[range(pp.size), range(pp.size)]):\n",
    "        \n",
    "        if i == n:\n",
    "            A[i, i] = 1\n",
    "        \n",
    "        if n == 0:\n",
    "            A[i, n] += mu * pp0 * ( \n",
    "                1j * np.pi \n",
    "                - np.log((pp[-1] + pp0) / (pp[-1] - pp0))\n",
    "                + gint * pp0 / mu\n",
    "            )* v[i, 0]\n",
    "        else:\n",
    "            A[i, n] -= wp[n-1] * p[n-1]**2 * v[i, n] / (E[0] - E[n])\n",
    "            \n",
    "    t = np.linalg.solve(A , np.diagonal(v))\n",
    "    \n",
    "    f = mu * t / 2 / np.pi\n",
    "\n",
    "    ere = 1 / f + 1j * pp0\n",
    "    \n",
    "    phase_shifts.append(ere[0])\n",
    "    \n",
    "phase_shifts = np.array(phase_shifts)"
   ]
  },
  {
   "cell_type": "markdown",
   "metadata": {},
   "source": [
    "### Result"
   ]
  },
  {
   "cell_type": "markdown",
   "metadata": {},
   "source": [
    "$$\n",
    "    C_{0}(\\Lambda)=\\frac{2 \\pi / \\mu}{1 / a_{0}-2 \\Lambda / \\pi}\n",
    "$$"
   ]
  },
  {
   "cell_type": "code",
   "execution_count": null,
   "metadata": {},
   "outputs": [],
   "source": [
    "1/t.real"
   ]
  },
  {
   "cell_type": "code",
   "execution_count": null,
   "metadata": {},
   "outputs": [],
   "source": [
    "c0 = - V(np.array([1])).mean()\n",
    "Lambda = p[-1]\n",
    "a0 =  1 / (2 * np.pi / mu / c0 + 2 * Lambda / np.pi)\n",
    "\n",
    "ere.real.mean() * a0 "
   ]
  },
  {
   "cell_type": "code",
   "execution_count": null,
   "metadata": {
    "scrolled": false
   },
   "outputs": [],
   "source": [
    "fig, ax = plt.subplots()\n",
    "\n",
    "ax.plot(p0, phase_shifts.real, \".\", label=\"Re\")\n",
    "ax.plot(p0, phase_shifts.imag, \"--\", label=\"Im\")\n",
    "\n",
    "#ax.axhline(-a0inv, lw=5)\n"
   ]
  },
  {
   "cell_type": "code",
   "execution_count": null,
   "metadata": {},
   "outputs": [],
   "source": [
    "- 1 /  / np.pi"
   ]
  },
  {
   "cell_type": "code",
   "execution_count": null,
   "metadata": {},
   "outputs": [],
   "source": [
    "A.real"
   ]
  },
  {
   "cell_type": "code",
   "execution_count": null,
   "metadata": {},
   "outputs": [],
   "source": [
    "fig, ax = plt.subplots()\n",
    "\n",
    "ax.plot(pp[1:], A[0, 1:].imag, \".\")\n",
    "ax.axvline(pp[0])\n",
    "\n",
    "ax.set_ylim(-10, 10)\n",
    "\n",
    "plt.show()"
   ]
  },
  {
   "cell_type": "code",
   "execution_count": null,
   "metadata": {},
   "outputs": [],
   "source": [
    "plt.plot(p0, phase_shifts.imag, \".\")"
   ]
  },
  {
   "cell_type": "code",
   "execution_count": null,
   "metadata": {},
   "outputs": [],
   "source": [
    "(1 / t).real"
   ]
  },
  {
   "cell_type": "markdown",
   "metadata": {},
   "source": [
    "Using\n",
    "\\begin{align}\n",
    "    T_{l}\\left(k^{\\prime}, k ; E\\right)\n",
    "    &=\n",
    "    V_{l}\\left(k^{\\prime}, k\\right)+\\frac{2}{\\pi} \n",
    "    \\int_{0}^{\\infty} d q q^{2} \n",
    "    \\frac{V_{l}\\left(k^{\\prime}, q\\right) T_{l}(q, k ; E)}{E-E_{q}+i \\epsilon}\n",
    "    \\\\\n",
    "    &=\n",
    "    V_{l}\\left(k^{\\prime}, k\\right)\n",
    "    +\\frac{2}{\\pi} \\mathcal P \\int_{0}^{\\infty} d q q^{2} \n",
    "    \\frac{V_{l}\\left(k^{\\prime}, q\\right) T_{l}(q, k ; E)}{E-E_{q}}\n",
    "    - 2 i \\int_{0}^{\\infty} d q q^{2} V_{l}\\left(k^{\\prime}, q\\right) T_{l}(q, k ; E) \\delta(E-E_{q})\n",
    "\\end{align}\n",
    "where\n",
    "$$\n",
    "    \\frac{1}{X+i \\epsilon}=\\mathcal P \\frac{1}{X}-i \\pi \\delta(X)\n",
    "    \\qquad\n",
    "    \\int d x \\,  f(x) \\delta(g(x)) = \\sum_{x_i} \\frac{f(x_i)}{|g'(x_i)|}\n",
    "$$\n",
    "was used and $g(x_i) = 0$ are all zeros in the integration domain.\n",
    "The result is \n",
    "\n",
    "$$\n",
    "    \\int_{0}^{\\infty} d q q^{2} V_{l}\\left(k^{\\prime}, q\\right) T_{l}(q, k ; E) \\delta(E-E_{q})\n",
    "    =\n",
    "    \\frac{\\mu}{q} q^2 \\, V_{l}\\left(k^{\\prime}, q\\right) T_{l}(q, k ; E) \\bigg|_{q = \\sqrt{2 \\mu E}}\n",
    "$$"
   ]
  },
  {
   "cell_type": "markdown",
   "metadata": {},
   "source": [
    "We can write the on shell $T$ matrix equation as\n",
    "$$\n",
    "    \\vec t = \\vec v + M \\vec t \\Rightarrow (1 - M) \\vec t = \\vec v\n",
    "$$\n",
    "with \n",
    "\\begin{align}\n",
    "    t_i &= T_0(k_i, k_i, E_{k_i})\n",
    "    \\, , &\n",
    "    v_i &= V_0(k_i, k_i, E_{k_i})\n",
    "    \\, , &\n",
    "    M_{ij} &=\n",
    "    \\begin{cases}\n",
    "        \\frac{2}{\\pi} k_j^2 w_{k_j} \\frac{V_0(k_i, k_j)}{E_{k_i} - E_{k_j}} & i \\neq j \\\\\n",
    "        - 2 i \\, \\mu k_i \\, V_{0}\\left(k_i, k_i\\right) & i = j\n",
    "    \\end{cases}\n",
    "\\end{align}"
   ]
  },
  {
   "cell_type": "code",
   "execution_count": null,
   "metadata": {},
   "outputs": [],
   "source": [
    "p"
   ]
  },
  {
   "cell_type": "code",
   "execution_count": null,
   "metadata": {},
   "outputs": [],
   "source": [
    "p0"
   ]
  },
  {
   "cell_type": "code",
   "execution_count": null,
   "metadata": {},
   "outputs": [],
   "source": [
    "A"
   ]
  },
  {
   "cell_type": "code",
   "execution_count": null,
   "metadata": {},
   "outputs": [],
   "source": [
    "2.1415926535892003 / np.pi"
   ]
  },
  {
   "cell_type": "code",
   "execution_count": null,
   "metadata": {},
   "outputs": [],
   "source": [
    "plt.contourf(A[1:,1:].real)\n",
    "plt.colorbar()"
   ]
  },
  {
   "cell_type": "code",
   "execution_count": null,
   "metadata": {},
   "outputs": [],
   "source": [
    "plt.contourf(A[1:,1:].imag)\n",
    "plt.colorbar()"
   ]
  },
  {
   "cell_type": "code",
   "execution_count": null,
   "metadata": {},
   "outputs": [],
   "source": [
    "len(1)"
   ]
  },
  {
   "cell_type": "code",
   "execution_count": null,
   "metadata": {},
   "outputs": [],
   "source": []
  },
  {
   "cell_type": "code",
   "execution_count": null,
   "metadata": {},
   "outputs": [],
   "source": [
    "np.set_printoptions(precision=2)\n",
    "A"
   ]
  },
  {
   "cell_type": "code",
   "execution_count": null,
   "metadata": {},
   "outputs": [],
   "source": [
    "plt.plot(p, 1/ (np.linalg.inv(A)@np.diag(vpp)).real, \"o\")"
   ]
  },
  {
   "cell_type": "code",
   "execution_count": null,
   "metadata": {},
   "outputs": [],
   "source": [
    "\n",
    "\n",
    "ere.imag"
   ]
  },
  {
   "cell_type": "markdown",
   "metadata": {},
   "source": [
    "In momentum space, the potential is given by \n",
    "$$\n",
    "    \\left\\langle \\vec p | V | \\psi \\right\\rangle \n",
    "    =\n",
    "    \\int \\frac{d \\vec k^3}{(2\\pi)^3} V(\\vec p, \\vec k) \\psi(\\vec k)\n",
    "$$\n",
    "where in the last case, it was used that the angular momentum is zero ($l=0$)."
   ]
  },
  {
   "cell_type": "code",
   "execution_count": null,
   "metadata": {},
   "outputs": [],
   "source": [
    "(1/f).real"
   ]
  },
  {
   "cell_type": "code",
   "execution_count": null,
   "metadata": {},
   "outputs": [],
   "source": [
    "A@t - np.diagonal(vpp)"
   ]
  },
  {
   "cell_type": "code",
   "execution_count": null,
   "metadata": {},
   "outputs": [],
   "source": [
    "vpp"
   ]
  },
  {
   "cell_type": "code",
   "execution_count": null,
   "metadata": {},
   "outputs": [],
   "source": []
  },
  {
   "cell_type": "code",
   "execution_count": null,
   "metadata": {},
   "outputs": [],
   "source": [
    "\n"
   ]
  },
  {
   "cell_type": "code",
   "execution_count": null,
   "metadata": {},
   "outputs": [],
   "source": [
    "vpp - vpp.T"
   ]
  },
  {
   "cell_type": "code",
   "execution_count": null,
   "metadata": {},
   "outputs": [],
   "source": [
    "A = np.eye(M.shape[0]) - M"
   ]
  },
  {
   "cell_type": "code",
   "execution_count": null,
   "metadata": {},
   "outputs": [],
   "source": [
    "M = 2 / np.pi * p**2 * wp * V(p) / Ginv + 0j\n",
    "for i in range(M.shape[0]):\n",
    "    M[i, i] = -2j * mu * p[i] * v[i]"
   ]
  },
  {
   "cell_type": "code",
   "execution_count": null,
   "metadata": {},
   "outputs": [],
   "source": [
    "M.real"
   ]
  },
  {
   "cell_type": "code",
   "execution_count": null,
   "metadata": {},
   "outputs": [],
   "source": [
    "M.real"
   ]
  },
  {
   "cell_type": "code",
   "execution_count": null,
   "metadata": {},
   "outputs": [],
   "source": []
  },
  {
   "cell_type": "code",
   "execution_count": null,
   "metadata": {},
   "outputs": [],
   "source": [
    "1/ t.imag "
   ]
  },
  {
   "cell_type": "code",
   "execution_count": null,
   "metadata": {},
   "outputs": [],
   "source": [
    "p"
   ]
  }
 ],
 "metadata": {
  "kernelspec": {
   "display_name": "Python 3",
   "language": "python",
   "name": "python3"
  },
  "language_info": {
   "codemirror_mode": {
    "name": "ipython",
    "version": 3
   },
   "file_extension": ".py",
   "mimetype": "text/x-python",
   "name": "python",
   "nbconvert_exporter": "python",
   "pygments_lexer": "ipython3",
   "version": "3.7.3"
  }
 },
 "nbformat": 4,
 "nbformat_minor": 2
}
