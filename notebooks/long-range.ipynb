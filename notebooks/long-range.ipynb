{
 "cells": [
  {
   "cell_type": "markdown",
   "metadata": {},
   "source": [
    "# Long range interaction"
   ]
  },
  {
   "cell_type": "markdown",
   "metadata": {},
   "source": [
    "Conclusion: implement One-Pion Exchange potential plus contact in $^1S_0$ system and solve Schrödinger equation numerically. Compare solutions with box solutions."
   ]
  },
  {
   "cell_type": "code",
   "execution_count": null,
   "metadata": {},
   "outputs": [],
   "source": [
    "import numpy as np\n",
    "from itertools import product\n",
    "import matplotlib.pylab as plt"
   ]
  },
  {
   "cell_type": "code",
   "execution_count": null,
   "metadata": {},
   "outputs": [],
   "source": [
    "p, wp = np.polynomial.laguerre.laggauss(50)"
   ]
  },
  {
   "cell_type": "code",
   "execution_count": null,
   "metadata": {},
   "outputs": [],
   "source": [
    "HBARC = 197\n",
    "mN = 939\n",
    "mu = mN / 2"
   ]
  },
  {
   "cell_type": "code",
   "execution_count": null,
   "metadata": {},
   "outputs": [],
   "source": [
    "H0 = np.diag(p**2 / 2 / mu)"
   ]
  },
  {
   "cell_type": "markdown",
   "metadata": {},
   "source": [
    "In momentum space, the potential is given by \n",
    "$$\n",
    "    \\left\\langle \\vec p | V | \\psi \\right\\rangle \n",
    "    =\n",
    "    \\int \\frac{d \\vec k^3}{(2\\pi)^3} V(\\vec p, \\vec k) \\psi(\\vec k)\n",
    "$$\n",
    "where in the last case, it was used that the angular momentum is zero ($l=0$)."
   ]
  },
  {
   "cell_type": "markdown",
   "metadata": {},
   "source": [
    "Choose the Yukawa potential \n",
    "$$\n",
    "    V(\\vec p, \\vec k) \n",
    "    = \n",
    "    - \\frac{g_A^2}{2 F_\\pi^2} \n",
    "    \\frac{m_\\pi^2}{(\\vec p - \\vec k)^2 + m_\\pi^2}\n",
    "    \\leftrightarrow\n",
    "    V(r) \n",
    "    = \n",
    "   -\\frac{m_{\\pi }^2 g_A^2}{8 \\pi  F_{\\pi }^2} \\frac{e^{-m_{\\pi }r}}{ r}\n",
    "$$\n",
    "\n",
    "$g_A = 1.29$, $f_\\pi = 132$MeV and $m_\\pi = 141$MeV\n",
    "The $l = 0$ component is given by\n",
    "\n"
   ]
  },
  {
   "cell_type": "markdown",
   "metadata": {},
   "source": [
    "$$\n",
    "\\left\\langle\\mathbf{k}^{\\prime}|\\widehat{V}| \\mathbf{k}\\right\\rangle=\\frac{2}{\\pi} \\sum_{l, m} V_{l}\\left(k^{\\prime}, k\\right) Y_{l m}^{*}\\left(\\Omega_{k^{\\prime}}\\right) Y_{l m}\\left(\\Omega_{k}\\right)\n",
    "\\qquad\n",
    "V_{l}\\left(k^{\\prime}, k\\right)=\\int_{0}^{\\infty} r^{2} d r \\, j_{l}(k r) V(r) j_{l}\\left(k^{\\prime} r\\right)\n",
    "$$\n",
    "adn thus\n",
    "$$\n",
    " V_0(k, k') = \\frac{m_{\\pi }^2 g_A^2 }{32 \\pi \n",
    "   F_{\\pi }^2 } \\frac{1}{k k'}\\log \\left(1-\\frac{4 k k'}{(k+k')^2+m_{\\pi }^2}\\right)\n",
    "$$"
   ]
  },
  {
   "cell_type": "code",
   "execution_count": null,
   "metadata": {},
   "outputs": [],
   "source": [
    "def V(k, mpi=141., gA=1.29, fpi=132.):\n",
    "    kk = k.reshape(-1, 1)\n",
    "    return gA**2 * mpi**2/ 32 / np.pi / fpi**2 / kk / k * np.log(1 - 4 * kk * k / ((k+kk)**2 + mpi**2)) \n",
    "\n",
    "def V(k):\n",
    "    return np.ones([k.size]*2)"
   ]
  },
  {
   "cell_type": "markdown",
   "metadata": {},
   "source": [
    "Using\n",
    "\\begin{align}\n",
    "    T_{l}\\left(k^{\\prime}, k ; E\\right)\n",
    "    &=\n",
    "    V_{l}\\left(k^{\\prime}, k\\right)+\\frac{2}{\\pi} \n",
    "    \\int_{0}^{\\infty} d q q^{2} \n",
    "    \\frac{V_{l}\\left(k^{\\prime}, q\\right) T_{l}(q, k ; E)}{E-E_{q}+i \\epsilon}\n",
    "    \\\\\n",
    "    &=\n",
    "    V_{l}\\left(k^{\\prime}, k\\right)\n",
    "    +\\frac{2}{\\pi} \\mathcal P \\int_{0}^{\\infty} d q q^{2} \n",
    "    \\frac{V_{l}\\left(k^{\\prime}, q\\right) T_{l}(q, k ; E)}{E-E_{q}}\n",
    "    - 2 i \\int_{0}^{\\infty} d q q^{2} V_{l}\\left(k^{\\prime}, q\\right) T_{l}(q, k ; E) \\delta(E-E_{q})\n",
    "\\end{align}\n",
    "where\n",
    "$$\n",
    "    \\frac{1}{X+i \\epsilon}=\\mathcal P \\frac{1}{X}-i \\pi \\delta(X)\n",
    "    \\qquad\n",
    "    \\int d x \\,  f(x) \\delta(g(x)) = \\sum_{x_i} \\frac{f(x_i)}{|g'(x_i)|}\n",
    "$$\n",
    "was used and $g(x_i) = 0$ are all zeros in the integration domain.\n",
    "The result is \n",
    "\n",
    "$$\n",
    "    \\int_{0}^{\\infty} d q q^{2} V_{l}\\left(k^{\\prime}, q\\right) T_{l}(q, k ; E) \\delta(E-E_{q})\n",
    "    =\n",
    "    \\frac{\\mu}{q} q^2 \\, V_{l}\\left(k^{\\prime}, q\\right) T_{l}(q, k ; E) \\bigg|_{q = \\sqrt{2 \\mu E}}\n",
    "$$"
   ]
  },
  {
   "cell_type": "markdown",
   "metadata": {},
   "source": [
    "We can write the on shell $T$ matrix equation as\n",
    "$$\n",
    "    \\vec t = \\vec v + M \\vec t \\Rightarrow (1 - M) \\vec t = \\vec v\n",
    "$$\n",
    "with \n",
    "\\begin{align}\n",
    "    t_i &= T_0(k_i, k_i, E_{k_i})\n",
    "    \\, , &\n",
    "    v_i &= V_0(k_i, k_i, E_{k_i})\n",
    "    \\, , &\n",
    "    M_{ij} &=\n",
    "    \\begin{cases}\n",
    "        \\frac{2}{\\pi} k_j^2 w_{k_j} \\frac{V_0(k_i, k_j)}{E_{k_i} - E_{k_j}} & i \\neq j \\\\\n",
    "        - 2 i \\, \\mu k_i \\, V_{0}\\left(k_i, k_i\\right) & i = j\n",
    "    \\end{cases}\n",
    "\\end{align}"
   ]
  },
  {
   "cell_type": "code",
   "execution_count": null,
   "metadata": {},
   "outputs": [],
   "source": [
    "vpp = V(p)\n",
    "Ep = p**2 / 2 / mu\n",
    "\n",
    "A = np.zeros([p.size]*2, dtype=complex)\n",
    "for i, j in product(*[range(p.size)]*2):\n",
    "    if i == j:\n",
    "        A[i, j] = 1 + 2j * mu * p[i] * vpp[i, j]\n",
    "    else:\n",
    "        A[i, j] = - 2 / np.pi * p[j]**2 * wp[j] * vpp[i, j] / (Ep[i] - Ep[j]) "
   ]
  },
  {
   "cell_type": "code",
   "execution_count": null,
   "metadata": {},
   "outputs": [],
   "source": [
    "A"
   ]
  },
  {
   "cell_type": "code",
   "execution_count": null,
   "metadata": {},
   "outputs": [],
   "source": [
    "t = np.linalg.solve(A , np.diagonal(vpp))\n",
    "f = - mu / (2 * np.pi) * t  * 4 * np.pi"
   ]
  },
  {
   "cell_type": "code",
   "execution_count": null,
   "metadata": {},
   "outputs": [],
   "source": [
    "ere = 1 / f + 1j * p\n",
    "\n",
    "p[np.argmax(ere.real)]"
   ]
  },
  {
   "cell_type": "code",
   "execution_count": null,
   "metadata": {},
   "outputs": [],
   "source": [
    "plt.plot(p, ere.real, \".\")"
   ]
  },
  {
   "cell_type": "code",
   "execution_count": null,
   "metadata": {},
   "outputs": [],
   "source": [
    "plt.plot(p, ere.imag, \".\")"
   ]
  },
  {
   "cell_type": "code",
   "execution_count": null,
   "metadata": {},
   "outputs": [],
   "source": [
    "plt.plot(p, 1/ (np.linalg.inv(A)@np.diag(vpp)).real, \"o\")"
   ]
  },
  {
   "cell_type": "code",
   "execution_count": null,
   "metadata": {},
   "outputs": [],
   "source": []
  }
 ],
 "metadata": {
  "kernelspec": {
   "display_name": "Python 3",
   "language": "python",
   "name": "python3"
  },
  "language_info": {
   "codemirror_mode": {
    "name": "ipython",
    "version": 3
   },
   "file_extension": ".py",
   "mimetype": "text/x-python",
   "name": "python",
   "nbconvert_exporter": "python",
   "pygments_lexer": "ipython3",
   "version": "3.7.3"
  }
 },
 "nbformat": 4,
 "nbformat_minor": 2
}
