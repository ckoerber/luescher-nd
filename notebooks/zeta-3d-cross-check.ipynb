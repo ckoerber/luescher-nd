{
 "cells": [
  {
   "cell_type": "markdown",
   "metadata": {},
   "source": [
    "# $S_3$ cross checks"
   ]
  },
  {
   "cell_type": "code",
   "execution_count": null,
   "metadata": {},
   "outputs": [],
   "source": [
    "from luescher_nd.zeta.zeta3d import Zeta3D\n",
    "from luescher_nd.zeta.extern.pyzeta import zeta\n",
    "\n",
    "import numpy as np\n",
    "import matplotlib.pylab as plt\n",
    "import seaborn as sns\n",
    "\n",
    "import pandas as pd"
   ]
  },
  {
   "cell_type": "code",
   "execution_count": null,
   "metadata": {},
   "outputs": [],
   "source": [
    "%load_ext blackcellmagic"
   ]
  },
  {
   "cell_type": "code",
   "execution_count": null,
   "metadata": {},
   "outputs": [],
   "source": [
    "cut = 30\n",
    "\n",
    "data = []\n",
    "\n",
    "x = np.linspace(-4, 10, 2000)\n",
    "\n",
    "for n_lambda in [10, 40, 80, 100]:\n",
    "    z1 = Zeta3D(n_lambda, spherical=True)\n",
    "    z2 = zeta\n",
    "    z3 = Zeta3D(n_lambda, spherical=False)\n",
    "\n",
    "    for key, z in {\"$\\Sigma_S$\": z1, \"$\\int_S$\": z2, \"$\\Sigma_C$\": z3}.items():\n",
    "        y = z(x)\n",
    "        for xi, yi in zip(x, y):\n",
    "            data.append({\"type\": key, \"Lambda'\": n_lambda, \"y\": yi, \"x\": xi})\n",
    "            \n",
    "df = pd.DataFrame(data)\n",
    "\n",
    "df[\"y_norm\"] = df.apply(\n",
    "    lambda row: (row[\"y\"] if row[\"y\"] < cut else np.inf)\n",
    "    if row[\"y\"] > -cut\n",
    "    else -np.inf,\n",
    "    axis=1,\n",
    ")\n",
    "\n",
    "df.head()"
   ]
  },
  {
   "cell_type": "code",
   "execution_count": null,
   "metadata": {
    "scrolled": false
   },
   "outputs": [],
   "source": [
    "grid = sns.FacetGrid(data=df, col=\"type\", hue=\"Lambda'\", legend_out=True)\n",
    "\n",
    "grid.map(plt.plot, \"x\", \"y_norm\")\n",
    "\n",
    "grid.fig.set_dpi(200)\n",
    "grid.fig.set_figheight(2)\n",
    "grid.add_legend(title=\"$\\Lambda'$\")\n",
    "grid.set_ylabels(\"$S_3(x; \\Lambda')$\")\n",
    "\n",
    "plt.show(grid.fig)"
   ]
  },
  {
   "cell_type": "raw",
   "metadata": {},
   "source": [
    "grid.savefig(\"figs/zeta-3d-implementations.jpg\", bbox_inches=\"tight\")"
   ]
  },
  {
   "cell_type": "code",
   "execution_count": null,
   "metadata": {
    "scrolled": false
   },
   "outputs": [],
   "source": [
    "tf = df.set_index([\"type\", \"Lambda'\", \"x\"]).sort_index()[[\"y\"]]\n",
    "\n",
    "tf = tf.unstack(level=0)\n",
    "tf.columns = [el[1] for el in tf.columns]\n",
    "\n",
    "tf[\"$\\Sigma_S - \\int_S$\"] = tf[\"$\\Sigma_S$\"] - tf[\"$\\int_S$\"]\n",
    "tf[\"$\\Sigma_C - \\int_S$\"] = tf[\"$\\Sigma_C$\"] - tf[\"$\\int_S$\"]\n",
    "tf[\"$\\Sigma_C - \\Sigma_S$\"] = tf[\"$\\Sigma_C$\"] - tf[\"$\\Sigma_S$\"]\n",
    "\n",
    "tf = tf.drop(columns=[\"$\\Sigma_S$\", \"$\\Sigma_C$\", \"$\\int_S$\"])\n",
    "tf = tf.stack().reset_index().rename(columns={\"level_2\": \"type\", 0: r\"$\\Delta S_3(x;\\Lambda')$\"})\n",
    "\n",
    "tf.head()"
   ]
  },
  {
   "cell_type": "code",
   "execution_count": null,
   "metadata": {
    "scrolled": false
   },
   "outputs": [],
   "source": [
    "grid = sns.FacetGrid(data=tf, col=\"type\", hue=\"Lambda'\", legend_out=True)\n",
    "\n",
    "grid.map(plt.plot, \"x\", r\"$\\Delta S_3(x;\\Lambda')$\")\n",
    "\n",
    "grid.fig.set_dpi(200)\n",
    "grid.fig.set_figheight(2)\n",
    "grid.add_legend(title=\"$\\Lambda'$\")\n",
    "\n",
    "plt.subplots_adjust()\n",
    "\n",
    "plt.show(grid.fig)"
   ]
  },
  {
   "cell_type": "raw",
   "metadata": {},
   "source": [
    "grid.savefig(\"figs/zeta-3d-differences.jpg\", bbox_inches=\"tight\")"
   ]
  },
  {
   "cell_type": "code",
   "execution_count": null,
   "metadata": {},
   "outputs": [],
   "source": [
    "grid = sns.FacetGrid(\n",
    "    data=tf.query(\"x == -4.000 and type != '$\\Sigma_C - \\Sigma_S$'\"),\n",
    "    hue=\"type\",\n",
    "    legend_out=True,\n",
    ")\n",
    "\n",
    "grid.map(plt.plot, \"Lambda'\", r\"$\\Delta S_3(x;\\Lambda')$\", marker=\".\", ls=\":\")\n",
    "\n",
    "grid.fig.set_dpi(200)\n",
    "grid.fig.set_figheight(2)\n",
    "grid.add_legend(title=\"Type\")\n",
    "\n",
    "for ax in grid.axes.flatten():\n",
    "    ax.set_yscale(\"log\")\n",
    "    ax.set_xscale(\"log\")\n",
    "\n",
    "plt.subplots_adjust()\n",
    "\n",
    "plt.show(grid.fig)\n"
   ]
  },
  {
   "cell_type": "raw",
   "metadata": {},
   "source": [
    "grid.savefig(\"figs/zeta-3d-diff-scaling.jpg\", bbox_inches=\"tight\")"
   ]
  },
  {
   "cell_type": "code",
   "execution_count": null,
   "metadata": {},
   "outputs": [],
   "source": [
    "grid = sns.FacetGrid(\n",
    "    data=tf.query(\"x == -4.000 and type == '$\\Sigma_C - \\Sigma_S$'\"),\n",
    "    hue=\"type\",\n",
    "    legend_out=True,\n",
    ")\n",
    "\n",
    "grid.map(plt.plot, \"Lambda'\", r\"$\\Delta S_3(x;\\Lambda')$\", marker=\".\", ls=\":\")\n",
    "\n",
    "grid.fig.set_dpi(200)\n",
    "grid.fig.set_figheight(2)\n",
    "grid.add_legend(title=\"Type\")\n",
    "\n",
    "for ax in grid.axes.flatten():\n",
    "    #ax.set_yscale(\"symlog\")\n",
    "    ax.set_xscale(\"log\")\n",
    "\n",
    "plt.subplots_adjust()\n",
    "\n",
    "plt.show(grid.fig)\n",
    "\n"
   ]
  },
  {
   "cell_type": "code",
   "execution_count": null,
   "metadata": {},
   "outputs": [],
   "source": []
  }
 ],
 "metadata": {
  "kernelspec": {
   "display_name": "Python 3",
   "language": "python",
   "name": "python3"
  },
  "language_info": {
   "codemirror_mode": {
    "name": "ipython",
    "version": 3
   },
   "file_extension": ".py",
   "mimetype": "text/x-python",
   "name": "python",
   "nbconvert_exporter": "python",
   "pygments_lexer": "ipython3",
   "version": "3.7.3"
  }
 },
 "nbformat": 4,
 "nbformat_minor": 2
}
