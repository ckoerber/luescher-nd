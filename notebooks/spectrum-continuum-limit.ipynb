{
 "cells": [
  {
   "cell_type": "code",
   "execution_count": null,
   "metadata": {},
   "outputs": [],
   "source": [
    "import os\n",
    "import re\n",
    "\n",
    "from importlib import reload\n",
    "\n",
    "import numpy as np\n",
    "import pandas as pd\n",
    "\n",
    "import seaborn as sns\n",
    "import matplotlib.pylab as plt\n",
    "\n",
    "import gvar as gv\n",
    "import lsqfit\n",
    "\n",
    "from luescher_nd.database import utilities as ut\n",
    "from luescher_nd.database.utilities import DATA_FOLDER\n",
    "\n",
    "sns.set(context=\"paper\", style=\"ticks\", font_scale=1)"
   ]
  },
  {
   "cell_type": "code",
   "execution_count": null,
   "metadata": {},
   "outputs": [],
   "source": [
    "%load_ext blackcellmagic"
   ]
  },
  {
   "cell_type": "code",
   "execution_count": null,
   "metadata": {},
   "outputs": [],
   "source": [
    "files = [f for f in os.listdir(DATA_FOLDER) if f.endswith(\".sqlite\") and not \"tmp\" in f]\n",
    "print(\"\\n\".join([f\"{n:2d} {f}\" for n, f in enumerate(files)]))"
   ]
  },
  {
   "cell_type": "code",
   "execution_count": null,
   "metadata": {},
   "outputs": [],
   "source": [
    "file_name = \"contact-fitted_a-inv=+0.0_zeta=spherical_projector=a1g_n-eigs=200.sqlite\"\n",
    "df = ut.read_table(\n",
    "    os.path.join(DATA_FOLDER, file_name),\n",
    "    zeta=None,\n",
    "    round_digits=2,\n",
    "    filter_poles=False,\n",
    "    filter_by_nstates=False,\n",
    "    filter_degeneracy=False,\n",
    ").query(\"nlevel < 20 and epsilon < 0.2 and L == 1.0\")[\n",
    "    [\"n1d\", \"epsilon\", \"nstep\", \"L\", \"x\", \"nlevel\", \"contact_strength\", \"E\"]\n",
    "]\n",
    "df[\"L\"] = df.L.round(7)\n",
    "df.head()\n"
   ]
  },
  {
   "cell_type": "code",
   "execution_count": null,
   "metadata": {},
   "outputs": [],
   "source": [
    "nstep_label = lambda nstep: f\"{int(nstep)}\" if nstep > 0 else \"\\infty\"\n",
    "df[\"nstep_label\"] = df.apply(lambda row: nstep_label(row[\"nstep\"]), axis=1)"
   ]
  },
  {
   "cell_type": "code",
   "execution_count": null,
   "metadata": {},
   "outputs": [],
   "source": [
    "def plot(x_lablel, y_label, **kwargs):\n",
    "    data = kwargs.pop(\"data\")\n",
    "    x = data[x_lablel]\n",
    "    y = data[y_label]\n",
    "    plt.plot(x, y, **kwargs)\n",
    "    \n",
    "    if kwargs[\"label\"] == 0:\n",
    "        degs = []\n",
    "        for eps, n1d in zip(data.epsilon.unique(), data.n1d.unique()):\n",
    "            degs += [n2 for n2 in ut.get_degeneracy(n1d) if n2 < 20]\n",
    "            \n",
    "        for d in set(degs):\n",
    "            plt.axhline(d, ls=\":\", color=\"black\", lw=0.5)"
   ]
  },
  {
   "cell_type": "code",
   "execution_count": null,
   "metadata": {
    "scrolled": false
   },
   "outputs": [],
   "source": [
    "grid = sns.FacetGrid(\n",
    "    data=df.reset_index().sort_values(\"epsilon\"),\n",
    "    col=\"nstep_label\",\n",
    "    hue=\"nlevel\",\n",
    "    sharey=False,\n",
    "    margin_titles=True,\n",
    "    col_order=[nstep_label(nstep) for nstep in [1, 2, 4, -1]]\n",
    ")\n",
    "\n",
    "grid.map_dataframe(plot, \"epsilon\", \"x\", marker=\".\", ls=\":\", zorder=10)\n",
    "#grid.add_legend(title=\"Eigenstate index\")\n",
    "\n",
    "grid.set_ylabels(\"$ x $\")\n",
    "grid.set_xlabels(\"$ \\epsilon \\, [\\mathrm{fm}]$\")\n",
    "grid.set_titles(\n",
    "    #row_template=\"${row_var} = {row_name} \\, [\\mathrm{{fm}}]$\",\n",
    "    col_template=\"$n_\\mathrm{{step}} = {col_name}$\"\n",
    ")\n",
    "\n",
    "for ax in grid.axes.flatten():\n",
    "    ax.set_xscale(\"log\", basex=2)\n",
    "    ax.set_xlim(2**-6, 2**-3)\n",
    "    \n",
    "plt.show(grid.fig)"
   ]
  },
  {
   "cell_type": "raw",
   "metadata": {},
   "source": [
    "grid.savefig(\"spectrum-spherical-a1g-unitary-L1.pdf\", bbox_inches=\"tight\")"
   ]
  },
  {
   "cell_type": "code",
   "execution_count": null,
   "metadata": {
    "scrolled": false
   },
   "outputs": [],
   "source": [
    "odd = ut.get_continuum_extrapolation(df, odd_poly=True, include_statistics=True, n_poly_max=10)\n",
    "even = ut.get_continuum_extrapolation(df, odd_poly=False, include_statistics=True, n_poly_max=5)\n",
    "\n",
    "ff = pd.concat([odd, even], ignore_index=True, sort=False)"
   ]
  },
  {
   "cell_type": "code",
   "execution_count": null,
   "metadata": {},
   "outputs": [],
   "source": [
    "fff = ff.copy()\n",
    "fff[\"P\"] = (\n",
    "    fff.groupby([\"L\", \"epsilon\", \"nstep\", \"nlevel\"], as_index=False)\n",
    "    .apply(\n",
    "        lambda frame: pd.Series(\n",
    "            np.exp(frame.logGBF - frame.logGBF.max()), index=frame.index\n",
    "        )\n",
    "    )\n",
    "    .reset_index(0, drop=True)\n",
    ")\n",
    "fff = fff.set_index(\n",
    "    [\"L\", \"epsilon\", \"nstep\", \"nlevel\", \"n_poly_max\", \"even\"]\n",
    ").sort_values([\"L\", \"epsilon\", \"nstep\", \"nlevel\", \"P\"], ascending=False)\n",
    "fff.head()\n",
    "\n",
    "fff[\"n1d\"] = np.inf"
   ]
  },
  {
   "cell_type": "code",
   "execution_count": null,
   "metadata": {},
   "outputs": [],
   "source": [
    "def plot(x_lablel, y_label, **kwargs):\n",
    "    data = kwargs.pop(\"data\")\n",
    "    x = data[x_lablel]\n",
    "    y = data[y_label]\n",
    "    plt.plot(x, y, **kwargs)"
   ]
  },
  {
   "cell_type": "code",
   "execution_count": null,
   "metadata": {},
   "outputs": [],
   "source": [
    "degs = [n2 for n2 in ut.get_degeneracy(10) if n2 < 20]"
   ]
  },
  {
   "cell_type": "code",
   "execution_count": null,
   "metadata": {},
   "outputs": [],
   "source": [
    "grid = sns.FacetGrid(\n",
    "    data=df.reset_index().sort_values(\"epsilon\"),\n",
    "    col=\"nstep_label\",\n",
    "    hue=\"nlevel\",\n",
    "    sharey=False,\n",
    "    margin_titles=True,\n",
    "    col_order=[nstep_label(nstep) for nstep in [1, 2, 4, -1]]\n",
    ")\n",
    "\n",
    "grid.map_dataframe(plot, \"epsilon\", \"x\", marker=\".\", zorder=10, ls=\"None\")\n",
    "#grid.add_legend(title=\"Eigenstate index\")\n",
    "\n",
    "grid.set_ylabels(\"$ x $\")\n",
    "grid.set_xlabels(\"$ \\epsilon \\, [\\mathrm{fm}]$\")\n",
    "grid.set_titles(\n",
    "    #row_template=\"${row_var} = {row_name} \\, [\\mathrm{{fm}}]$\",\n",
    "    col_template=\"$n_\\mathrm{{step}} = {col_name}$\"\n",
    ")\n",
    "\n",
    "for ax in grid.axes.flatten():\n",
    "    #ax.set_xscale(\"log\", basex=2)\n",
    "    ax.set_xlim(2**-6, 2**-5)\n",
    "    for deg in degs:\n",
    "        ax.axhline(deg, color=\"grey\", ls=\":\", zorder=-1, lw=0.5)\n",
    "\n",
    "eps = np.linspace(min(2**-6, df.epsilon.min()), df.epsilon.max(), 1000)\n",
    "        \n",
    "for axs in grid.axes:\n",
    "    for nstep, ax in zip([1, 2, 4, -1], axs):\n",
    "        fit = fff.reset_index().query(\"nstep == @nstep and P == 1\")\n",
    "        for idx, row in fit.iterrows():\n",
    "            c = grid._colors[row[\"nlevel\"]]\n",
    "            p = {\n",
    "                \"x\": np.array(\n",
    "                    [\n",
    "                        row[col]\n",
    "                        for col in row.index\n",
    "                        if re.match(\"x[0-9]+\", col) and isinstance(row[col], gv.GVar)\n",
    "                    ]\n",
    "                )\n",
    "            }\n",
    "            xfit = ut._poly(eps, p)\n",
    "            ax.plot(eps, gv.mean(xfit), color=c, zorder=0, ls=\"-\", lw=0.5)\n",
    "    \n",
    "grid.fig.set_dpi(150)\n",
    "    \n",
    "plt.show(grid.fig)"
   ]
  },
  {
   "cell_type": "code",
   "execution_count": null,
   "metadata": {},
   "outputs": [],
   "source": [
    "fitframe = fff.reset_index().query(\"P == 1\").set_index([\"L\", \"nlevel\", \"nstep\"])"
   ]
  },
  {
   "cell_type": "code",
   "execution_count": null,
   "metadata": {},
   "outputs": [],
   "source": [
    "def fit(inp_row):\n",
    "    row = fitframe.loc[\n",
    "        tuple(\n",
    "            [\n",
    "                dtype(inp_row[col])\n",
    "                for dtype, col in [(float, \"L\"), (int, \"nlevel\"), (int, \"nstep\")]\n",
    "            ]\n",
    "        )\n",
    "    ]\n",
    "    p = {\n",
    "        \"x\": np.array(\n",
    "            [\n",
    "                row[col]\n",
    "                for col in row.index\n",
    "                if re.match(\"x[0-9]+\", col) and isinstance(row[col], gv.GVar)\n",
    "            ]\n",
    "        )\n",
    "    }\n",
    "    return ut._poly(inp_row[\"epsilon\"], p)\n",
    "\n"
   ]
  },
  {
   "cell_type": "code",
   "execution_count": null,
   "metadata": {},
   "outputs": [],
   "source": [
    "diff = df.copy()[[\"n1d\", \"epsilon\", \"nstep\", \"L\", \"nlevel\", \"x\"]]\n",
    "diff.head()\n",
    "\n",
    "diff[\"xfit\"] = diff.apply(fit, axis=1)\n",
    "diff[\"diff\"] = diff[\"x\"] - diff[\"xfit\"]"
   ]
  },
  {
   "cell_type": "code",
   "execution_count": null,
   "metadata": {
    "scrolled": false
   },
   "outputs": [],
   "source": [
    "grid = sns.FacetGrid(\n",
    "    data=diff.reset_index().sort_values(\"epsilon\").query(\"nlevel > 0\"),\n",
    "    col=\"nstep\",\n",
    "    hue=\"nlevel\",\n",
    "    sharey=False,\n",
    "    margin_titles=True,\n",
    "    col_order=[nstep for nstep in [1, 2, 4, -1]]\n",
    ")\n",
    "\n",
    "def gvarplot(*args, **kwargs):\n",
    "    plt.plot(args[0], np.abs(gv.mean(args[1].values)), **kwargs)\n",
    "\n",
    "grid.map(gvarplot, \"epsilon\", \"diff\", marker=\".\", zorder=10, ls=\"-\")\n",
    "#grid.add_legend(title=\"Eigenstate index\")\n",
    "\n",
    "grid.set_ylabels(\"$ x $\")\n",
    "grid.set_xlabels(\"$ \\epsilon \\, [\\mathrm{fm}]$\")\n",
    "grid.set_titles(\n",
    "    #row_template=\"${row_var} = {row_name} \\, [\\mathrm{{fm}}]$\",\n",
    "    col_template=\"$n_\\mathrm{{step}} = {col_name}$\"\n",
    ")\n",
    "\n",
    "for ax in grid.axes.flatten():\n",
    "    ax.set_xscale(\"log\", basex=2)\n",
    "    #ax.set_xlim(2**-6, 2**-5)\n",
    "    ax.set_yscale(\"log\")\n",
    "    \n",
    "grid.fig.set_dpi(150)\n",
    "    \n",
    "plt.show(grid.fig)"
   ]
  },
  {
   "cell_type": "code",
   "execution_count": null,
   "metadata": {},
   "outputs": [],
   "source": []
  }
 ],
 "metadata": {
  "kernelspec": {
   "display_name": "Python 3",
   "language": "python",
   "name": "python3"
  },
  "language_info": {
   "codemirror_mode": {
    "name": "ipython",
    "version": 3
   },
   "file_extension": ".py",
   "mimetype": "text/x-python",
   "name": "python",
   "nbconvert_exporter": "python",
   "pygments_lexer": "ipython3",
   "version": "3.7.3"
  }
 },
 "nbformat": 4,
 "nbformat_minor": 2
}
