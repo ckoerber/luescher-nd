{
 "cells": [
  {
   "cell_type": "markdown",
   "metadata": {},
   "source": [
    "## Init"
   ]
  },
  {
   "cell_type": "code",
   "execution_count": null,
   "metadata": {},
   "outputs": [],
   "source": [
    "from dataclasses import dataclass\n",
    "\n",
    "import numpy as np\n",
    "import pandas as pd\n",
    "\n",
    "import matplotlib.pylab as plt\n",
    "import seaborn as sns\n",
    "\n",
    "from scipy.optimize import minimize_scalar\n",
    "from scipy.sparse.linalg import eigsh\n",
    "\n",
    "from luescher_nd.hamiltonians.longrange import PhenomLRHamiltonian\n",
    "from luescher_nd.zeta.zeta3d import Zeta3D\n",
    "from luescher_nd.zeta.extern.pyzeta import zeta"
   ]
  },
  {
   "cell_type": "code",
   "execution_count": null,
   "metadata": {},
   "outputs": [],
   "source": [
    "%load_ext blackcellmagic"
   ]
  },
  {
   "cell_type": "code",
   "execution_count": null,
   "metadata": {},
   "outputs": [],
   "source": [
    "HBARC = 197\n",
    "\n",
    "mpi = 134 / HBARC\n",
    "\n",
    "mpi"
   ]
  },
  {
   "cell_type": "code",
   "execution_count": null,
   "metadata": {},
   "outputs": [],
   "source": [
    "def gp(p, gbar=0.8945, M=20):\n",
    "    return gbar * np.sqrt(8 * np.pi) * M**3 / (p**2 + M**2)**2"
   ]
  },
  {
   "cell_type": "code",
   "execution_count": null,
   "metadata": {},
   "outputs": [],
   "source": [
    "e0 = -2.225\n",
    "\n",
    "h = PhenomLRHamiltonian(n1d=20, epsilon=0.25, nstep=None, M=mpi*10)\n",
    "\n",
    "ee = eigsh(h.op, which=\"SA\", return_eigenvectors=False, k=1)\n",
    "\n",
    "@dataclass\n",
    "class Kernel:\n",
    "    n1d: int\n",
    "    epsilon: float\n",
    "    nstep: bool\n",
    "    M: float\n",
    "    e0: float\n",
    "        \n",
    "    def res(self, gbar):\n",
    "        h = PhenomLRHamiltonian(n1d=self.n1d, epsilon=self.epsilon, nstep=self.nstep, M=self.M, gbar=gbar)\n",
    "        ee = eigsh(h.op, which=\"SA\", return_eigenvectors=False, k=1)\n",
    "        return (e0 - ee.min())**2\n",
    "\n",
    "\n",
    "kernel = Kernel(10, 0.25, None, 10.0, -2.225)\n",
    "\n",
    "res = minimize_scalar(kernel.res, bracket=(1.e-4, 1.e2))\n",
    "\n",
    "res.x"
   ]
  },
  {
   "cell_type": "code",
   "execution_count": null,
   "metadata": {},
   "outputs": [],
   "source": [
    "p = np.linspace(0, 20, 500)\n",
    "\n",
    "h = PhenomLRHamiltonian(n1d=20, epsilon=0.25, nstep=None, M=mpi*10)\n",
    "\n",
    "fig, ax = plt.subplots(dpi=250)\n",
    "\n",
    "ax.plot(p, gp(p, gbar=h.gbar, M=h.M))\n",
    "\n",
    "ax.plot(np.sqrt(h.p2), h._gp, \".\")\n",
    "\n",
    "ax.set_yscale(\"log\")\n",
    "\n",
    "plt.show(fig)"
   ]
  },
  {
   "cell_type": "code",
   "execution_count": null,
   "metadata": {},
   "outputs": [],
   "source": [
    "def pcotd(p, gbar, mu, M):\n",
    "    d0 = 16 * gbar ** 2 * mu\n",
    "    res = -(5 * gbar ** 2 * mu * M - 4 * M ** 2) / d0\n",
    "    res += (15 * gbar ** 2 * mu + 16 * M) / d0 / M * p ** 2\n",
    "    res += (5 * gbar ** 2 * mu + 24 * M) / d0 / M ** 3 * p ** 4\n",
    "    res += (gbar ** 2 * mu + 16 * M) / d0 / M ** 5 * p ** 6\n",
    "    res += 4 * M / d0 / M ** 7 * p ** 8\n",
    "    return res"
   ]
  },
  {
   "cell_type": "markdown",
   "metadata": {},
   "source": [
    "## Finite Volume g"
   ]
  },
  {
   "cell_type": "code",
   "execution_count": null,
   "metadata": {},
   "outputs": [],
   "source": [
    "def gbarfix(gamma, M, mu):\n",
    "    return (\n",
    "        2\n",
    "        * (gamma + M) ** 2\n",
    "        / np.sqrt(mu * M ** 3 * (gamma ** 2 + 5 * M ** 2 + 4 * gamma * M))\n",
    "        * M\n",
    "    )"
   ]
  },
  {
   "cell_type": "code",
   "execution_count": null,
   "metadata": {},
   "outputs": [],
   "source": [
    "L = 5.0\n",
    "e0 = -2.225\n",
    "M = 10.0\n",
    "nstep = None\n",
    "\n",
    "data = []\n",
    "\n",
    "for n1d in [10, 15, 20, 25]:#, 30, 35]:  # , 40, 45, 50]:\n",
    "    print(n1d)\n",
    "    epsilon = L / n1d\n",
    "\n",
    "    kernel = Kernel(n1d, epsilon=epsilon, nstep=nstep, M=M, e0=e0)\n",
    "    res = minimize_scalar(kernel.res, bracket=(1.0e-4, 1.0e2))\n",
    "\n",
    "    h = PhenomLRHamiltonian(n1d=n1d, epsilon=epsilon, nstep=None, M=M, gbar=res.x)\n",
    "\n",
    "    ee = eigsh(h.op, which=\"SA\", return_eigenvectors=False, k=20)\n",
    "\n",
    "    mu = h.m / 2\n",
    "    p2 = 2 * mu * ee\n",
    "    x = (h.L / 2 / np.pi) ** 2 * p2\n",
    "\n",
    "    z = Zeta3D(L, h.epsilon, h.nstep)(x)\n",
    "\n",
    "    for xi, zi in zip(x, z):\n",
    "        data.append(\n",
    "            {\n",
    "                \"x\": xi,\n",
    "                \"y\": zi / np.pi / h.L,\n",
    "                \"epsilon\": h.epsilon,\n",
    "                \"L\": h.L,\n",
    "                \"n1d\": n1d,\n",
    "                \"gbar\": h.gbar,\n",
    "            }\n",
    "        )\n",
    "\n",
    "df = pd.DataFrame(data).dropna().drop_duplicates()\n",
    "df[\"y_old\"] = zeta(df[\"x\"])\n",
    "df.head()\n"
   ]
  },
  {
   "cell_type": "code",
   "execution_count": null,
   "metadata": {
    "scrolled": false
   },
   "outputs": [],
   "source": [
    "fig, ax = plt.subplots(dpi=250)\n",
    "\n",
    "p = np.linspace(-np.sqrt(abs(p2.min())), np.sqrt(p2.max()), 1000)\n",
    "xp = (h.L / 2 / np.pi) ** 2 * p ** 2 * np.sign(p)\n",
    "\n",
    "g0 = np.sqrt(-2 * mu * e0)\n",
    "gbar0 = gbarfix(g0, M, mu)\n",
    "\n",
    "sns.scatterplot(x=\"x\", y=\"y\", data=df, ax=ax, style=\"n1d\", color=\"green\", s=50, lw=2)\n",
    "sns.scatterplot(x=\"x\", y=\"y_old\", data=df, ax=ax, style=\"n1d\", color=\"red\", legend=False)\n",
    "\n",
    "ax.plot(\n",
    "    xp,\n",
    "    pcotd(p * (-1j) ** (p < 0), gbar0, h.m / 2, h.M).real,\n",
    "    label=\"Analytic\",\n",
    "    ls=\"--\",\n",
    "    color=\"black\",\n",
    "    zorder=-1,\n",
    "    lw=1\n",
    ")\n",
    "\n",
    "ax.plot(np.nan, np.nan, color=\"red\", label=\"Original Lüscher\")\n",
    "ax.plot(np.nan, np.nan, color=\"green\", label=\"Dispersion Lüscher\")\n",
    "\n",
    "ax.legend(fontsize=8, loc=\"center left\", frameon=False, )\n",
    "\n",
    "ax.set_ylabel(\"Effective range expansion\\n\" r\"$p \\cot(\\delta_0(p))$ [fm$^{-1}$]\")\n",
    "ax.set_xlabel(\n",
    "    \"Normalized scattering momentum\\n\" r\"$x = p^2 \\left(\\frac{L}{2\\pi}\\right)^2$\"\n",
    ")\n",
    "\n",
    "ax.set_title(r\"Potential fitted to reproduce infinite volume continuum $E_0 = -2.225$ MeV\", size=8)\n",
    "\n",
    "\n",
    "\n",
    "\n",
    "plt.show(fig)\n"
   ]
  },
  {
   "cell_type": "raw",
   "metadata": {},
   "source": [
    "fig.savefig(\"long-range-ere-v-fit.pdf\", bbox_inches=\"tight\")"
   ]
  },
  {
   "cell_type": "markdown",
   "metadata": {},
   "source": [
    "## Infinite Volume g"
   ]
  },
  {
   "cell_type": "code",
   "execution_count": null,
   "metadata": {},
   "outputs": [],
   "source": [
    "L = 5.0\n",
    "e0 = -2.225\n",
    "M = 10.0\n",
    "nstep = None\n",
    "\n",
    "data = []\n",
    "\n",
    "for n1d in [10, 15, 20, 25]:#, 30, 35]:  # , 40, 45, 50]:\n",
    "    print(n1d)\n",
    "    epsilon = L / n1d\n",
    "\n",
    "    h = PhenomLRHamiltonian(n1d=n1d, epsilon=epsilon, nstep=None, M=M, gbar=gbar0)\n",
    "\n",
    "    ee = eigsh(h.op, which=\"SA\", return_eigenvectors=False, k=20)\n",
    "\n",
    "    mu = h.m / 2\n",
    "    p2 = 2 * mu * ee\n",
    "    x = (h.L / 2 / np.pi) ** 2 * p2\n",
    "\n",
    "    z = Zeta3D(L, h.epsilon, h.nstep)(x)\n",
    "\n",
    "    for xi, zi in zip(x, z):\n",
    "        data.append(\n",
    "            {\n",
    "                \"x\": xi,\n",
    "                \"y\": zi / np.pi / h.L,\n",
    "                \"epsilon\": h.epsilon,\n",
    "                \"L\": h.L,\n",
    "                \"n1d\": n1d,\n",
    "                \"gbar\": h.gbar,\n",
    "            }\n",
    "        )\n",
    "\n",
    "df2 = pd.DataFrame(data).dropna().drop_duplicates()\n",
    "df2[\"y_old\"] = zeta(df2[\"x\"])\n",
    "df2.head()\n",
    "\n"
   ]
  },
  {
   "cell_type": "code",
   "execution_count": null,
   "metadata": {
    "scrolled": false
   },
   "outputs": [],
   "source": [
    "fig, ax = plt.subplots(dpi=250)\n",
    "\n",
    "p = np.linspace(-np.sqrt(abs(p2.min())), np.sqrt(p2.max()), 1000)\n",
    "xp = (h.L / 2 / np.pi) ** 2 * p ** 2 * np.sign(p)\n",
    "\n",
    "g0 = np.sqrt(-2 * mu * e0)\n",
    "gbar0 = gbarfix(g0, M, mu)\n",
    "\n",
    "sns.scatterplot(x=\"x\", y=\"y\", data=df2, ax=ax, style=\"n1d\", color=\"green\", s=50, lw=2)\n",
    "sns.scatterplot(x=\"x\", y=\"y_old\", data=df2, ax=ax, style=\"n1d\", color=\"red\", legend=False)\n",
    "\n",
    "ax.plot(\n",
    "    xp,\n",
    "    pcotd(p * (-1j) ** (p < 0), gbar0, h.m / 2, h.M).real,\n",
    "    label=\"Analytic\",\n",
    "    ls=\"--\",\n",
    "    color=\"black\",\n",
    "    zorder=-1,\n",
    "    lw=1\n",
    ")\n",
    "\n",
    "ax.plot(np.nan, np.nan, color=\"red\", label=\"Original Lüscher\")\n",
    "ax.plot(np.nan, np.nan, color=\"green\", label=\"Dispersion Lüscher\")\n",
    "\n",
    "ax.legend(fontsize=8, loc=\"center left\", frameon=False, )\n",
    "\n",
    "ax.set_ylabel(\"Effective range expansion\\n\" r\"$p \\cot(\\delta_0(p))$ [fm$^{-1}$]\")\n",
    "ax.set_xlabel(\n",
    "    \"Normalized scattering momentum\\n\" r\"$x = p^2 \\left(\\frac{L}{2\\pi}\\right)^2$\"\n",
    ")\n",
    "\n",
    "ax.set_title(r\"Potential uses infinite volume continuum parameters\", size=8)\n",
    "\n",
    "plt.show(fig)\n"
   ]
  },
  {
   "cell_type": "raw",
   "metadata": {},
   "source": [
    "fig.savefig(\"long-range-ere-v-inf-cont.pdf\", bbox_inches=\"tight\")"
   ]
  },
  {
   "cell_type": "markdown",
   "metadata": {},
   "source": [
    "## Finite Volume g"
   ]
  },
  {
   "cell_type": "code",
   "execution_count": null,
   "metadata": {},
   "outputs": [],
   "source": []
  }
 ],
 "metadata": {
  "kernelspec": {
   "display_name": "Python 3",
   "language": "python",
   "name": "python3"
  },
  "language_info": {
   "codemirror_mode": {
    "name": "ipython",
    "version": 3
   },
   "file_extension": ".py",
   "mimetype": "text/x-python",
   "name": "python",
   "nbconvert_exporter": "python",
   "pygments_lexer": "ipython3",
   "version": "3.7.3"
  }
 },
 "nbformat": 4,
 "nbformat_minor": 2
}
