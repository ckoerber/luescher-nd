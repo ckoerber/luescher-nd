{
 "cells": [
  {
   "cell_type": "markdown",
   "metadata": {},
   "source": [
    "# Init"
   ]
  },
  {
   "cell_type": "code",
   "execution_count": null,
   "metadata": {},
   "outputs": [],
   "source": [
    "import os\n",
    "\n",
    "import matplotlib.pylab as plt\n",
    "\n",
    "import numpy as np\n",
    "import pandas as pd\n",
    "import seaborn as sns\n",
    "\n",
    "from luescher_nd.database.utilities import read_table\n",
    "from luescher_nd.zeta.zeta2d import Zeta2D"
   ]
  },
  {
   "cell_type": "code",
   "execution_count": null,
   "metadata": {},
   "outputs": [],
   "source": [
    "%load_ext blackcellmagic"
   ]
  },
  {
   "cell_type": "markdown",
   "metadata": {},
   "source": [
    "# Comparison with Tom"
   ]
  },
  {
   "cell_type": "markdown",
   "metadata": {},
   "source": [
    "Init the zeta functions"
   ]
  },
  {
   "cell_type": "code",
   "execution_count": null,
   "metadata": {},
   "outputs": [],
   "source": [
    "N = 100\n",
    "z_spherical = Zeta2D(N, spherical=True)\n",
    "z_cartesian = Zeta2D(N, spherical=False)"
   ]
  },
  {
   "cell_type": "markdown",
   "metadata": {},
   "source": [
    "Plot to compare with Tom"
   ]
  },
  {
   "cell_type": "code",
   "execution_count": null,
   "metadata": {},
   "outputs": [],
   "source": [
    "fig, ax = plt.subplots(figsize=(4,2), dpi=250)\n",
    "\n",
    "tol = 40.0\n",
    "\n",
    "x = np.linspace(-4, 10, 987)\n",
    "\n",
    "linestyles = {\n",
    "    \"spherical\": \"-\", \n",
    "    \"cartesian\": \"--\"\n",
    "}\n",
    "\n",
    "for z, key in zip([z_spherical, z_cartesian], [\"spherical\", \"cartesian\"]):\n",
    "    y = z(x)\n",
    "    y[y>tol] = np.inf\n",
    "    y[y<-tol] = -np.inf\n",
    "\n",
    "    ax.plot(x, y, ls=linestyles[key], label=key, lw=1)\n",
    "\n",
    "ax.axhline(0, color=\"gray\", lw=.5, ls=\"-\", zorder=-1, alpha=.5)\n",
    "for pole in [0, 1, 2, 4, 5, 8, 9]:\n",
    "    ax.axvline(pole, color=\"gray\", lw=.5, ls=\"-\", zorder=-1, alpha=.5)\n",
    "\n",
    "sns.despine()\n",
    "\n",
    "ax.legend(loc=\"upper left\", bbox_to_anchor=(1,1), frameon=False)\n",
    "\n",
    "ax.set_ylim(-20, 20)\n",
    "ax.set_xlim(-4, 10)\n",
    "\n",
    "ax.set_xlabel(\"$x$\")\n",
    "ax.set_ylabel(\"$S_2(x)$\")\n",
    "\n",
    "ax.set_title(f\"$N={N}$\", fontsize=10)\n",
    "\n",
    "plt.show()"
   ]
  },
  {
   "cell_type": "raw",
   "metadata": {},
   "source": [
    "fig.savefig(\"figs/zeta-2d.jpg\", bbox_inches=\"tight\")"
   ]
  },
  {
   "cell_type": "markdown",
   "metadata": {},
   "source": [
    "# Plot database results"
   ]
  },
  {
   "cell_type": "code",
   "execution_count": null,
   "metadata": {},
   "outputs": [],
   "source": []
  },
  {
   "cell_type": "code",
   "execution_count": null,
   "metadata": {},
   "outputs": [],
   "source": [
    "ROOT = os.path.abspath(\"../data/two-d\")\n",
    "db = os.path.join(ROOT, \"db-contact-fv-c-parity.sqlite\")"
   ]
  },
  {
   "cell_type": "code",
   "execution_count": null,
   "metadata": {},
   "outputs": [],
   "source": [
    "mass = 4.758\n",
    "mu = mass / 2"
   ]
  },
  {
   "cell_type": "code",
   "execution_count": null,
   "metadata": {},
   "outputs": [],
   "source": [
    "def ere(y, x):\n",
    "    return y / np.pi**2 + 1 / np.pi * np.log(x)"
   ]
  },
  {
   "cell_type": "code",
   "execution_count": null,
   "metadata": {},
   "outputs": [],
   "source": [
    "df = read_table(database=db, drop_comment=False).drop(columns=\"y\")\n",
    "\n",
    "df = (\n",
    "    pd.merge(\n",
    "        df,\n",
    "        df.comment.str.extract(\n",
    "            \"spherical=(?P<spherical>[01]{1})&a0=(?P<a0>[0-9\\.]+)&Lambda=(?P<Lambda>[0-9\\.]+)\"\n",
    "        ),\n",
    "        how=\"inner\",\n",
    "        left_index=True,\n",
    "        right_index=True,\n",
    "    )\n",
    "    .astype(dtype={\"spherical\": int, \"a0\": float, \"Lambda\": float})\n",
    "    .astype({\"spherical\": bool})\n",
    ")\n",
    "zeta = {True: z_spherical, False: z_cartesian}\n",
    "\n",
    "\n",
    "df[\"y\"] = df.apply(\n",
    "    lambda row: ere(zeta[row[\"spherical\"]](row[\"x\"]), row[\"x\"])[0], axis=1\n",
    ")\n",
    "df = df.dropna()\n",
    "\n",
    "a0 = df.a0.unique()\n",
    "\n",
    "df = df.drop(columns=[\"comment\", \"date\"])\n",
    "df[\"epsilon\"] = df.epsilon.round(3)\n",
    "\n",
    "tf = df.query(\"y < 5 and y > -5 and epsilon < 0.1 and L == 1\").sort_values(\n",
    "    [\"spherical\", \"n1d\", \"nstep\", \"nlevel\"]\n",
    ")\n",
    "\n",
    "tf.head()"
   ]
  },
  {
   "cell_type": "code",
   "execution_count": null,
   "metadata": {},
   "outputs": [],
   "source": [
    "grid = sns.FacetGrid(\n",
    "    data=tf,\n",
    "    row=\"spherical\",\n",
    "    col=\"nstep\",\n",
    "    hue=\"epsilon\",\n",
    "    legend_out=True,\n",
    "    margin_titles=True,\n",
    "    col_order=[\"1\", \"4\", \"$\\\\infty$\"],\n",
    "    hue_kws=dict(marker=[\"o\", \"s\", \"v\", \"^\", \"d\"])\n",
    ")\n",
    "\n",
    "grid.map(plt.plot, \"x\", \"y\", ms=3, ls=\":\", marker=\"s\", lw=0.5).add_legend(title=r\"$\\epsilon$ [fm]\")\n",
    "\n",
    "x = np.linspace(-0.1, 20, 200)\n",
    "\n",
    "for ax in grid.axes.flatten():\n",
    "    ax.set_ylim(-1, 3)\n",
    "\n",
    "    ax.axhline(0, color=\"black\", lw=0.5, ls=\"-\", zorder=-1)\n",
    "    ax.axvline(0, color=\"black\", lw=0.5, ls=\"-\", zorder=-1)\n",
    "    ax.plot(\n",
    "        x,\n",
    "        2 / np.pi * np.log(a0 * 2 * np.pi * np.sqrt(x) / tf.L.unique()),\n",
    "        color=\"black\",\n",
    "        ls=\"--\",\n",
    "        lw=\"1\",\n",
    "        label=\"Analytic\",\n",
    "        zorder=-1,\n",
    "    )\n",
    "\n",
    "grid.set_ylabels(\"$\\cot(\\delta_0(x))$\")\n",
    "grid.set_xlabels(\"$x$\")\n",
    "\n",
    "grid.fig.suptitle(f\"$L = {tf.L.unique()[0]}$ [fm], $a_0 = {tf.a0.unique()[0]}$ [fm]\", y=1.06)\n",
    "\n",
    "grid.fig.set_dpi(250)\n",
    "grid.fig.set_figheight(4)"
   ]
  },
  {
   "cell_type": "raw",
   "metadata": {
    "scrolled": false
   },
   "source": [
    "grid.fig.savefig(\"figs/ere-2d-grid.jpg\", bbox_inches=\"tight\")"
   ]
  },
  {
   "cell_type": "code",
   "execution_count": null,
   "metadata": {},
   "outputs": [],
   "source": [
    "cf = df.groupby([\"epsilon\", \"L\", \"nstep\", \"spherical\"])[[\"contact_strength\"]].mean().reset_index()#.query(\"L == 1\")\n",
    "\n",
    "cf[\"y\"] = -1./cf[\"contact_strength\"]\n",
    "\n",
    "cf.head()"
   ]
  },
  {
   "cell_type": "code",
   "execution_count": null,
   "metadata": {},
   "outputs": [],
   "source": [
    "grid = sns.FacetGrid(\n",
    "    data=cf,\n",
    "    row=\"spherical\",\n",
    "    col=\"nstep\",\n",
    "    hue=\"L\",\n",
    "    legend_out=True,\n",
    "    margin_titles=True,\n",
    "    col_order=[\"1\", \"4\", \"$\\\\infty$\"],\n",
    "    hue_kws=dict(marker=[\"o\", \"s\", \"v\", \"^\", \"d\"]),\n",
    ")\n",
    "\n",
    "grid.map(plt.plot, \"epsilon\", \"y\", ms=3, ls=\":\", marker=\"s\", lw=0.5)\n",
    "\n",
    "x = np.linspace(-0.1, 20, 200)\n",
    "\n",
    "grid.set_ylabels(r\"$-1/c_0(\\epsilon)$ [fm$^{-1}$]\")\n",
    "grid.set_xlabels(\"$\\epsilon$ [fm]\")\n",
    "\n",
    "grid.fig.suptitle(f\"$a_0 = {df.a0.unique()[0]}$ [fm]\", y=1.06)\n",
    "\n",
    "eps = np.linspace(1.0e-2, 9.0e-1, 100)\n",
    "Lambda = np.pi / eps\n",
    "y1 = 2 * mu / np.pi / 2 * np.log(a0 * Lambda)\n",
    "Gmphl2 = -0.1728274509745820501957409\n",
    "y2 = y1 - 2 * mu / np.pi**2 * Gmphl2\n",
    "\n",
    "for ax in grid.axes.flatten():\n",
    "    ax.set_xscale(\"log\")\n",
    "    ax.set_xlim(1.0e-2, 9.0e-1)\n",
    "    ax.plot(\n",
    "        eps,\n",
    "        y1,\n",
    "        label=r\"$\\frac{\\mu}{\\pi} \\log\\left(\\frac{\\pi}{\\epsilon}a_0\\right)$\",\n",
    "        ls=\"-\",\n",
    "        color=\"blue\",\n",
    "        lw=.5,\n",
    "        zorder=-1\n",
    "    )\n",
    "    ax.plot(\n",
    "        eps,\n",
    "        y2,\n",
    "        label=r\"$\\frac{\\mu}{\\pi} \\log\\left(\\frac{\\pi}{\\epsilon}a_0\\right) \"\n",
    "        r\"- \\frac{2\\mu}{\\pi^2}\\left(G - \\frac{\\pi}{2} \\log(2)\\right)$\",\n",
    "        ls=\"-\",\n",
    "        color=\"green\",\n",
    "        lw=.5,\n",
    "        zorder=-1\n",
    "    )\n",
    "\n",
    "grid.fig.set_dpi(250)\n",
    "grid.fig.set_figheight(4)\n",
    "\n",
    "plt.subplots_adjust()\n",
    "\n",
    "leg = ax.legend(fontsize=10, frameon=False, loc=\"upper left\", bbox_to_anchor=(1.1, 1.5), title=\"$L$ [fm]\")\n"
   ]
  },
  {
   "cell_type": "raw",
   "metadata": {},
   "source": [
    "grid.fig.savefig(\"figs/contact-scaling-2d.jpg\", bbox_inches=\"tight\")"
   ]
  },
  {
   "cell_type": "code",
   "execution_count": null,
   "metadata": {},
   "outputs": [],
   "source": [
    "def c_analytic(epsilon, spherical):\n",
    "    Lambda = np.pi / epsilon\n",
    "    y1 = 2 * mu / np.pi / 2 * np.log(a0 * Lambda)\n",
    "    Gmphl2 = -0.1728274509745820501957409\n",
    "    if not spherical:\n",
    "        y1 -= 2 * mu / np.pi**2 * Gmphl2\n",
    "    return y1\n",
    "\n",
    "def error(actual, expected):\n",
    "    return abs(actual + expected)/expected * 100"
   ]
  },
  {
   "cell_type": "code",
   "execution_count": null,
   "metadata": {},
   "outputs": [],
   "source": [
    "query = \"nstep == '$\\\\infty$'\"\n",
    "ttf = cf.query(query).copy()\n",
    "ttf[\"y_analytic\"] = ttf.apply(lambda row: c_analytic(row[\"epsilon\"], row[\"spherical\"]),\n",
    "    axis=1,\n",
    ")\n",
    "ttf[\"diff\"] = (ttf[\"y_analytic\"] -  ttf[\"y\"]).abs()/ttf[\"y_analytic\"] \n",
    "ttf.head()"
   ]
  },
  {
   "cell_type": "code",
   "execution_count": null,
   "metadata": {},
   "outputs": [],
   "source": [
    "grid = sns.FacetGrid(\n",
    "    data=ttf,\n",
    "    col=\"spherical\",\n",
    "    hue=\"L\",\n",
    "    legend_out=True,\n",
    "    margin_titles=True,\n",
    "    hue_kws=dict(marker=[\"o\", \"s\", \"v\", \"^\", \"d\"]),\n",
    ")\n",
    "\n",
    "grid.map(plt.plot, \"epsilon\", \"diff\", ls=\"--\", lw=0.5, marker=\"o\", ms=1)\n",
    "\n",
    "grid.fig.set_dpi(250)\n",
    "grid.fig.set_figheight(3)\n",
    "\n",
    "for ax in grid.axes.flatten():\n",
    "    ax.set_yscale(\"log\")\n",
    "    ax.set_xscale(\"log\")\n",
    "    ax.set_xlim(1.0e-2, 9.0e-1)\n",
    "    ax.set_ylim(1.0e-4, 1.1e-1)\n",
    "\n",
    "plt.subplots_adjust()\n",
    "grid.fig.suptitle(query, fontsize=12, y=1.06)\n",
    "\n",
    "ax.legend(\n",
    "    fontsize=10,\n",
    "    frameon=False,\n",
    "    loc=\"upper left\",\n",
    "    bbox_to_anchor=(1.1, 0.8),\n",
    "    title=\"$L$ [fm]\",\n",
    ")\n",
    "grid.set_xlabels(\"$\\epsilon$ [fm]\")\n",
    "grid.set_ylabels(r\"$ \\left|\\Delta\\frac{-1}{c_0(\\epsilon)}\\right|$ [%]\")\n",
    "\n",
    "plt.show()"
   ]
  },
  {
   "cell_type": "raw",
   "metadata": {},
   "source": [
    "grid.fig.savefig(\"figs/contact-scaling-difference-2d.jpg\", bbox_inches=\"tight\")"
   ]
  },
  {
   "cell_type": "code",
   "execution_count": null,
   "metadata": {},
   "outputs": [],
   "source": []
  }
 ],
 "metadata": {
  "kernelspec": {
   "display_name": "Python 3",
   "language": "python",
   "name": "python3"
  },
  "language_info": {
   "codemirror_mode": {
    "name": "ipython",
    "version": 3
   },
   "file_extension": ".py",
   "mimetype": "text/x-python",
   "name": "python",
   "nbconvert_exporter": "python",
   "pygments_lexer": "ipython3",
   "version": "3.7.3"
  }
 },
 "nbformat": 4,
 "nbformat_minor": 2
}
