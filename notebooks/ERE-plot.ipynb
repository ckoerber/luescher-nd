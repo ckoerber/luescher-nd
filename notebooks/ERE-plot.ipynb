{
 "cells": [
  {
   "cell_type": "markdown",
   "metadata": {},
   "source": [
    "# Effective Range Expansion plot"
   ]
  },
  {
   "cell_type": "markdown",
   "metadata": {},
   "source": [
    "Notebook which plots Effective range exapansion by reading in files"
   ]
  },
  {
   "cell_type": "markdown",
   "metadata": {},
   "source": [
    "## Imports"
   ]
  },
  {
   "cell_type": "code",
   "execution_count": null,
   "metadata": {},
   "outputs": [],
   "source": [
    "from itertools import product\n",
    "\n",
    "import numpy as np\n",
    "import pandas as pd\n",
    "\n",
    "from matplotlib.pylab import plt\n",
    "import seaborn as sns\n",
    "\n",
    "from luescher_nd.zeta.zeta3d import Zeta3D\n",
    "from luescher_nd.zeta.extern.pyzeta import zeta as zeta_cont\n",
    "\n",
    "from luescher_nd.utilities import get_laplace_coefficients\n",
    "\n",
    "from sympy import S"
   ]
  },
  {
   "cell_type": "code",
   "execution_count": null,
   "metadata": {},
   "outputs": [],
   "source": [
    "%load_ext blackcellmagic"
   ]
  },
  {
   "cell_type": "markdown",
   "metadata": {},
   "source": [
    "## Parameters & Files"
   ]
  },
  {
   "cell_type": "code",
   "execution_count": null,
   "metadata": {},
   "outputs": [],
   "source": [
    "HBARC = 197.326 # MeV / fm\n",
    "M_NUCLEON = (938.27 + 939.57) / 2 / HBARC # in fm^{-1}\n",
    "\n",
    "mu = M_NUCLEON / 2"
   ]
  },
  {
   "cell_type": "code",
   "execution_count": null,
   "metadata": {
    "scrolled": false
   },
   "outputs": [],
   "source": [
    "FILEREAD = \"../data/luescher-3d-res-mom-nstep-inf.csv\"\n",
    "FILEREAD = \"../data/luescher-3d-dispersion-final.csv\"\n",
    "\n",
    "df = pd.read_csv(FILEREAD, dtype={\"nstep\": \"Int64\"})\n",
    "\n",
    "df.loc[df.nstep.isna(), \"nstep\"] = -1\n",
    "\n",
    "df[\"L\"] = df[\"n1d_max\"] * df[\"epsilon\"]\n",
    "df[\"x\"] = df[\"energy\"] * mu * df[\"L\"] ** 2 / 2 / np.pi ** 2\n",
    "\n",
    "df[\"y\"] = np.nan\n",
    "df[\"continuum\"] = False\n",
    "\n",
    "for L, epsilon, nstep in product(df.L.unique(), df.epsilon.unique(), df.nstep.unique()):\n",
    "    ind = (df.L == L) & (df.epsilon == epsilon) & (df.nstep == nstep)\n",
    "\n",
    "    nstep = nstep if nstep > 0 else None\n",
    "    zeta = Zeta3D(L, epsilon, nstep=nstep)\n",
    "    free_x = np.unique(zeta._get_n2())\n",
    "    df.loc[ind, \"continuum\"] = df.loc[ind, \"x\"].apply(\n",
    "        lambda val: np.abs(val - free_x).min() < 0.05\n",
    "    )\n",
    "    df.loc[ind, \"y\"] = zeta(df.loc[ind, \"x\"].values) / np.pi / L\n",
    "\n",
    "df[\"nstep\"] = df.apply(\n",
    "    lambda row: \"$\\infty$\" if row[\"nstep\"] < 0 else f\"${row['nstep']}$\", axis=1\n",
    ")\n",
    "\n",
    "df = df[df.continuum == False]\n",
    "df = df.drop_duplicates([\"epsilon\", \"nstep\", \"y\"]).dropna()\n",
    "\n",
    "df = df.sort_values([\"x\", \"n1d_max\", \"nstep\"], ascending=[True, True, True])\n",
    "\n",
    "df.head()\n"
   ]
  },
  {
   "cell_type": "markdown",
   "metadata": {},
   "source": [
    "## Plot"
   ]
  },
  {
   "cell_type": "code",
   "execution_count": null,
   "metadata": {
    "scrolled": false
   },
   "outputs": [],
   "source": [
    "ymax = 0.5\n",
    "\n",
    "g = sns.FacetGrid(\n",
    "    df,\n",
    "    col=\"nstep\",\n",
    "    hue=\"n1d_max\",\n",
    "    hue_kws={\"marker\": [\"s\", \"o\", \"v\", \"d\"]},\n",
    "    palette=\"cubehelix\",\n",
    "    xlim=(-0.1, 19),\n",
    "    #ylim=(-0.01, ymax),\n",
    "    col_order=sorted(df.nstep.unique())\n",
    ")\n",
    "\n",
    "g.map(plt.plot, \"x\", \"y\", ms=1, lw=0.5, ls=\"--\")\n",
    "\n",
    "g.set_xlabels(\"$x$\")\n",
    "g.set_ylabels(r\"$\\frac{S_3^{Lat}(x)}{\\pi L}$\")\n",
    "\n",
    "g.add_legend(title=r\"$\\frac{L}{\\epsilon}$\", fontsize=6)\n",
    "\n",
    "x = np.linspace(-1, 20, 1000)\n",
    "\n",
    "L = 1.0\n",
    "epsilon= 0.1\n",
    "\n",
    "zeta = Zeta3D(L, epsilon)\n",
    "for ax in g.axes[0]:\n",
    "    ax.axhline(0, c=\"black\", lw=0.2)\n",
    "    ax.axvline(0, c=\"black\", lw=0.2)\n",
    "    ax.set_yscale(\"log\")\n",
    "    #ax.plot(x, zeta(x)/np.pi/L, \"--\", lw=0.1, ms=0.1)\n",
    "    \n",
    "g.fig.set_dpi(300)\n",
    "g.fig.set_figheight(2)\n",
    "g.fig.set_figwidth(6)\n",
    "\n",
    "plt.show(g.fig)"
   ]
  },
  {
   "cell_type": "raw",
   "metadata": {},
   "source": [
    "filename = \"S3lat-results-nstep-exact-disperion.pdf\"\n",
    "g.fig.savefig(filename, bbox_inches=\"tight\")\n",
    "!open $filename"
   ]
  }
 ],
 "metadata": {
  "kernelspec": {
   "display_name": "Python 3",
   "language": "python",
   "name": "python3"
  },
  "language_info": {
   "codemirror_mode": {
    "name": "ipython",
    "version": 3
   },
   "file_extension": ".py",
   "mimetype": "text/x-python",
   "name": "python",
   "nbconvert_exporter": "python",
   "pygments_lexer": "ipython3",
   "version": "3.7.3"
  }
 },
 "nbformat": 4,
 "nbformat_minor": 2
}
