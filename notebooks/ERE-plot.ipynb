{
 "cells": [
  {
   "cell_type": "markdown",
   "metadata": {},
   "source": [
    "# Effective Range Expansion plot"
   ]
  },
  {
   "cell_type": "markdown",
   "metadata": {},
   "source": [
    "## Imports"
   ]
  },
  {
   "cell_type": "code",
   "execution_count": null,
   "metadata": {},
   "outputs": [],
   "source": [
    "from itertools import product\n",
    "\n",
    "import numpy as np\n",
    "import pandas as pd\n",
    "\n",
    "from matplotlib.pylab import plt\n",
    "import seaborn as sns\n",
    "\n",
    "from luescher_nd.zeta.zeta3d import Zeta3D\n",
    "\n",
    "from luescher_nd.utilities import get_laplace_coefficients\n",
    "from luescher_nd.utilities import Solver\n",
    "\n",
    "from sympy import S"
   ]
  },
  {
   "cell_type": "markdown",
   "metadata": {},
   "source": [
    "## Parameters & Files"
   ]
  },
  {
   "cell_type": "code",
   "execution_count": null,
   "metadata": {},
   "outputs": [],
   "source": [
    "HBARC = 197.326 # MeV / fm\n",
    "M_NUCLEON = (938.27 + 939.57) / 2 / HBARC # in fm^{-1}\n",
    "\n",
    "mu = M_NUCLEON / 2"
   ]
  },
  {
   "cell_type": "code",
   "execution_count": null,
   "metadata": {},
   "outputs": [],
   "source": [
    "FILEREAD = \"../data/luescher-3d-res-mom-nstep-inf.csv\"\n",
    "FILEREAD = \"../data/luescher-3d-res-zeta-box.csv\"\n",
    "\n",
    "df = pd.read_csv(FILEREAD)\n",
    "\n",
    "df[\"L\"] = df[\"n1d_max\"]  * df[\"epsilon\"]\n",
    "df[\"x\"] = df[\"energy\"] * mu * df[\"L\"]**2 / 2 / np.pi**2\n",
    "\n",
    "df.loc[df[\"nstep\"].isna(), \"nstep\"] = \"infty\"\n",
    "\n",
    "df[\"y\"] = None\n",
    "for L, epsilon, nstep in product(df.L.unique(), df.epsilon.unique(), df.nstep.unique()):\n",
    "    ind = (df.L == L) & (df.epsilon == epsilon) & (df.nstep == nstep)\n",
    "    zeta = Zeta3D(L, epsilon, nstep=nstep)\n",
    "    df.loc[ind, \"y\"] = zeta(df.loc[ind, \"x\"].values) / np.pi / L\n",
    "    \n",
    "df.head()"
   ]
  },
  {
   "cell_type": "markdown",
   "metadata": {},
   "source": [
    "Filter out states which are duplicates or non-interacting (`y` value to large)"
   ]
  },
  {
   "cell_type": "code",
   "execution_count": null,
   "metadata": {},
   "outputs": [],
   "source": [
    "tf = df[(df.y.abs() < 10) ].drop_duplicates([\"epsilon\", \"nstep\", \"y\"])"
   ]
  },
  {
   "cell_type": "markdown",
   "metadata": {},
   "source": [
    "## Plot"
   ]
  },
  {
   "cell_type": "code",
   "execution_count": null,
   "metadata": {
    "scrolled": false
   },
   "outputs": [],
   "source": [
    "ymax = 4\n",
    "\n",
    "g = sns.FacetGrid(\n",
    "    tf,\n",
    "    col=\"nstep\",\n",
    "    hue=\"n1d_max\",\n",
    "    hue_kws={\"marker\": [\"s\", \"o\", \"v\", \"d\"]},\n",
    "    palette=\"cubehelix\",\n",
    "    #xlim=(-1, 6),\n",
    "    ylim=(-ymax, ymax)\n",
    ")\n",
    "\n",
    "g.map(plt.plot, \"x\", \"y\", ms=1, lw=0.5, ls=\"--\")\n",
    "\n",
    "g.set_xlabels(\"$x$\")\n",
    "g.set_ylabels(r\"$\\frac{S_3^{Lat}(x)}{\\pi L}$\")\n",
    "\n",
    "g.add_legend(title=r\"$\\frac{L}{\\epsilon}$\", fontsize=6)\n",
    "\n",
    "x = np.linspace(-1, 10, 1000)\n",
    "\n",
    "L = 1.0\n",
    "epsilon= 0.1\n",
    "\n",
    "zeta = Zeta3D(L, epsilon)\n",
    "for ax in g.axes[0]:\n",
    "    ax.axhline(0, c=\"black\", lw=0.2)\n",
    "    ax.axvline(0, c=\"black\", lw=0.2)\n",
    "    ax.plot(x, zeta(x)/np.pi/L, \"--\", lw=0.1, ms=0.1)\n",
    "    \n",
    "g.fig.set_dpi(300)\n",
    "g.fig.set_figheight(2)\n",
    "g.fig.set_figwidth(6)\n",
    "\n",
    "plt.show(g.fig)"
   ]
  },
  {
   "cell_type": "code",
   "execution_count": null,
   "metadata": {},
   "outputs": [],
   "source": [
    "filename = \"S3lat-results-nstep-exact-disperion.pdf\"\n",
    "g.fig.savefig(filename, bbox_inches=\"tight\")\n",
    "!open $filename"
   ]
  },
  {
   "cell_type": "code",
   "execution_count": null,
   "metadata": {},
   "outputs": [],
   "source": []
  }
 ],
 "metadata": {
  "kernelspec": {
   "display_name": "Python 3",
   "language": "python",
   "name": "python3"
  },
  "language_info": {
   "codemirror_mode": {
    "name": "ipython",
    "version": 3
   },
   "file_extension": ".py",
   "mimetype": "text/x-python",
   "name": "python",
   "nbconvert_exporter": "python",
   "pygments_lexer": "ipython3",
   "version": "3.7.2"
  }
 },
 "nbformat": 4,
 "nbformat_minor": 2
}
