{
 "cells": [
  {
   "cell_type": "code",
   "execution_count": null,
   "metadata": {},
   "outputs": [],
   "source": [
    "from scipy.sparse.linalg import LinearOperator\n",
    "import numpy as np\n",
    "\n",
    "from matplotlib.pylab import plt\n",
    "\n",
    "from dataclasses import dataclass\n",
    "\n",
    "from luescher_nd.utilities import Solver\n",
    "\n",
    "from luescher_nd.utilities import get_laplace_coefficients"
   ]
  },
  {
   "cell_type": "code",
   "execution_count": null,
   "metadata": {},
   "outputs": [],
   "source": [
    "def myplus(a):\n",
    "    return a + 1"
   ]
  },
  {
   "cell_type": "code",
   "execution_count": null,
   "metadata": {},
   "outputs": [],
   "source": [
    "n = 10\n",
    "lop = LinearOperator((n,n), matvec=myplus)"
   ]
  },
  {
   "cell_type": "code",
   "execution_count": null,
   "metadata": {},
   "outputs": [],
   "source": [
    "a = np.arange(0, n)"
   ]
  },
  {
   "cell_type": "code",
   "execution_count": null,
   "metadata": {},
   "outputs": [],
   "source": [
    "lop(a)"
   ]
  },
  {
   "cell_type": "code",
   "execution_count": null,
   "metadata": {},
   "outputs": [],
   "source": [
    "%load_ext blackcellmagic"
   ]
  },
  {
   "cell_type": "code",
   "execution_count": null,
   "metadata": {},
   "outputs": [],
   "source": [
    "@dataclass\n",
    "class FFT_H:\n",
    "    n1d: int\n",
    "    epsilon: float\n",
    "    ndim: int\n",
    "    c0: float\n",
    "    m: int\n",
    "    cuda: bool = False\n",
    "\n",
    "    def __post_init__(self):\n",
    "        self.p1d = (\n",
    "            np.append(np.arange(self.n1d // 2 + 1), np.arange(-self.n1d // 2 + 1, 0))\n",
    "            * 2\n",
    "            * np.pi\n",
    "            / self.n1d\n",
    "            / self.epsilon\n",
    "        )\n",
    "        self.p2 = np.sum(np.array(np.meshgrid(*[self.p1d] * self.ndim)) ** 2, axis=0)\n",
    "        self.p2_over_2m = self.p2 / 2 / self.m\n",
    "\n",
    "        self.mat = LinearOperator(\n",
    "            matvec=self.apply_H, shape=[self.n1d ** self.ndim] * 2\n",
    "        )\n",
    "\n",
    "        self.p2_over_2m_device = cp.array(self.p2_over_2m) if self.cuda else None\n",
    "\n",
    "        self.matp = LinearOperator(\n",
    "            matvec=self.apply_Hp, shape=[self.n1d ** self.ndim] * 2\n",
    "        )\n",
    "\n",
    "    def apply_H(self, vec):\n",
    "        out = self.apply_H0(vec)\n",
    "        out[0] += vec[0] * self.c0 / self.epsilon ** self.ndim\n",
    "        return out\n",
    "\n",
    "    def apply_Hp(self, vec):\n",
    "        return (vec.reshape([self.n1d] * self.ndim) * self.p2_over_2m).reshape(\n",
    "            [self.n1d ** self.ndim]\n",
    "        ) + self.c0 * np.sum(vec) / self.n1d ** self.ndim / self.epsilon ** self.ndim\n",
    "\n",
    "    def apply_H0(self, vec):\n",
    "        if self.cuda:\n",
    "            return (\n",
    "                cp.fft.ifftn(\n",
    "                    cp.fft.fftn(cp.array(vec).reshape([self.n1d] * self.ndim))\n",
    "                    * self.p2_over_2m_device\n",
    "                )\n",
    "                .reshape([self.n1d ** self.ndim])\n",
    "                .get()\n",
    "            )\n",
    "        else:\n",
    "\n",
    "            return np.fft.ifftn(\n",
    "                np.fft.fftn(vec.reshape([self.n1d] * self.ndim)) * self.p2_over_2m\n",
    "            ).reshape([self.n1d ** self.ndim])\n",
    "\n",
    "\n",
    "h = FFT_H(20, 0.1, 3, -1.0, 0.5)\n"
   ]
  },
  {
   "cell_type": "code",
   "execution_count": null,
   "metadata": {},
   "outputs": [],
   "source": [
    "solver = Solver(20, 0.1, 1.0, ndim_max=3, derivative_shifts=get_laplace_coefficients(4))"
   ]
  },
  {
   "cell_type": "code",
   "execution_count": null,
   "metadata": {},
   "outputs": [],
   "source": [
    "energies = solver.get_energies(-1.0, 6)"
   ]
  },
  {
   "cell_type": "code",
   "execution_count": null,
   "metadata": {},
   "outputs": [],
   "source": [
    "import scipy as sp"
   ]
  },
  {
   "cell_type": "code",
   "execution_count": null,
   "metadata": {},
   "outputs": [],
   "source": [
    "neigs = 6\n",
    "eigsp, vecsp = sp.sparse.linalg.eigsh(h.matp, int(neigs*1.2), which=\"SA\")\n",
    "eigs, vecs = sp.sparse.linalg.eigsh(h.mat, int(neigs*1.2), which=\"SA\")\n",
    "\n",
    "eigs.sort()\n",
    "eigsp.sort()\n",
    "\n",
    "eigsp, eigs = eigsp[:neigs], eigs[:neigs]"
   ]
  },
  {
   "cell_type": "code",
   "execution_count": null,
   "metadata": {},
   "outputs": [],
   "source": [
    "eigs - eigsp"
   ]
  },
  {
   "cell_type": "code",
   "execution_count": null,
   "metadata": {},
   "outputs": [],
   "source": [
    "eigs"
   ]
  },
  {
   "cell_type": "code",
   "execution_count": null,
   "metadata": {},
   "outputs": [],
   "source": [
    "eigsp"
   ]
  },
  {
   "cell_type": "code",
   "execution_count": null,
   "metadata": {},
   "outputs": [],
   "source": [
    "energies"
   ]
  },
  {
   "cell_type": "code",
   "execution_count": null,
   "metadata": {},
   "outputs": [],
   "source": [
    "(energies - eigs)"
   ]
  },
  {
   "cell_type": "code",
   "execution_count": null,
   "metadata": {},
   "outputs": [],
   "source": [
    "(energies / eigs)"
   ]
  },
  {
   "cell_type": "code",
   "execution_count": null,
   "metadata": {},
   "outputs": [],
   "source": []
  }
 ],
 "metadata": {
  "kernelspec": {
   "display_name": "Python 3",
   "language": "python",
   "name": "python3"
  },
  "language_info": {
   "codemirror_mode": {
    "name": "ipython",
    "version": 3
   },
   "file_extension": ".py",
   "mimetype": "text/x-python",
   "name": "python",
   "nbconvert_exporter": "python",
   "pygments_lexer": "ipython3",
   "version": "3.7.2"
  }
 },
 "nbformat": 4,
 "nbformat_minor": 2
}
