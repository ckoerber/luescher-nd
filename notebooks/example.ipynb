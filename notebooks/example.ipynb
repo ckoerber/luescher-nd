{
 "cells": [
  {
   "cell_type": "markdown",
   "metadata": {},
   "source": [
    "# Plot effective range expansion data "
   ]
  },
  {
   "cell_type": "markdown",
   "metadata": {},
   "source": [
    "This notebook presents how to load the generated data into a `pandas.DataFrame` and how to visualize it."
   ]
  },
  {
   "cell_type": "markdown",
   "metadata": {},
   "source": [
    "## Init"
   ]
  },
  {
   "cell_type": "code",
   "execution_count": null,
   "metadata": {},
   "outputs": [],
   "source": [
    "import os\n",
    "\n",
    "import pandas as pd\n",
    "\n",
    "import seaborn as sns\n",
    "import matplotlib.pylab as plt\n",
    "\n",
    "from luescher_nd.database.utilities import read_table"
   ]
  },
  {
   "cell_type": "markdown",
   "metadata": {},
   "source": [
    "Below you can find different `sqlite` database files which store the generated data, e.g., eigenvalues.\n",
    "The title describes how the data was generated.\n",
    "\n",
    "For example:\n",
    "\n",
    "String | Meaning | Options\n",
    "---|---|---\n",
    "`contact-fitted` | A contact interaction was used | `contact-fitted` \n",
    "`a-inv=...` | Physical value of the inverse scattering length | `-5.0` and `0.0`\n",
    "`zeta=...` | The zeta function which was used to determine the groundstate to fit the interaction | `spherical`, `cartesian` and `dispersion`\n",
    "`projector=...` | The projector used to filter out unwanted states | `parity` and `a1g`\n",
    "`n-eigs==...` | The number of eigenvalues extract during diagonalization | `200`"
   ]
  },
  {
   "cell_type": "code",
   "execution_count": null,
   "metadata": {},
   "outputs": [],
   "source": [
    "DATA_DIR = os.path.join(os.getcwd(), os.pardir, \"data\")\n",
    "FILES = [el for el in os.listdir(DATA_DIR) if el.endswith(\".sqlite\")]\n",
    "\n",
    "FILES"
   ]
  },
  {
   "cell_type": "markdown",
   "metadata": {},
   "source": [
    "## Read Data"
   ]
  },
  {
   "cell_type": "markdown",
   "metadata": {},
   "source": [
    "First we load the data into memory"
   ]
  },
  {
   "cell_type": "code",
   "execution_count": null,
   "metadata": {},
   "outputs": [],
   "source": [
    "print(read_table.__doc__)"
   ]
  },
  {
   "cell_type": "code",
   "execution_count": null,
   "metadata": {},
   "outputs": [],
   "source": [
    "a_inv = \"-5.0\"\n",
    "zeta = \"dispersion\"\n",
    "projector = \"a1g\"\n",
    "n_eigs = 200\n",
    "\n",
    "\n",
    "DB_NAME = f\"contact-fitted_a-inv={a_inv}_zeta={zeta}_projector={projector}_n-eigs={n_eigs}.sqlite\"\n",
    "\n",
    "df = read_table(os.path.join(DATA_DIR, DB_NAME), zeta=zeta, filter_degeneracy=True)\n",
    "df.head()"
   ]
  },
  {
   "cell_type": "markdown",
   "metadata": {},
   "source": [
    "## Plot Data"
   ]
  },
  {
   "cell_type": "markdown",
   "metadata": {},
   "source": [
    "Specify grid properties"
   ]
  },
  {
   "cell_type": "code",
   "execution_count": null,
   "metadata": {},
   "outputs": [],
   "source": [
    "row = \"L\"\n",
    "hue = \"epsilon\"\n",
    "col = \"nstep\"\n",
    "col_order = df.nstep.unique()\n",
    "x = \"x\"\n",
    "y = \"y\""
   ]
  },
  {
   "cell_type": "markdown",
   "metadata": {},
   "source": [
    "Specify data ranges"
   ]
  },
  {
   "cell_type": "code",
   "execution_count": null,
   "metadata": {
    "scrolled": false
   },
   "outputs": [],
   "source": [
    "query = \"x > -5 and x < 20\""
   ]
  },
  {
   "cell_type": "markdown",
   "metadata": {},
   "source": [
    "and plot"
   ]
  },
  {
   "cell_type": "code",
   "execution_count": null,
   "metadata": {
    "scrolled": false
   },
   "outputs": [],
   "source": [
    "tf = df.query(query).sort_values(\"x\")\n",
    "\n",
    "grid = sns.FacetGrid(\n",
    "    data=tf,\n",
    "    col=col,\n",
    "    hue=hue,\n",
    "    row=row,\n",
    "    sharex=\"row\",\n",
    "    sharey=\"row\",\n",
    "    legend_out=True,\n",
    "    palette=\"cubehelix\",\n",
    "    margin_titles=True,\n",
    "    col_order=col_order\n",
    ")\n",
    "\n",
    "grid.map(plt.plot, x, y, ms=3, lw=0.5, ls=\"--\", marker=\"s\")\n",
    "\n",
    "for ax in grid.axes.flatten():\n",
    "    # ax.set_ylim(-6, -4)\n",
    "    pass\n",
    "\n",
    "grid.fig.set_dpi(200)\n",
    "grid.add_legend(frameon=False)\n",
    "\n",
    "plt.show()"
   ]
  }
 ],
 "metadata": {
  "kernelspec": {
   "display_name": "Python 3",
   "language": "python",
   "name": "python3"
  },
  "language_info": {
   "codemirror_mode": {
    "name": "ipython",
    "version": 3
   },
   "file_extension": ".py",
   "mimetype": "text/x-python",
   "name": "python",
   "nbconvert_exporter": "python",
   "pygments_lexer": "ipython3",
   "version": "3.7.5"
  }
 },
 "nbformat": 4,
 "nbformat_minor": 2
}
