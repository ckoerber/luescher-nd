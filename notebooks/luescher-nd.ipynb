{
 "cells": [
  {
   "cell_type": "markdown",
   "metadata": {},
   "source": [
    "# Lueschers Formula test in 3, 2, 1 dimensions"
   ]
  },
  {
   "cell_type": "markdown",
   "metadata": {},
   "source": [
    "## Initialization"
   ]
  },
  {
   "cell_type": "code",
   "execution_count": null,
   "metadata": {},
   "outputs": [],
   "source": [
    "# Python modules\n",
    "import itertools\n",
    "import time\n",
    "\n",
    "# Data management\n",
    "import numpy as np\n",
    "import pandas as pd\n",
    "\n",
    "# Plotting\n",
    "import matplotlib.pylab as plt\n",
    "import seaborn as sns\n",
    "\n",
    "# Fitting\n",
    "import scipy.optimize as opt\n",
    "import gvar as gv\n",
    "import lsqfit\n",
    "\n",
    "# Project modules\n",
    "import luescher_nd.utilities as ut"
   ]
  },
  {
   "cell_type": "code",
   "execution_count": null,
   "metadata": {},
   "outputs": [],
   "source": [
    "%load_ext blackcellmagic"
   ]
  },
  {
   "cell_type": "markdown",
   "metadata": {},
   "source": [
    "### Parameters"
   ]
  },
  {
   "cell_type": "markdown",
   "metadata": {},
   "source": [
    "Quantities will be expressed in units of [fm]. Energies are converted to inverse fermi using $\\hbar c = 197.326$ MeV/fm."
   ]
  },
  {
   "cell_type": "code",
   "execution_count": null,
   "metadata": {},
   "outputs": [],
   "source": [
    "HBARC = 197.326 # MeV / fm\n",
    "E_DEUTERON = - 2.225 / HBARC\n",
    "M_NUCLEON = (938.27 + 939.57) / 2 / HBARC\n",
    "\n",
    "NDIM_MAX = 3\n",
    "N1D_MAX = 20\n",
    "LATTICE_SPACING = 1.97"
   ]
  },
  {
   "cell_type": "markdown",
   "metadata": {},
   "source": [
    "## Computation"
   ]
  },
  {
   "cell_type": "markdown",
   "metadata": {},
   "source": [
    "### 1-D computations"
   ]
  },
  {
   "cell_type": "markdown",
   "metadata": {},
   "source": [
    "Even if the contact interaction used to pin down the phase shift does not depent on a ultra-violett cuttoff, it depends on the lattice spacing. Thus one must extrapolate results to the continuum before using Lüschers formula."
   ]
  },
  {
   "cell_type": "markdown",
   "metadata": {},
   "source": [
    "Luckily, there is a one-to-one correspondence of finite volume contact interaction to continuum results:\n",
    "\n",
    "$$\n",
    "c_a(a, E_B) = c_0 \\sqrt{1 + \\frac{\\gamma^2 a^2}{4}}\n",
    "\\, , \\qquad\n",
    "\\gamma = \\sqrt{- 2 \\mu E_B}\\, .\n",
    "$$"
   ]
  },
  {
   "cell_type": "markdown",
   "metadata": {},
   "source": [
    "Thus one must fix $c_a$, compute $E_B$, relate $c_a$ to $c_0$ using $E_B$ and then use Lüschers formula."
   ]
  },
  {
   "cell_type": "code",
   "execution_count": null,
   "metadata": {},
   "outputs": [],
   "source": [
    "L = 20.\n",
    "c0 = -1.0\n",
    "mu = M_NUCLEON / 2\n",
    "gamma0 = -c0 * mu\n",
    "E0 = - gamma0**2 / 2 / mu\n",
    "\n",
    "lattice_spacings = np.linspace(1.e-1, 4.0, 101)[::-1]\n",
    "\n",
    "cas = c0 * np.sqrt(1 + gamma0 ** 2 * lattice_spacings ** 2 / 4)\n",
    "\n",
    "energies = []\n",
    "\n",
    "for aL, ca in zip(lattice_spacings, cas):\n",
    "\n",
    "    n1d_max = int(L / aL)\n",
    "\n",
    "    solver = ut.Solver(\n",
    "        n1d_max=n1d_max,\n",
    "        ndim_max=1,\n",
    "        lattice_spacing=aL,\n",
    "    )\n",
    "    psi0 = ut.get_approx_psi0(\n",
    "        particle_energy=E0, \n",
    "        n1d_max=n1d_max, \n",
    "        ndim_max=1, \n",
    "        lattice_spacing=aL\n",
    "    )\n",
    "\n",
    "    E0 = solver.get_ground_state(ca, v0=psi0)\n",
    "\n",
    "    energies.append(E0)\n",
    "\n",
    "energies = np.array(energies)"
   ]
  },
  {
   "cell_type": "code",
   "execution_count": null,
   "metadata": {},
   "outputs": [],
   "source": [
    "fig, ax = plt.subplots(figsize=(3, 2), dpi=300)\n",
    "\n",
    "gamma = np.sqrt(-2 * mu * np.array(energies))\n",
    "\n",
    "c0s = cas / np.sqrt(1 * gamma ** 2 * lattice_spacings ** 2 / 4)\n",
    "\n",
    "ax.plot(lattice_spacings, -energies, \".\", ms=3, zorder=2)\n",
    "ax.axhline(+gamma0 ** 2 / mu / 2, lw=1, ls=\"--\", c=\"black\")\n",
    "\n",
    "ax.set_ylim(gamma0 ** 2 / mu / 2 * 0.95, gamma0 ** 2 / mu / 2 * 1.05)\n",
    "ax.set_ylabel(\"$E_B$\")\n",
    "ax.set_xlabel(\"$a_L$\")\n",
    "\n",
    "plt.show(fig)\n"
   ]
  },
  {
   "cell_type": "code",
   "execution_count": null,
   "metadata": {},
   "outputs": [],
   "source": [
    "fig, ax = plt.subplots(figsize=(3, 2), dpi=300)\n",
    "\n",
    "gamma = np.sqrt(-2 * mu * np.array(energies))\n",
    "\n",
    "c0s = cas / np.sqrt(1 + gamma ** 2 * lattice_spacings ** 2 / 4)\n",
    "\n",
    "ax.plot(lattice_spacings, c0s, \".\", \".\", ms=3, zorder=2)\n",
    "ax.axhline(c0, lw=1, ls=\"--\", c=\"black\")\n",
    "\n",
    "ax.set_ylim(c0 * 0.8, c0 * 1.2)\n",
    "ax.set_ylabel(\"$c_0$\")\n",
    "ax.set_xlabel(\"$a_L$\")\n",
    "\n",
    "plt.show(fig)"
   ]
  },
  {
   "cell_type": "code",
   "execution_count": null,
   "metadata": {},
   "outputs": [],
   "source": [
    "def s1(x):\n",
    "    if x > 0:\n",
    "        return - np.pi / np.tan(np.pi * np.sqrt(x)) / np.sqrt(x)\n",
    "    else:\n",
    "        return np.pi / np.tanh(np.pi * np.sqrt(-x)) / np.sqrt(-x)"
   ]
  },
  {
   "cell_type": "code",
   "execution_count": null,
   "metadata": {},
   "outputs": [],
   "source": [
    "L = 20.\n",
    "c0 = -1.0\n",
    "mu = M_NUCLEON / 2\n",
    "gamma0 = -c0 * mu\n",
    "E0 = - gamma0**2 / 2 / mu\n",
    "\n",
    "lattice_spacings = np.linspace(1.e-1, 4.0, 101)[::-1]\n",
    "\n",
    "cas = c0 * np.sqrt(1 + gamma0 ** 2 * lattice_spacings ** 2 / 4)\n",
    "\n",
    "a0_lattice = []\n",
    "a0 = []\n",
    "a0ca = []\n",
    "\n",
    "for aL, ca in zip(lattice_spacings, cas):\n",
    "\n",
    "    n1d_max = int(L / aL)\n",
    "\n",
    "    solver = ut.Solver(\n",
    "        n1d_max=n1d_max,\n",
    "        ndim_max=1,\n",
    "        lattice_spacing=aL,\n",
    "        derivative_shifts={-1: 1., 0: -2, 1: 1.},\n",
    "    )\n",
    "    psi0 = ut.get_approx_psi0(E0, n1d_max=n1d_max, ndim_max=1, lattice_spacing=aL)\n",
    "\n",
    "    E0 = solver.get_ground_state(ca, v0=psi0)\n",
    "\n",
    "    L = n1d_max * aL\n",
    "\n",
    "    p = np.sqrt(- E0 * mu *2)\n",
    "    x = (p * L / 2 / np.pi)**2\n",
    "    \n",
    "    a0_lattice.append(s1( -x ) * L / 2 / np.pi**2)\n",
    "    \n",
    "    c0 = ca / np.sqrt(1 + p**2 * aL**2 / 4)\n",
    "    \n",
    "    a0.append(-2 / (mu*2) / c0)\n",
    "    a0ca.append(-2 / (mu*2) / ca) \n",
    "\n",
    "    "
   ]
  },
  {
   "cell_type": "code",
   "execution_count": null,
   "metadata": {},
   "outputs": [],
   "source": [
    "fig, ax = plt.subplots(figsize=(3, 2), dpi=300)\n",
    "\n",
    "ax.plot(lattice_spacings, np.array(a0_lattice)/np.array(a0), \"--\", ms=3, zorder=2, label=\"Zeta vs continuum\")\n",
    "#ax.plot(lattice_spacings, a0, \"--\", lw=1, zorder=2, label=\"Continuum $a_0$\")\n",
    "ax.plot(lattice_spacings, np.array(a0_lattice)/np.array(a0ca), \":\", lw=1, zorder=2, label=\"Zeta vs non-continuum\")\n",
    "#ax.axhline(c0, lw=1, ls=\"--\", c=\"black\")\n",
    "\n",
    "#ax.set_ylim(a0[0] * 0.8, a0[0] * 1.2)\n",
    "ax.set_ylabel(r\"$\\frac{\\mathrm{eq.}(33)}{a_0}$\")\n",
    "ax.set_xlabel(\"$a_L$\")\n",
    "\n",
    "ax.legend(fontsize=\"x-small\")\n",
    "\n",
    "plt.show(fig)"
   ]
  },
  {
   "cell_type": "markdown",
   "metadata": {},
   "source": [
    "Questions:\n",
    "* What is `m` -> Nucleon not relative?\n",
    "* What happens if E is negative?\n"
   ]
  },
  {
   "cell_type": "code",
   "execution_count": null,
   "metadata": {},
   "outputs": [],
   "source": []
  }
 ],
 "metadata": {
  "kernelspec": {
   "display_name": "Python 3",
   "language": "python",
   "name": "python3"
  },
  "language_info": {
   "codemirror_mode": {
    "name": "ipython",
    "version": 3
   },
   "file_extension": ".py",
   "mimetype": "text/x-python",
   "name": "python",
   "nbconvert_exporter": "python",
   "pygments_lexer": "ipython3",
   "version": "3.7.1"
  }
 },
 "nbformat": 4,
 "nbformat_minor": 2
}
