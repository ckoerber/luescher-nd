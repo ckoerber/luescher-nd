{
 "cells": [
  {
   "cell_type": "markdown",
   "metadata": {},
   "source": [
    "# Init"
   ]
  },
  {
   "cell_type": "markdown",
   "metadata": {},
   "source": [
    "## Imports"
   ]
  },
  {
   "cell_type": "code",
   "execution_count": null,
   "metadata": {},
   "outputs": [],
   "source": [
    "# Python modules\n",
    "import itertools\n",
    "import time\n",
    "\n",
    "# Data management\n",
    "import numpy as np\n",
    "import pandas as pd\n",
    "\n",
    "# Plotting\n",
    "import matplotlib.pylab as plt\n",
    "import seaborn as sns\n",
    "sns.set(style=\"ticks\", font=\"Source Sans Pro\", font_scale=.9, palette=\"muted\")\n",
    "\n",
    "# Fitting\n",
    "import scipy.optimize as opt\n",
    "\n",
    "# Project modules\n",
    "import luescher_nd.utilities as ut\n",
    "import luescher_nd.zeta as zeta"
   ]
  },
  {
   "cell_type": "code",
   "execution_count": null,
   "metadata": {},
   "outputs": [],
   "source": [
    "%load_ext blackcellmagic"
   ]
  },
  {
   "cell_type": "markdown",
   "metadata": {},
   "source": [
    "## Parameters"
   ]
  },
  {
   "cell_type": "markdown",
   "metadata": {},
   "source": [
    "Quantities will be expressed in units of [fm]. Energies are converted to inverse fermi using $\\hbar c = 197.326$ MeV/fm."
   ]
  },
  {
   "cell_type": "code",
   "execution_count": null,
   "metadata": {},
   "outputs": [],
   "source": [
    "HBARC = 197.326 # MeV / fm\n",
    "M_NUCLEON = (938.27 + 939.57) / 2 / HBARC # in fm^{-1}"
   ]
  },
  {
   "cell_type": "code",
   "execution_count": null,
   "metadata": {},
   "outputs": [],
   "source": [
    "def energy2x(energy, mass, L):\n",
    "    \"\"\"\n",
    "    \"\"\"\n",
    "    x_ = np.sqrt(np.abs(energy) * 2 * mass) * L / 2 / np.pi\n",
    "    x_ *= x_\n",
    "    \n",
    "    return np.where(energy > 0, x_, -x_)"
   ]
  },
  {
   "cell_type": "markdown",
   "metadata": {},
   "source": [
    "## 2-D"
   ]
  },
  {
   "cell_type": "markdown",
   "metadata": {},
   "source": [
    "## Functions"
   ]
  },
  {
   "cell_type": "markdown",
   "metadata": {},
   "source": [
    "Test the convergence of the 2-D zeta function"
   ]
  },
  {
   "cell_type": "code",
   "execution_count": null,
   "metadata": {},
   "outputs": [],
   "source": [
    "x = np.linspace(-4, 10, 1000)\n",
    "\n",
    "lambdas = [100, 200, 500]\n",
    "\n",
    "data = []\n",
    "\n",
    "for l in lambdas:\n",
    "    for xi, yi in zip(x, zeta.zeta2(x, l)):\n",
    "        assert zeta.zeta2([xi], l) == yi\n",
    "        data.append({\"x\": xi, \"y\": yi, \"l\": l})\n",
    "\n",
    "z2_data = pd.DataFrame(data)"
   ]
  },
  {
   "cell_type": "markdown",
   "metadata": {},
   "source": [
    "Extract numerical divergencies of $S_2$"
   ]
  },
  {
   "cell_type": "code",
   "execution_count": null,
   "metadata": {},
   "outputs": [],
   "source": [
    "divergencies = np.unique( np.sum(\n",
    "        np.array(\n",
    "            list(itertools.product(*[np.arange(int(x.min()), int(x.max()))] * 2)),\n",
    "            dtype=float,\n",
    "        )\n",
    "        ** 2,\n",
    "        axis=1,\n",
    "    ) \n",
    ")"
   ]
  },
  {
   "cell_type": "markdown",
   "metadata": {},
   "source": [
    "Find zeros of $S_2$"
   ]
  },
  {
   "cell_type": "code",
   "execution_count": null,
   "metadata": {},
   "outputs": [],
   "source": [
    "lmax = z2_data.l.max()\n",
    "\n",
    "n_zeros = 8\n",
    "lower = -2\n",
    "zeros = []\n",
    "for upper in divergencies[:n_zeros]:\n",
    "    eps = (upper - lower) / 20 \n",
    "    res = opt.minimize_scalar(\n",
    "        lambda x: zeta.zeta2([x], 2000)**2, \n",
    "        bounds=(lower + eps, upper - eps),\n",
    "        method=\"Bounded\"\n",
    "    )\n",
    "    zeros.append(res.x)\n",
    "    lower = upper"
   ]
  },
  {
   "cell_type": "code",
   "execution_count": null,
   "metadata": {},
   "outputs": [],
   "source": [
    "def get_laplace_coefficients(n_step: int):\n",
    "    \"\"\"Implementation fo finite step laplace derivative coefficients.\n",
    "\n",
    "    See also https://en.wikipedia.org/wiki/Finite_difference_coefficient.\n",
    "\n",
    "    Arguments\n",
    "    ---------\n",
    "        n_step: int\n",
    "            Step range of derivative. Must be larger than 0.\n",
    "    \"\"\"\n",
    "    out = {}\n",
    "\n",
    "    if n_step < 1:\n",
    "        raise ValueError(\"'n_step' must be larger than zero.\")\n",
    "\n",
    "    elif n_step == 1:\n",
    "        out[0] = -2\n",
    "        out[1] = out[-1] = 1\n",
    "\n",
    "    elif n_step == 2:\n",
    "        out[0] = -5 / 2\n",
    "        out[1] = out[-1] = 4 / 3\n",
    "        out[2] = out[-2] = -1 / 12\n",
    "\n",
    "    elif n_step == 3:\n",
    "        out[0] = -49 / 18\n",
    "        out[1] = out[-1] = 3 / 2\n",
    "        out[2] = out[-2] = -3 / 20\n",
    "        out[3] = out[-3] = 1 / 90\n",
    "\n",
    "    elif n_step == 4:\n",
    "        out[0] = -205 / 72\n",
    "        out[1] = out[-1] = 8 / 5\n",
    "        out[2] = out[-2] = -1 / 5\n",
    "        out[3] = out[-3] = 8 / 315\n",
    "        out[4] = out[-4] = -1 / 560\n",
    "\n",
    "    else:\n",
    "        raise NotImplementedError(\"'n_step' not implemented for values larger than 6.\")\n",
    "\n",
    "    return out"
   ]
  },
  {
   "cell_type": "code",
   "execution_count": null,
   "metadata": {
    "scrolled": false
   },
   "outputs": [],
   "source": [
    "fig_zeta_2d, axs = plt.subplots(dpi=300, figsize=(4,3), ncols=1, sharey=True, sharex=True)\n",
    "\n",
    "for ax in [axs]:\n",
    "    ax.axhline(0, ls=\"-\", c=\"grey\", lw=.5, alpha=.5)\n",
    "\n",
    "    for div in divergencies:\n",
    "        if div < x.max():\n",
    "            ax.axvline(div, ls=\"--\", c=\"grey\", lw=.5, alpha=.5)\n",
    "\n",
    "    grouped = z2_data.groupby(\"l\")\n",
    "    for key, group in grouped:\n",
    "        group.plot(ax=ax, x='x', y='y', label=key, lw=1, ls=\"None\", marker=\".\", ms=.5)\n",
    "\n",
    "    for zero in zeros:\n",
    "        if zero < x.max():\n",
    "            ax.scatter(zero, 0, marker=\"x\", c=\"black\", lw=.5, s=5, zorder=10)\n",
    "\n",
    "    ax.set_ylim(-10, 10)\n",
    "    ax.legend(loc=\"best\", fontsize=\"xx-small\", title=\"$\\Lambda$\")\n",
    "\n",
    "    ax.set_xlabel(\"$x$\")\n",
    "    ax.set_ylabel(\"$S_2(x)$\")\n",
    "\n",
    "plt.tight_layout()\n",
    "plt.show(fig_zeta_2d)\n"
   ]
  },
  {
   "cell_type": "markdown",
   "metadata": {},
   "source": [
    "## Fitting\n",
    "\n",
    "Fit $c_0(a)$ such that $E = E(x_0, L)$, where\n",
    "\n",
    "$$x_0 = \\left( \\frac{\\gamma L}{2 \\pi} \\right)^2 = \\frac{\\mu E L^2}{2\\pi^2} = -1.25107628$$"
   ]
  },
  {
   "cell_type": "code",
   "execution_count": null,
   "metadata": {},
   "outputs": [],
   "source": [
    "mu = M_NUCLEON / 2\n",
    "L = 1.\n",
    "E0 = zeros[0] * 2 * np.pi**2 / mu / L**2"
   ]
  },
  {
   "cell_type": "markdown",
   "metadata": {},
   "source": [
    "Fit"
   ]
  },
  {
   "cell_type": "code",
   "execution_count": null,
   "metadata": {},
   "outputs": [],
   "source": [
    "epsilons = [0.1, 0.08, 0.05, 0.02, 0.01]\n",
    "\n",
    "data = []\n",
    "\n",
    "for n_step in range(1, 4):\n",
    "    for epsilon in epsilons:\n",
    "        n1d_max = int(L / epsilon)\n",
    "        solver = ut.Solver(\n",
    "            n1d_max=n1d_max,\n",
    "            ndim_max=2,\n",
    "            lattice_spacing=epsilon,\n",
    "            derivative_shifts=get_laplace_coefficients(n_step),\n",
    "        )\n",
    "\n",
    "        func = lambda c0: (solver.get_energies(c0, n_energies=1) - E0) ** 2\n",
    "\n",
    "        c0 = -1.\n",
    "\n",
    "        res = opt.minimize(func, c0)\n",
    "        energies = solver.get_energies(res.x, n_energies=24)\n",
    "\n",
    "        data.append({\"a\": epsilon, \"c\": res.x[0], \"e\": energies, \"n\": n_step})\n",
    "\n",
    "df = pd.DataFrame(data)"
   ]
  },
  {
   "cell_type": "markdown",
   "metadata": {},
   "source": [
    "Plot"
   ]
  },
  {
   "cell_type": "code",
   "execution_count": null,
   "metadata": {},
   "outputs": [],
   "source": [
    "fig, ax = plt.subplots(dpi=300, figsize=(4, 3))\n",
    "\n",
    "ax.axhline(0, ls=\"-\", c=\"grey\", lw=.5, alpha=.5)\n",
    "\n",
    "for div in divergencies:\n",
    "    if div < x.max():\n",
    "        ax.axvline(div, ls=\"--\", c=\"grey\", lw=.5, alpha=.5)\n",
    "\n",
    "group = z2_data.query(\"l == @lmax\")\n",
    "group.plot(ax=ax, x=\"x\", y=\"y\", ls=\"None\", ms=.5, marker=\".\", label=\"\")\n",
    "\n",
    "y_min = -2\n",
    "y_max = +2\n",
    "\n",
    "nc = 0\n",
    "\n",
    "markers = [\"o\", \"x\", \"s\", \"d\", \"+\"]\n",
    "\n",
    "for epsilon, energies, n_step in df[[\"a\", \"e\", \"n\"]].get_values():\n",
    "    x0 = energy2x(energies, mu, L)\n",
    "    y0 = zeta.zeta2(x0, 2000)\n",
    "\n",
    "    \n",
    "    n1d_max = int( L / epsilon)\n",
    "    ax.plot(\n",
    "        x0 + (2 - n_step) / 4,\n",
    "        y0,\n",
    "        markers[n_step - 1],\n",
    "        ms=3,\n",
    "        lw=.5,\n",
    "        label=rf\"$\\frac{{L}}{{\\epsilon}}={n1d_max}$ @ $n_S = {n_step}$\",\n",
    "    )\n",
    "\n",
    "    if nc == len(epsilons) - 1:\n",
    "        for i, (xi, yi) in enumerate(zip(x0, y0)):\n",
    "            if yi < y_max and yi > y_min and xi < x.max() and xi > x.min():\n",
    "                ax.text(\n",
    "                    xi,\n",
    "                    yi,\n",
    "                    i,\n",
    "                    fontdict={\"size\": 5},\n",
    "                    ha=\"right\",\n",
    "                    va=\"bottom\",\n",
    "                    withdash=True,\n",
    "                )\n",
    "    nc += 1\n",
    "\n",
    "ax.set_ylim(y_min, y_max)\n",
    "ax.legend(loc=\"upper right\", fontsize=5, bbox_to_anchor=(1.3, 1.0))\n",
    "\n",
    "ax.set_xlabel(\"$x$\")\n",
    "ax.set_ylabel(\"$S_2(x)$\")\n",
    "\n",
    "plt.show(fig)\n"
   ]
  },
  {
   "cell_type": "code",
   "execution_count": null,
   "metadata": {},
   "outputs": [],
   "source": []
  }
 ],
 "metadata": {
  "kernelspec": {
   "display_name": "Python 3",
   "language": "python",
   "name": "python3"
  },
  "language_info": {
   "codemirror_mode": {
    "name": "ipython",
    "version": 3
   },
   "file_extension": ".py",
   "mimetype": "text/x-python",
   "name": "python",
   "nbconvert_exporter": "python",
   "pygments_lexer": "ipython3",
   "version": "3.7.3"
  }
 },
 "nbformat": 4,
 "nbformat_minor": 2
}
