{
 "cells": [
  {
   "cell_type": "markdown",
   "metadata": {},
   "source": [
    "# Init"
   ]
  },
  {
   "cell_type": "markdown",
   "metadata": {},
   "source": [
    "## Imports"
   ]
  },
  {
   "cell_type": "code",
   "execution_count": null,
   "metadata": {},
   "outputs": [],
   "source": [
    "# Python modules\n",
    "import itertools\n",
    "import time\n",
    "\n",
    "# Data management\n",
    "import numpy as np\n",
    "import pandas as pd\n",
    "\n",
    "# Plotting\n",
    "import matplotlib.pylab as plt\n",
    "import seaborn as sns\n",
    "sns.set(style=\"ticks\", font=\"Source Sans Pro\", font_scale=.9, palette=\"muted\")\n",
    "\n",
    "# Fitting\n",
    "import scipy.optimize as opt\n",
    "\n",
    "# Project modules\n",
    "import luescher_nd.utilities as ut\n",
    "import luescher_nd.zeta as zeta"
   ]
  },
  {
   "cell_type": "code",
   "execution_count": null,
   "metadata": {},
   "outputs": [],
   "source": [
    "%load_ext blackcellmagic"
   ]
  },
  {
   "cell_type": "markdown",
   "metadata": {},
   "source": [
    "## Parameters"
   ]
  },
  {
   "cell_type": "markdown",
   "metadata": {},
   "source": [
    "Quantities will be expressed in units of [fm]. Energies are converted to inverse fermi using $\\hbar c = 197.326$ MeV/fm."
   ]
  },
  {
   "cell_type": "code",
   "execution_count": null,
   "metadata": {},
   "outputs": [],
   "source": [
    "HBARC = 197.326 # MeV / fm\n",
    "M_NUCLEON = (938.27 + 939.57) / 2 / HBARC # in fm^{-1}"
   ]
  },
  {
   "cell_type": "code",
   "execution_count": null,
   "metadata": {},
   "outputs": [],
   "source": [
    "def energy2x(energy, mass, L):\n",
    "    \"\"\"\n",
    "    \"\"\"\n",
    "    x_ = np.sqrt(np.abs(energy) * 2 * mass) * L / 2 / np.pi\n",
    "    x_ *= x_\n",
    "    \n",
    "    return np.where(energy > 0, x_, -x_)"
   ]
  },
  {
   "cell_type": "markdown",
   "metadata": {},
   "source": [
    "# 1-D"
   ]
  },
  {
   "cell_type": "markdown",
   "metadata": {},
   "source": [
    "## Functions"
   ]
  },
  {
   "cell_type": "code",
   "execution_count": null,
   "metadata": {},
   "outputs": [],
   "source": [
    "def s1(x):\n",
    "    \"\"\"S1(x) as defined in equation (34) of your notes (for also negative x).\n",
    "    \"\"\"\n",
    "    s1_pos = lambda x: -np.pi / np.tan(np.pi * np.sqrt(x)) / np.sqrt(x)\n",
    "    s1_neg = lambda x: +np.pi / np.tanh(np.pi * np.sqrt(-x)) / np.sqrt(-x)\n",
    "    res = []\n",
    "    for el in x:\n",
    "        if abs(el) < 1.e-10:\n",
    "            res.append(np.nan)\n",
    "        elif el > 0:\n",
    "            res.append(s1_pos(el))\n",
    "        else:\n",
    "            res.append(s1_neg(el))\n",
    "            \n",
    "    return np.array(res)"
   ]
  },
  {
   "cell_type": "markdown",
   "metadata": {},
   "source": [
    "## Plotting"
   ]
  },
  {
   "cell_type": "code",
   "execution_count": null,
   "metadata": {},
   "outputs": [],
   "source": [
    "x = np.linspace(-4, 10, 1000)\n",
    "\n",
    "fig_zeta_1d, ax = plt.subplots()\n",
    "\n",
    "ax.plot(x, s1(x), \"-\", lw=1)\n",
    "\n",
    "ax.set_ylim(-10, 10)\n",
    "ax.set_xlim(x.min(), x.max())\n",
    "\n",
    "ax.axhline(0, ls=\"--\", c=\"black\", lw=1)\n",
    "ax.axvline(0, ls=\"--\", c=\"black\", lw=1)\n",
    "\n",
    "ax.set_xlabel(\"$x$\")\n",
    "ax.set_ylabel(\"$S_1(x)$\")\n",
    "\n",
    "plt.show(fig_zeta_1d)"
   ]
  },
  {
   "cell_type": "markdown",
   "metadata": {},
   "source": [
    "$$C_0(\\Lambda) = - \\frac{2}{m a_0}$$\n",
    "$$x = \\left( \\frac{\\gamma L}{2 \\pi} \\right)^2 = \\frac{\\mu E L^2}{2\\pi^2}$$\n",
    "$$a_0 = \\frac{L}{2 \\pi^2} S_1(x)$$"
   ]
  },
  {
   "cell_type": "code",
   "execution_count": null,
   "metadata": {},
   "outputs": [],
   "source": [
    "L = 20.  # in fm -- fixed for no finite volume differences\n",
    "c0 = -0.3  # in fm^0 -- fixed to fix energy in continuum\n",
    "\n",
    "mu = M_NUCLEON / 2\n",
    "gamma0 = -c0 * mu\n",
    "E0 = -gamma0 ** 2 / 2 / mu  # in fm^{-1} -- fixed\n",
    "\n",
    "epsilons = np.array([1.0, 0.5 , 0.1])\n",
    "\n",
    "c_lats = c0 * np.sqrt(1 + gamma0 ** 2 * epsilons ** 2 / 4)\n",
    "a0_analytic = -2 / (mu * 2) / c0"
   ]
  },
  {
   "cell_type": "code",
   "execution_count": null,
   "metadata": {
    "scrolled": false
   },
   "outputs": [],
   "source": [
    "fig, axs = plt.subplots(\n",
    "    dpi=200, figsize=(6, 2), ncols=len(epsilons), sharey=True, sharex=True\n",
    ")\n",
    "\n",
    "y_min = -2.5\n",
    "y_max = 5\n",
    "\n",
    "for n_ax, (ax, (c_lat, epsilon)) in enumerate(zip(axs, zip(c_lats, epsilons))):\n",
    "\n",
    "    n1d_max = int(L / epsilon)\n",
    "\n",
    "    solver = ut.Solver(n1d_max=n1d_max, ndim_max=1, lattice_spacing=epsilon)\n",
    "\n",
    "    energies_naive = solver.get_energies(c0, n_energies=n1d_max - 1)\n",
    "    energies_naive = np.array(energies_naive)\n",
    "\n",
    "    energies_correct = solver.get_energies(c_lat, n_energies=n1d_max - 1)\n",
    "    energies_correct = np.array(energies_correct)\n",
    "\n",
    "    x0_naive = energy2x(energies_naive[:10], mu, L)\n",
    "    x0_correct = energy2x(energies_correct[:10], mu, L)\n",
    "\n",
    "    x = np.linspace(x0.min() * 1.5, x0.max() * 1.1, 1000)\n",
    "\n",
    "    ax.plot(x, s1(x) * L / 2 / np.pi ** 2, \":\", lw=.5)\n",
    "\n",
    "    ax.axhline(0, ls=\"--\", c=\"black\", lw=1)\n",
    "    ax.axvline(0, ls=\"--\", c=\"black\", lw=1)\n",
    "    ax.axhline(a0_analytic, lw=1, label=\"Analytic\")\n",
    "\n",
    "    y_naive = s1(x0_naive) * L / 2 / np.pi ** 2\n",
    "    ax.plot(x0_naive, y_naive, \"o\", ms=4, label=\"Box levels naive\")\n",
    "\n",
    "    y_correct = s1(x0_correct) * L / 2 / np.pi ** 2\n",
    "    ax.plot(x0_correct, y_correct, \"s\", ms=4, label=\"Box levels corrected\")\n",
    "    for n, xy in enumerate(zip(x0_correct, y_correct)):\n",
    "        if xy[1] < y_max and xy[1] > y_min and xy[0] < x.max() and xy[0] > x.min():\n",
    "            ax.text(\n",
    "                xy[0], xy[1], n, fontdict={\"size\": \"xx-small\"}, ha=\"center\", va=\"center\"\n",
    "            )\n",
    "\n",
    "    ax.set_ylim(y_min, y_max)\n",
    "    ax.set_xlim(x.min(), x.max())\n",
    "\n",
    "    ax.set_title(r\"$\\frac{\\epsilon}{a_0} = \"+ f\" {epsilon/a0_analytic:1.2}$\")\n",
    "    \n",
    "    ax.tick_params(axis=\"y\",direction=\"inout\")\n",
    "    ax.set_xlabel(r\"$x = \\frac{\\mu E L^2}{2\\pi^2}$\")\n",
    "    if n_ax == 0:\n",
    "        ax.set_ylabel(\"$a_0$\")\n",
    "\n",
    "    if n_ax == len(axs) - 1:\n",
    "        ax.legend(loc=\"best\", fontsize=\"xx-small\")\n",
    "\n",
    "plt.subplots_adjust(wspace=0.0)\n",
    "plt.show(fig)"
   ]
  },
  {
   "cell_type": "markdown",
   "metadata": {},
   "source": [
    "Note that each second state seemingly diverges. This is (probably) the case because each second state is parity odd and thus does not see the delta function. In this case, the contact interaction is effectively zero and for 1-d the scattering lenght diverges to $+\\infty$."
   ]
  },
  {
   "cell_type": "code",
   "execution_count": null,
   "metadata": {},
   "outputs": [],
   "source": [
    "fig.savefig(\"1d-luescher-levels.pdf\", bbox_inches=\"tight\")"
   ]
  }
 ],
 "metadata": {
  "kernelspec": {
   "display_name": "Python 3",
   "language": "python",
   "name": "python3"
  },
  "language_info": {
   "codemirror_mode": {
    "name": "ipython",
    "version": 3
   },
   "file_extension": ".py",
   "mimetype": "text/x-python",
   "name": "python",
   "nbconvert_exporter": "python",
   "pygments_lexer": "ipython3",
   "version": "3.7.2"
  }
 },
 "nbformat": 4,
 "nbformat_minor": 2
}
