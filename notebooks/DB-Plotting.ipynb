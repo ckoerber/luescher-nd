{
 "cells": [
  {
   "cell_type": "markdown",
   "metadata": {},
   "source": [
    "# Plot ERE obtained by Lüscher formalism from database "
   ]
  },
  {
   "cell_type": "markdown",
   "metadata": {},
   "source": [
    "## Init"
   ]
  },
  {
   "cell_type": "code",
   "execution_count": null,
   "metadata": {},
   "outputs": [],
   "source": [
    "import os\n",
    "from itertools import product\n",
    "\n",
    "import pandas as pd\n",
    "import numpy as np\n",
    "\n",
    "import seaborn as sns\n",
    "import matplotlib.pylab as plt\n",
    "\n",
    "from luescher_nd.database.utilities import read_table"
   ]
  },
  {
   "cell_type": "code",
   "execution_count": null,
   "metadata": {},
   "outputs": [],
   "source": [
    "import matplotlib\n",
    "import re\n",
    "\n",
    "markers = re.findall('``\"([a-z]+)\"``', matplotlib.markers.__doc__)"
   ]
  },
  {
   "cell_type": "code",
   "execution_count": null,
   "metadata": {},
   "outputs": [],
   "source": [
    "%load_ext blackcellmagic"
   ]
  },
  {
   "cell_type": "code",
   "execution_count": null,
   "metadata": {},
   "outputs": [],
   "source": [
    "DATA = os.path.join(os.getcwd(), os.pardir, \"data\")"
   ]
  },
  {
   "cell_type": "code",
   "execution_count": null,
   "metadata": {},
   "outputs": [],
   "source": [
    "!ls $DATA"
   ]
  },
  {
   "cell_type": "markdown",
   "metadata": {},
   "source": [
    "## Plotting"
   ]
  },
  {
   "cell_type": "markdown",
   "metadata": {},
   "source": [
    "Load the data frame"
   ]
  },
  {
   "cell_type": "code",
   "execution_count": null,
   "metadata": {},
   "outputs": [],
   "source": [
    "DB_NAME = \"db-contact-fv-c-fitted-parity-a-inv.sqlite\"\n",
    "\n",
    "df = read_table(os.path.join(DATA, DB_NAME), dispersion_zeta=False, round_digits=1)\n",
    "df.head()"
   ]
  },
  {
   "cell_type": "markdown",
   "metadata": {},
   "source": [
    "Specify grid properties"
   ]
  },
  {
   "cell_type": "code",
   "execution_count": null,
   "metadata": {},
   "outputs": [],
   "source": [
    "row = \"$L$ [fm$^{-1}$]\"\n",
    "hue = \"epsilon\"\n",
    "col = \"nstep\"\n",
    "col_order = df.nstep.unique()\n",
    "x = \"$p^2$ [fm$^{-2}$]\"\n",
    "y = \"$p \\cot(\\delta_0(p))$ [fm$^{-1}$]\""
   ]
  },
  {
   "cell_type": "markdown",
   "metadata": {},
   "source": [
    "Specify data ranges"
   ]
  },
  {
   "cell_type": "code",
   "execution_count": null,
   "metadata": {
    "scrolled": false
   },
   "outputs": [],
   "source": [
    "query = \"x > -5\""
   ]
  },
  {
   "cell_type": "markdown",
   "metadata": {},
   "source": [
    "and plot"
   ]
  },
  {
   "cell_type": "code",
   "execution_count": null,
   "metadata": {},
   "outputs": [],
   "source": [
    "tf = df.query(query).sort_values(\"x\")\n",
    "for key, val in {\n",
    "    \"y\": \"$p \\cot(\\delta_0(p))$ [fm$^{-1}$]\",\n",
    "    \"L\": \"$L$ [fm$^{-1}$]\",\n",
    "    \"p2\": \"$p^2$ [fm$^{-2}$]\",\n",
    "}.items():\n",
    "    tf[val] = tf[key]\n",
    "\n",
    "grid = sns.FacetGrid(\n",
    "    data=tf,\n",
    "    col=col,\n",
    "    hue=hue,\n",
    "    row=row,\n",
    "    sharex=\"row\",\n",
    "    sharey=True,\n",
    "    legend_out=True,\n",
    "    hue_kws={\"marker\": markers},\n",
    "    palette=\"cubehelix\",\n",
    "    margin_titles=True,\n",
    "    col_order=col_order\n",
    ")\n",
    "\n",
    "grid.map(plt.plot, x, y, ms=3, lw=0.5, ls=\"--\", marker=\"s\")\n",
    "\n",
    "for ax in grid.axes.flatten():\n",
    "    #ax.set_yscale(\"log\")\n",
    "    ax.set_ylim(-6, 1)\n",
    "\n",
    "grid.fig.set_dpi(200)\n",
    "grid.add_legend(frameon=False)\n",
    "\n",
    "plt.show()\n"
   ]
  },
  {
   "cell_type": "raw",
   "metadata": {},
   "source": [
    "grid.savefig(\n",
    "    \"figs/\" + DB_NAME.replace(\"db-\", \"\").replace(\"sqlite\", \"pdf\"), bbox_inches=\"tight\"\n",
    ")"
   ]
  },
  {
   "cell_type": "markdown",
   "metadata": {},
   "source": [
    "# Devel"
   ]
  },
  {
   "cell_type": "code",
   "execution_count": null,
   "metadata": {},
   "outputs": [],
   "source": [
    "DB_NAME = \"db-contact-fv-c-fitted-parity-a-inv.sqlite\"\n",
    "\n",
    "df_c = read_table(os.path.join(DATA, DB_NAME), dispersion_zeta=False, round_digits=1)\n",
    "df_d = read_table(os.path.join(DATA, DB_NAME.replace(\"fv-c\", \"fv-d\")), dispersion_zeta=True, round_digits=1)\n",
    "df_cd = read_table(os.path.join(DATA, DB_NAME), dispersion_zeta=True, round_digits=1)\n",
    "\n",
    "df_c[\"type\"] = \"Regular Lüscher\"\n",
    "df_d[\"type\"] = \"Dispersion Lüscher\"\n",
    "df_cd[\"type\"] = \"RL fit, DL ERE\"\n",
    "\n",
    "df = df_c.append(df_d, ignore_index=True)\n",
    "df = df.append(df_cd, ignore_index=True)\n"
   ]
  },
  {
   "cell_type": "code",
   "execution_count": null,
   "metadata": {},
   "outputs": [],
   "source": [
    "df.head()"
   ]
  },
  {
   "cell_type": "code",
   "execution_count": null,
   "metadata": {},
   "outputs": [],
   "source": [
    "row = \"$L$ [fm$^{-1}$]\"\n",
    "hue = \"epsilon\"\n",
    "col = \"type\"\n",
    "x = \"$p^2$ [fm$^{-2}$]\"\n",
    "y = \"$p \\cot(\\delta_0(p))$ [fm$^{-1}$]\""
   ]
  },
  {
   "cell_type": "code",
   "execution_count": null,
   "metadata": {},
   "outputs": [],
   "source": [
    "query = \"nstep == '$\\\\infty$' and L == 1\"\n",
    "\n",
    "tf = df.query(query).sort_values(\"x\")\n",
    "for key, val in {\n",
    "    \"y\": \"$p \\cot(\\delta_0(p))$ [fm$^{-1}$]\",\n",
    "    \"L\": \"$L$ [fm$^{-1}$]\",\n",
    "    \"p2\": \"$p^2$ [fm$^{-2}$]\",\n",
    "}.items():\n",
    "    tf[val] = tf[key]\n",
    "\n",
    "grid = sns.FacetGrid(\n",
    "    data=tf,\n",
    "    col=col,\n",
    "    hue=hue,\n",
    "    #row=row,\n",
    "    sharex=\"row\",\n",
    "    sharey=True,\n",
    "    legend_out=True,\n",
    "    hue_kws={\"marker\": markers},\n",
    "    palette=\"cubehelix\",\n",
    "    margin_titles=False,\n",
    "    row_order=df[\"type\"].unique()\n",
    ")\n",
    "\n",
    "grid.map(plt.plot, x, y, ms=3, lw=0.5, ls=\"--\", marker=\"s\")\n",
    "\n",
    "for ax in grid.axes.flatten():\n",
    "    #ax.set_yscale(\"log\")\n",
    "    ax.set_ylim(-6, 1)\n",
    "\n",
    "grid.fig.suptitle(query, y=1.05)\n",
    "    \n",
    "grid.fig.set_dpi(200)\n",
    "grid.add_legend(frameon=False)\n",
    "\n",
    "plt.show()\n",
    "\n"
   ]
  },
  {
   "cell_type": "raw",
   "metadata": {},
   "source": [
    "grid.fig.savefig(\"figs/contact-finte-scattering-comparison.jpg\", bbox_inches=\"tight\")"
   ]
  }
 ],
 "metadata": {
  "kernelspec": {
   "display_name": "Python 3",
   "language": "python",
   "name": "python3"
  },
  "language_info": {
   "codemirror_mode": {
    "name": "ipython",
    "version": 3
   },
   "file_extension": ".py",
   "mimetype": "text/x-python",
   "name": "python",
   "nbconvert_exporter": "python",
   "pygments_lexer": "ipython3",
   "version": "3.7.3"
  }
 },
 "nbformat": 4,
 "nbformat_minor": 2
}
