{
 "cells": [
  {
   "cell_type": "markdown",
   "metadata": {},
   "source": [
    "# Plot ERE obtained by Lüscher formalism from database "
   ]
  },
  {
   "cell_type": "markdown",
   "metadata": {},
   "source": [
    "## Init"
   ]
  },
  {
   "cell_type": "code",
   "execution_count": null,
   "metadata": {},
   "outputs": [],
   "source": [
    "import os\n",
    "from itertools import product\n",
    "\n",
    "import pandas as pd\n",
    "import numpy as np\n",
    "\n",
    "import seaborn as sns\n",
    "import matplotlib.pylab as plt\n",
    "\n",
    "from luescher_nd.zeta.zeta3d import Zeta3D\n",
    "\n",
    "from luescher_nd.database.connection import DatabaseSession\n",
    "from luescher_nd.database.tables import LongRangeEnergyEntry\n",
    "from luescher_nd.database.tables import ContactEnergyEntry\n",
    "\n",
    "from luescher_nd.hamiltonians.kinetic import HBARC"
   ]
  },
  {
   "cell_type": "code",
   "execution_count": null,
   "metadata": {},
   "outputs": [],
   "source": [
    "import matplotlib\n",
    "import re\n",
    "\n",
    "markers = re.findall('``\"([a-z]+)\"``', matplotlib.markers.__doc__)"
   ]
  },
  {
   "cell_type": "code",
   "execution_count": null,
   "metadata": {},
   "outputs": [],
   "source": [
    "%load_ext blackcellmagic"
   ]
  },
  {
   "cell_type": "code",
   "execution_count": null,
   "metadata": {},
   "outputs": [],
   "source": [
    "DATA = os.path.join(os.getcwd(), os.pardir, \"data\")"
   ]
  },
  {
   "cell_type": "code",
   "execution_count": null,
   "metadata": {},
   "outputs": [],
   "source": [
    "def get_energy_frame(database: str, round_digits:int=2):\n",
    "    \"\"\"Extracts data frame from table\n",
    "    \"\"\"\n",
    "    db = os.path.abspath(os.path.join(DATA, database))\n",
    "    sess = DatabaseSession(db, commit=False)\n",
    "    df = pd.read_sql_table(\"energy\", sess.engine, index_col=\"id\").drop(\n",
    "        columns=[\"comment\"]\n",
    "    )\n",
    "\n",
    "    df[\"L\"] = df[\"n1d\"] * df[\"epsilon\"]\n",
    "    df[\"nstep\"] = df[\"nstep\"].fillna(-1).astype(int)\n",
    "    df[\"E [MeV]\"] = df[\"E\"] * HBARC\n",
    "    df[\"p2\"] = df[\"E\"] * 2 * df[\"mass\"] / 2\n",
    "    df[\"x\"] = df[\"p2\"] / (2 * np.pi / df[\"L\"]) ** 2\n",
    "\n",
    "    integer_x = [x for x in range(int(df.x.min())-1, int(df.x.max()+2)) if x !=0]\n",
    "    df = df[~df.x.round(round_digits).isin(integer_x)]\n",
    "\n",
    "    for L, n1d, nstep in list(\n",
    "        product(df.L.unique(), df.n1d.unique(), df.nstep.unique())\n",
    "    ):\n",
    "        epsilon = L / n1d\n",
    "        ind = (df.L == L) & (df.n1d == n1d) & (df.nstep == nstep)\n",
    "        z = Zeta3D(L, epsilon, nstep if nstep > 0 else None)\n",
    "        df.loc[ind, \"y\"] = np.abs(z(df.loc[ind, \"x\"].values)) / np.pi / df.loc[ind, \"L\"]\n",
    "\n",
    "    df = df.dropna()\n",
    "\n",
    "    df.loc[df.nstep == -1, \"nstep\"] = \"$\\infty$\"\n",
    "    df[\"nstep\"] = df[\"nstep\"].astype(str)\n",
    "\n",
    "    return df\n"
   ]
  },
  {
   "cell_type": "markdown",
   "metadata": {},
   "source": [
    "## Plotting"
   ]
  },
  {
   "cell_type": "markdown",
   "metadata": {},
   "source": [
    "Load the data frame"
   ]
  },
  {
   "cell_type": "code",
   "execution_count": null,
   "metadata": {},
   "outputs": [],
   "source": [
    "DB_NAME = \"db-contact-fv-d-fitted.sqlite\"\n",
    "\n",
    "df = get_energy_frame(DB_NAME)\n",
    "df.head()"
   ]
  },
  {
   "cell_type": "markdown",
   "metadata": {},
   "source": [
    "Specify grid properties"
   ]
  },
  {
   "cell_type": "code",
   "execution_count": null,
   "metadata": {},
   "outputs": [],
   "source": [
    "row = \"$L$ [fm$^{-1}$]\"\n",
    "hue = \"epsilon\"\n",
    "col = \"nstep\"\n",
    "x = \"$p^2$ [fm$^{-2}$]\"\n",
    "y = \"$p \\cot(\\delta_0(p))$ [fm$^{-1}$]\""
   ]
  },
  {
   "cell_type": "markdown",
   "metadata": {},
   "source": [
    "Specify data ranges"
   ]
  },
  {
   "cell_type": "code",
   "execution_count": null,
   "metadata": {
    "scrolled": false
   },
   "outputs": [],
   "source": [
    "query = \"x > -5\""
   ]
  },
  {
   "cell_type": "markdown",
   "metadata": {},
   "source": [
    "and plot"
   ]
  },
  {
   "cell_type": "code",
   "execution_count": null,
   "metadata": {},
   "outputs": [],
   "source": [
    "tf = df.query(query).sort_values(\"x\")\n",
    "for key, val in {\n",
    "    \"y\": \"$p \\cot(\\delta_0(p))$ [fm$^{-1}$]\",\n",
    "    \"L\": \"$L$ [fm$^{-1}$]\",\n",
    "    \"p2\": \"$p^2$ [fm$^{-2}$]\",\n",
    "}.items():\n",
    "    tf[val] = tf[key]\n",
    "\n",
    "grid = sns.FacetGrid(\n",
    "    data=tf,\n",
    "    col=col,\n",
    "    hue=hue,\n",
    "    row=row,\n",
    "    sharex=\"row\",\n",
    "    sharey=True,\n",
    "    legend_out=True,\n",
    "    hue_kws={\"marker\": markers},\n",
    "    palette=\"cubehelix\",\n",
    ")\n",
    "\n",
    "grid.map(plt.plot, x, y, ms=3, lw=0.5, ls=\"--\", marker=\"s\")\n",
    "\n",
    "for ax in grid.axes.flatten():\n",
    "    ax.set_yscale(\"log\")\n",
    "\n",
    "grid.fig.set_dpi(200)\n",
    "grid.add_legend(frameon=False)\n",
    "\n",
    "plt.show()\n"
   ]
  },
  {
   "cell_type": "code",
   "execution_count": null,
   "metadata": {},
   "outputs": [],
   "source": [
    "grid.savefig(\n",
    "    \"figs/\" + DB_NAME.replace(\"db-\", \"\").replace(\"sqlite\", \"pdf\"), bbox_inches=\"tight\"\n",
    ")"
   ]
  },
  {
   "cell_type": "code",
   "execution_count": null,
   "metadata": {},
   "outputs": [],
   "source": [
    " "
   ]
  }
 ],
 "metadata": {
  "kernelspec": {
   "display_name": "Python 3",
   "language": "python",
   "name": "python3"
  },
  "language_info": {
   "codemirror_mode": {
    "name": "ipython",
    "version": 3
   },
   "file_extension": ".py",
   "mimetype": "text/x-python",
   "name": "python",
   "nbconvert_exporter": "python",
   "pygments_lexer": "ipython3",
   "version": "3.7.3"
  }
 },
 "nbformat": 4,
 "nbformat_minor": 2
}
