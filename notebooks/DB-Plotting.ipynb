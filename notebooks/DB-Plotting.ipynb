{
 "cells": [
  {
   "cell_type": "markdown",
   "metadata": {},
   "source": [
    "# Plot ERE obtained by Lüscher formalism from database "
   ]
  },
  {
   "cell_type": "markdown",
   "metadata": {},
   "source": [
    "## Init"
   ]
  },
  {
   "cell_type": "code",
   "execution_count": null,
   "metadata": {},
   "outputs": [],
   "source": [
    "import os\n",
    "from itertools import product\n",
    "\n",
    "import pandas as pd\n",
    "import numpy as np\n",
    "\n",
    "import seaborn as sns\n",
    "import matplotlib.pylab as plt\n",
    "\n",
    "from luescher_nd.database.utilities import read_table"
   ]
  },
  {
   "cell_type": "code",
   "execution_count": null,
   "metadata": {},
   "outputs": [],
   "source": [
    "import matplotlib\n",
    "import re\n",
    "\n",
    "markers = re.findall('``\"([a-z]+)\"``', matplotlib.markers.__doc__)"
   ]
  },
  {
   "cell_type": "code",
   "execution_count": null,
   "metadata": {},
   "outputs": [],
   "source": [
    "%load_ext blackcellmagic"
   ]
  },
  {
   "cell_type": "code",
   "execution_count": null,
   "metadata": {},
   "outputs": [],
   "source": [
    "DATA = os.path.join(os.getcwd(), os.pardir, \"data\")"
   ]
  },
  {
   "cell_type": "markdown",
   "metadata": {},
   "source": [
    "## Plotting"
   ]
  },
  {
   "cell_type": "markdown",
   "metadata": {},
   "source": [
    "Load the data frame"
   ]
  },
  {
   "cell_type": "code",
   "execution_count": null,
   "metadata": {},
   "outputs": [],
   "source": [
    "DB_NAME = \"db-contact-fv-d-fitted.sqlite\"\n",
    "\n",
    "df = read_table(os.path.join(DATA, DB_NAME), dispersion_zeta=True, round_digits=1)\n",
    "df.head()"
   ]
  },
  {
   "cell_type": "markdown",
   "metadata": {},
   "source": [
    "Specify grid properties"
   ]
  },
  {
   "cell_type": "code",
   "execution_count": null,
   "metadata": {},
   "outputs": [],
   "source": [
    "row = \"$L$ [fm$^{-1}$]\"\n",
    "hue = \"epsilon\"\n",
    "col = \"nstep\"\n",
    "col_order = df.nstep.unique()\n",
    "x = \"$p^2$ [fm$^{-2}$]\"\n",
    "y = \"$p \\cot(\\delta_0(p))$ [fm$^{-1}$]\""
   ]
  },
  {
   "cell_type": "markdown",
   "metadata": {},
   "source": [
    "Specify data ranges"
   ]
  },
  {
   "cell_type": "code",
   "execution_count": null,
   "metadata": {
    "scrolled": false
   },
   "outputs": [],
   "source": [
    "query = \"x > -5\""
   ]
  },
  {
   "cell_type": "markdown",
   "metadata": {},
   "source": [
    "and plot"
   ]
  },
  {
   "cell_type": "code",
   "execution_count": null,
   "metadata": {},
   "outputs": [],
   "source": [
    "tf = df.query(query).sort_values(\"x\")\n",
    "for key, val in {\n",
    "    \"y\": \"$p \\cot(\\delta_0(p))$ [fm$^{-1}$]\",\n",
    "    \"L\": \"$L$ [fm$^{-1}$]\",\n",
    "    \"p2\": \"$p^2$ [fm$^{-2}$]\",\n",
    "}.items():\n",
    "    tf[val] = tf[key]\n",
    "\n",
    "grid = sns.FacetGrid(\n",
    "    data=tf,\n",
    "    col=col,\n",
    "    hue=hue,\n",
    "    row=row,\n",
    "    sharex=\"row\",\n",
    "    sharey=True,\n",
    "    legend_out=True,\n",
    "    hue_kws={\"marker\": markers},\n",
    "    palette=\"cubehelix\",\n",
    "    margin_titles=True,\n",
    "    col_order=col_order\n",
    ")\n",
    "\n",
    "grid.map(plt.plot, x, y, ms=3, lw=0.5, ls=\"--\", marker=\"s\")\n",
    "\n",
    "for ax in grid.axes.flatten():\n",
    "    ax.set_yscale(\"log\")\n",
    "    #ax.set_ylim(-1, 3)\n",
    "\n",
    "grid.fig.set_dpi(200)\n",
    "grid.add_legend(frameon=False)\n",
    "\n",
    "plt.show()\n"
   ]
  },
  {
   "cell_type": "raw",
   "metadata": {},
   "source": [
    "grid.savefig(\n",
    "    \"figs/\" + DB_NAME.replace(\"db-\", \"\").replace(\"sqlite\", \"pdf\"), bbox_inches=\"tight\"\n",
    ")"
   ]
  }
 ],
 "metadata": {
  "kernelspec": {
   "display_name": "Python 3",
   "language": "python",
   "name": "python3"
  },
  "language_info": {
   "codemirror_mode": {
    "name": "ipython",
    "version": 3
   },
   "file_extension": ".py",
   "mimetype": "text/x-python",
   "name": "python",
   "nbconvert_exporter": "python",
   "pygments_lexer": "ipython3",
   "version": "3.7.3"
  }
 },
 "nbformat": 4,
 "nbformat_minor": 2
}
