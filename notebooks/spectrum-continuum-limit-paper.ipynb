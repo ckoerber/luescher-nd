{
 "cells": [
  {
   "cell_type": "code",
   "execution_count": null,
   "metadata": {},
   "outputs": [],
   "source": [
    "import os\n",
    "import re\n",
    "\n",
    "import numpy as np\n",
    "import pandas as pd\n",
    "from scipy.optimize import minimize_scalar\n",
    "\n",
    "import gvar as gv\n",
    "\n",
    "import seaborn as sns\n",
    "import matplotlib.pylab as plt\n",
    "\n",
    "from luescher_nd.database import utilities as ut\n",
    "from luescher_nd.database.utilities import DATA_FOLDER\n",
    "from luescher_nd.zeta.extern.pyzeta import zeta\n",
    "from luescher_nd.zeta.extern.pyzeta import zeta as spherical_zeta\n",
    "\n",
    "from luescher_nd.plotting import styles\n",
    "\n",
    "from luescher_nd.database.utilities import get_continuum_extrapolation\n",
    "\n",
    "from luescher_nd.hamiltonians.kinetic import MomentumKineticHamiltonian\n",
    "from luescher_nd.solvers.contact import FitKernel\n",
    "\n",
    "from luescher_nd.database.utilities import get_degeneracy\n",
    "\n",
    "from luescher_nd.plotting.styles import MARKERS\n",
    "from luescher_nd.database.utilities import get_degeneracy\n",
    "\n",
    "from luescher_nd.database.utilities import _poly as polyfcn\n",
    "\n",
    "import matplotlib\n",
    "\n",
    "styles.setup(pgf=False)"
   ]
  },
  {
   "cell_type": "code",
   "execution_count": null,
   "metadata": {},
   "outputs": [],
   "source": [
    "A1_WIDTH = 6.0\n",
    "\n",
    "matplotlib.use(\"pgf\")\n",
    "sns.set(\n",
    "    context=\"paper\",\n",
    "    style=\"ticks\",\n",
    "    font_scale=1/1.7,\n",
    "    rc={\n",
    "        # \"mathtext.fontset\": \"cm\",\n",
    "        \"pgf.rcfonts\": False,\n",
    "        \"axes.unicode_minus\": False,\n",
    "        \"font.serif\": [],\n",
    "        \"font.sans-serif\": [],\n",
    "    },\n",
    ")"
   ]
  },
  {
   "cell_type": "code",
   "execution_count": null,
   "metadata": {},
   "outputs": [],
   "source": [
    "%load_ext blackcellmagic"
   ]
  },
  {
   "cell_type": "code",
   "execution_count": null,
   "metadata": {},
   "outputs": [],
   "source": [
    "a_inv = 0.0\n",
    "L = 1.0"
   ]
  },
  {
   "cell_type": "code",
   "execution_count": null,
   "metadata": {},
   "outputs": [],
   "source": [
    "dummy = MomentumKineticHamiltonian(1)\n",
    "kernel = FitKernel(dummy, spherical_zeta, 0.0)"
   ]
  },
  {
   "cell_type": "code",
   "execution_count": null,
   "metadata": {
    "scrolled": false
   },
   "outputs": [],
   "source": [
    "poles = list(get_degeneracy(10).keys())\n",
    "\n",
    "zeros = {}\n",
    "for n, pole in enumerate([-20] + poles):\n",
    "    if n == len(poles):\n",
    "        break\n",
    "    start, end = pole, poles[n]\n",
    "    zero = kernel.get_zeta_intersection(\n",
    "        bounds=(start + 1.0e-2, end - 1.0e-2),\n",
    "        method=\"bounded\",\n",
    "        options={\"xatol\": 1.0e-16},\n",
    "    )\n",
    "    zeros[n] = zero"
   ]
  },
  {
   "cell_type": "code",
   "execution_count": null,
   "metadata": {},
   "outputs": [],
   "source": [
    "files = [f for f in os.listdir(DATA_FOLDER) if f.endswith(\".sqlite\") and not \"tmp\" in f]\n",
    "files"
   ]
  },
  {
   "cell_type": "code",
   "execution_count": null,
   "metadata": {},
   "outputs": [],
   "source": [
    "file_name = f\"contact-fitted_a-inv={a_inv:+1.1f}_zeta=spherical_projector=a1g_n-eigs=200.sqlite\"\n",
    "print(file_name)\n",
    "df = ut.read_table(\n",
    "    os.path.join(DATA_FOLDER, file_name),\n",
    "    zeta=None,\n",
    "    round_digits=2,\n",
    "    filter_poles=False,\n",
    "    filter_by_nstates=False,\n",
    "    filter_degeneracy=False,\n",
    ").query(\"nlevel < 24 and L == @L and n1d > 5\")[\n",
    "    [\"n1d\", \"epsilon\", \"nstep\", \"L\", \"x\", \"nlevel\", \"mass\"]\n",
    "]\n",
    "df[\"L\"] = df.L.round(7)\n",
    "df.head()\n",
    "\n",
    "def nstep_label(nstep) -> str:\n",
    "    return \"$\" + (str(nstep) if nstep > 0 else r\"\\infty\") + \"$\"\n",
    "\n",
    "df[\"nstep_label\"] = df.nstep.apply(nstep_label)"
   ]
  },
  {
   "cell_type": "code",
   "execution_count": null,
   "metadata": {},
   "outputs": [],
   "source": [
    "df.epsilon.unique().size"
   ]
  },
  {
   "cell_type": "code",
   "execution_count": null,
   "metadata": {
    "scrolled": false
   },
   "outputs": [],
   "source": [
    "fit = get_continuum_extrapolation(df, n_poly_max=6, odd_poly=True).query(\"n_poly_max > 1\")"
   ]
  },
  {
   "cell_type": "code",
   "execution_count": null,
   "metadata": {},
   "outputs": [],
   "source": [
    "def avg_gvars(ys):\n",
    "    y_mean = y_sdev = 0\n",
    "    len_ys = len(ys) \n",
    "        \n",
    "    for y in ys:\n",
    "        y_mean += y / len_ys\n",
    "    for y in ys:\n",
    "        y_sdev += (y - y_mean)**2 / len_ys\n",
    "        \n",
    "\n",
    "    y_mean += gv.gvar([0]*len(y_sdev), np.sqrt(gv.mean(y_sdev)))\n",
    "\n",
    "    return y_mean"
   ]
  },
  {
   "cell_type": "code",
   "execution_count": null,
   "metadata": {},
   "outputs": [],
   "source": [
    "def plot_frame(*args, **kwargs):\n",
    "    x_key, y_key = args\n",
    "    df = kwargs.pop(\"data\")\n",
    "    eps = df[x_key].values\n",
    "    x = df[y_key].values\n",
    "    \n",
    "    nstep = df.nstep.unique()[0]\n",
    "    nlevel = df.nlevel.unique()[0]\n",
    "    L = df.L.unique()[0]\n",
    "    fits = fit.query(\"L == @L and nlevel == @nlevel and nstep == @nstep\")\n",
    "    \n",
    "        \n",
    "    ax = plt.gca()\n",
    "    ax.plot(eps, x, **kwargs)\n",
    "    \n",
    "    ys = []\n",
    "    xs = []\n",
    "    eps = np.linspace(1.e-3, eps.max())\n",
    "    for idx, fit_data in fits.iterrows():\n",
    "        x = []\n",
    "        xs.append(np.array([fit_data[\"x0\"]]))\n",
    "        for key, val in fit_data.items():\n",
    "            if re.match(\"x[0-9]+\", key):\n",
    "                if not pd.isna(val):\n",
    "                    x.append(val)\n",
    "        p = {\"x\": x}\n",
    "        ys.append(polyfcn(eps, p, even=False))\n",
    "    \n",
    "    y = avg_gvars(ys)\n",
    "    x = avg_gvars(xs)\n",
    "    \n",
    "    \n",
    "    ax.plot(eps, gv.mean(y), color=\"green\")\n",
    "    ax.fill_between(eps, gv.mean(y)-gv.sdev(y), gv.mean(y)+gv.sdev(y), color=\"green\", alpha=.5,zorder=-3)\n",
    "\n",
    "    ax.axhline(zeros[nlevel], color=\"black\", lw=1, ls=\"--\",zorder=-2)\n",
    "    ax.axhline(gv.mean(x), color=\"blue\", lw=0.5,zorder=-3, alpha=0.8)\n",
    "    ax.axhspan(\n",
    "        gv.mean(x)-gv.sdev(x),\n",
    "        gv.mean(x)+gv.sdev(x),\n",
    "        color=\"blue\",\n",
    "        alpha=0.1,\n",
    "        zorder=-4\n",
    "    )"
   ]
  },
  {
   "cell_type": "code",
   "execution_count": null,
   "metadata": {
    "scrolled": false
   },
   "outputs": [],
   "source": [
    "eps = np.linspace(1.0e-3, df.epsilon.max(), 100)\n",
    "\n",
    "grid = sns.FacetGrid(\n",
    "    data=df.query(\"nlevel < 8 and nlevel > 0\").sort_values(\"x\", ascending=True),\n",
    "    col=\"nstep\",\n",
    "    row=\"nlevel\",\n",
    "    sharex=True,\n",
    "    sharey=\"row\",\n",
    "    legend_out=True,\n",
    "    hue_kws={\n",
    "        \"marker\": MARKERS * 5,\n",
    "        \"ms\": [2] * 40,\n",
    "        \"lw\": [0.5] * 40,\n",
    "        \"ls\": [\"None\"]*40,\n",
    "        \"color\": [\"black\"]*40,\n",
    "        \"zorder\": [3]*40,\n",
    "    },\n",
    "    margin_titles=True,\n",
    "    col_order=[nstep for nstep in [1, 2, 4, -1]],\n",
    "    row_order=[nlevel for nlevel in range(1,8)[::-1]],\n",
    "    xlim=(eps.min(), eps.max()*1.1),\n",
    "    aspect=2, height=1.5\n",
    ")\n",
    "\n",
    "grid.map_dataframe(plot_frame, \"epsilon\", \"x\")\n",
    "\n",
    "for ax in grid.axes.flat:\n",
    "    ax.set_xscale(\"log\")\n",
    "    \n",
    "grid.set_ylabels(r\"$x = \\frac{2 \\mu E L^2}{4 \\pi^2}$\")\n",
    "grid.set_xlabels(r\"$\\epsilon [\\mathrm{fm}]$\")\n",
    "grid.set_titles(\n",
    "    #row_template=r\"${row_var} = {row_name} [\\mathrm{{fm}}]$\",\n",
    "    col_template=r\"$n_{{\\mathrm{{step}}}} =$ {col_name}\",\n",
    ")\n",
    "\n",
    "plt.subplots_adjust(wspace=0.2, hspace=0.2)\n",
    "\n",
    "ratio = grid.fig.get_figheight() / grid.fig.get_figwidth()\n",
    "grid.fig.set_figheight(ratio * A1_WIDTH)\n",
    "grid.fig.set_figwidth(A1_WIDTH)\n",
    "\n",
    "\n",
    "grid.fig.set_dpi(300)"
   ]
  },
  {
   "cell_type": "raw",
   "metadata": {},
   "source": [
    "grid.savefig(\"continuum-extrapolation.pgf\", bbox_axes=\"tight\")"
   ]
  },
  {
   "cell_type": "code",
   "execution_count": null,
   "metadata": {},
   "outputs": [],
   "source": []
  },
  {
   "cell_type": "code",
   "execution_count": null,
   "metadata": {},
   "outputs": [],
   "source": [
    "x_mean = np.sum(tf.x0 * tf.P)\n",
    "x_sdev = np.sqrt(np.sum(tf.P*(tf.x0 - x_mean)**2)/len(tf.x0))\n",
    "x_mean, x_sdev"
   ]
  },
  {
   "cell_type": "code",
   "execution_count": null,
   "metadata": {},
   "outputs": [],
   "source": [
    "plt.axhline(gv.mean(x_mean))\n",
    "plt.axhspan(gv.mean(x_mean) - gv.sdev(x_mean), gv.mean(x_mean) + gv.sdev(x_mean),alpha=0.6)\n",
    "plt.axhspan(\n",
    "    gv.mean(x_mean) - gv.mean(gv.sdev(x_mean) + x_sdev),\n",
    "    gv.mean(x_mean) + gv.mean(gv.sdev(x_mean) + x_sdev),\n",
    "    alpha=0.5,\n",
    ")\n",
    "plt.errorbar(\n",
    "    tf.n_poly_max,\n",
    "    gv.mean(tf.x0.values),\n",
    "    gv.sdev(tf.x0.values),\n",
    "    ls=\"None\",\n",
    "    marker=\".\",\n",
    "    capsize=4,\n",
    ")\n",
    "plt.axhline(zeros[nlevel], color=\"black\", lw=1, ls=\"--\")\n"
   ]
  },
  {
   "cell_type": "code",
   "execution_count": null,
   "metadata": {},
   "outputs": [],
   "source": [
    "tf[[\"x0\", \"P\", \"n_poly_max\"]]"
   ]
  },
  {
   "cell_type": "code",
   "execution_count": null,
   "metadata": {},
   "outputs": [],
   "source": []
  }
 ],
 "metadata": {
  "kernelspec": {
   "display_name": "Python 3",
   "language": "python",
   "name": "python3"
  },
  "language_info": {
   "codemirror_mode": {
    "name": "ipython",
    "version": 3
   },
   "file_extension": ".py",
   "mimetype": "text/x-python",
   "name": "python",
   "nbconvert_exporter": "python",
   "pygments_lexer": "ipython3",
   "version": "3.7.3"
  }
 },
 "nbformat": 4,
 "nbformat_minor": 2
}
