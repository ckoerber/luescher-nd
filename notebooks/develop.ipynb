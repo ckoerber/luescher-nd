{
 "cells": [
  {
   "cell_type": "code",
   "execution_count": null,
   "metadata": {},
   "outputs": [],
   "source": [
    "from itertools import product\n",
    "\n",
    "import numpy as np\n",
    "import pandas as pd\n",
    "\n",
    "from matplotlib.pylab import plt\n",
    "import seaborn as sns\n",
    "\n",
    "from luescher_nd.zeta.zeta3d import Zeta3D\n",
    "import luescher_nd.utilities as ut\n",
    "\n",
    "from luescher_nd.utilities import get_laplace_coefficients\n",
    "from luescher_nd.utilities import Solver"
   ]
  },
  {
   "cell_type": "code",
   "execution_count": null,
   "metadata": {},
   "outputs": [],
   "source": [
    "epsilon = 0.1\n",
    "L = 1.0\n",
    "n1d_max = int(L / epsilon)\n",
    "nstep=2\n",
    "\n",
    "HBARC = 197.326 # MeV / fm\n",
    "M_NUCLEON = (938.27 + 939.57) / 2 / HBARC # in fm^{-1}\n",
    "\n",
    "mu = M_NUCLEON / 2\n",
    "\n",
    "zeta3d = Zeta3D(L, epsilon)"
   ]
  },
  {
   "cell_type": "code",
   "execution_count": null,
   "metadata": {},
   "outputs": [],
   "source": [
    "solver = ut.Solver(\n",
    "    n1d_max=n1d_max,\n",
    "    ndim_max=3,\n",
    "    lattice_spacing=epsilon,\n",
    "    derivative_shifts=ut.get_laplace_coefficients(nstep),\n",
    ")"
   ]
  },
  {
   "cell_type": "code",
   "execution_count": null,
   "metadata": {},
   "outputs": [],
   "source": [
    "c0 = -5.0\n",
    "energies = solver.get_energies(c0, n_energies=2)\n",
    "all_x = energies * mu * L ** 2 / 2 / np.pi ** 2"
   ]
  },
  {
   "cell_type": "code",
   "execution_count": null,
   "metadata": {},
   "outputs": [],
   "source": [
    "all_x"
   ]
  },
  {
   "cell_type": "code",
   "execution_count": null,
   "metadata": {},
   "outputs": [],
   "source": [
    "def effective_range(x, L, epsilon):\n",
    "    \"\"\"\n",
    "    \"\"\"\n",
    "    p2 = x / (L / 2 / np.pi) ** 2\n",
    "    Lambda = np.pi / epsilon\n",
    "    r0 = 4 / np.pi / Lambda\n",
    "    P = -np.pi ** 2 / 96\n",
    "    return r0 / 2 * p2 - P * r0 ** 3 * p2 ** 2"
   ]
  },
  {
   "cell_type": "code",
   "execution_count": null,
   "metadata": {},
   "outputs": [],
   "source": [
    "df = pd.read_csv(\"../data/luescher-3d-res-eff.csv\")\n",
    "df[\"L\"] = df[\"n1d_max\"]  * df[\"epsilon\"]\n",
    "df[\"x\"] = df[\"energy\"] * mu * df[\"L\"]**2 / 2 / np.pi**2\n",
    "\n",
    "df[\"y\"] = None\n",
    "for L, epsilon in product(df.L.unique(), df.epsilon.unique()):\n",
    "    ind = (df.L == L) & (df.epsilon == epsilon)\n",
    "    zeta = Zeta3D(L, epsilon)\n",
    "    df.loc[ind, \"y\"] = zeta(df.loc[ind, \"x\"].values) / np.pi / L\n",
    "    df.loc[ind, \"y_eff\"] = df.loc[ind, \"y\"] + effective_range(df.loc[ind, \"x\"].values, L, epsilon)\n",
    "    \n",
    "\n",
    "df.head()"
   ]
  },
  {
   "cell_type": "code",
   "execution_count": null,
   "metadata": {},
   "outputs": [],
   "source": [
    "tf = df[(df.y.abs() < 10) & (df.nstep > 1)].drop_duplicates([\"epsilon\", \"nstep\", \"y\"])"
   ]
  },
  {
   "cell_type": "code",
   "execution_count": null,
   "metadata": {
    "scrolled": false
   },
   "outputs": [],
   "source": [
    "ymax = 4\n",
    "g = sns.FacetGrid(\n",
    "    tf,\n",
    "    col=\"nstep\",\n",
    "    hue=\"n1d_max\",\n",
    "    hue_kws={\"marker\": [\"s\", \"o\", \"x\", \"d\"]},\n",
    "    palette=\"cubehelix\",\n",
    "    xlim=(-1, 6),\n",
    "    ylim=(-ymax, ymax)\n",
    ")\n",
    "\n",
    "g.map(plt.plot, \"x\", \"y\", ms=1, lw=0.5, ls=\"--\")\n",
    "\n",
    "g.set_xlabels(\"$x$\")\n",
    "g.set_ylabels(r\"$\\frac{S_3^{Lat}(x)}{\\pi L}$\")\n",
    "\n",
    "g.add_legend(title=r\"$\\frac{L}{\\epsilon}$\", fontsize=6, bbox_to_anchor=(1.1, 0.65))\n",
    "\n",
    "x = np.linspace(-1, 10, 1000)\n",
    "\n",
    "for ax in g.axes[0]:\n",
    "    ax.axhline(0, c=\"black\", lw=0.2)\n",
    "    ax.axvline(0, c=\"black\", lw=0.2)\n",
    "    ax.plot(x, zeta3d(x)/np.pi/L, \"--\", lw=0.1, ms=0.1)\n",
    "    \n",
    "g.fig.set_dpi(300)\n",
    "g.fig.set_figheight(2)\n",
    "g.fig.set_figwidth(6)\n",
    "\n",
    "plt.show(g.fig)"
   ]
  },
  {
   "cell_type": "code",
   "execution_count": null,
   "metadata": {},
   "outputs": [],
   "source": [
    "g.fig.savefig(\"S3lat-results.pdf\", bbox_inches=\"tight\")"
   ]
  },
  {
   "cell_type": "code",
   "execution_count": null,
   "metadata": {},
   "outputs": [],
   "source": [
    "!open S3lat-results.pdf"
   ]
  },
  {
   "cell_type": "code",
   "execution_count": null,
   "metadata": {},
   "outputs": [],
   "source": []
  }
 ],
 "metadata": {
  "kernelspec": {
   "display_name": "Python 3",
   "language": "python",
   "name": "python3"
  },
  "language_info": {
   "codemirror_mode": {
    "name": "ipython",
    "version": 3
   },
   "file_extension": ".py",
   "mimetype": "text/x-python",
   "name": "python",
   "nbconvert_exporter": "python",
   "pygments_lexer": "ipython3",
   "version": "3.7.2"
  }
 },
 "nbformat": 4,
 "nbformat_minor": 2
}
