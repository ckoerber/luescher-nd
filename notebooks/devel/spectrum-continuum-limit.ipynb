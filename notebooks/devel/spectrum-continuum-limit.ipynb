{
 "cells": [
  {
   "cell_type": "code",
   "execution_count": null,
   "metadata": {},
   "outputs": [],
   "source": [
    "import os\n",
    "import re\n",
    "\n",
    "import numpy as np\n",
    "import pandas as pd\n",
    "from scipy.optimize import minimize_scalar\n",
    "\n",
    "import seaborn as sns\n",
    "import matplotlib.pylab as plt\n",
    "\n",
    "from luescher_nd.database import utilities as ut\n",
    "from luescher_nd.database.utilities import DATA_FOLDER\n",
    "from luescher_nd.zeta.extern.pyzeta import zeta\n",
    "\n",
    "from luescher_nd.plotting import styles\n",
    "\n",
    "styles.setup(pgf=False)"
   ]
  },
  {
   "cell_type": "code",
   "execution_count": null,
   "metadata": {},
   "outputs": [],
   "source": [
    "%load_ext blackcellmagic"
   ]
  },
  {
   "cell_type": "code",
   "execution_count": null,
   "metadata": {},
   "outputs": [],
   "source": [
    "a_inv = 0.0\n",
    "L = 1.0"
   ]
  },
  {
   "cell_type": "code",
   "execution_count": null,
   "metadata": {
    "scrolled": false
   },
   "outputs": [],
   "source": [
    "diff_sq = lambda x: (a_inv - zeta(x)[0] / np.pi / L) ** 2\n",
    "bounds = [-10] + [n2 for n2 in ut.get_degeneracy(20) if n2 < 50]\n",
    "xs = []\n",
    "\n",
    "for b1, b2 in zip(bounds, np.roll(bounds, -1)):\n",
    "    if b1 > b2: break\n",
    "    \n",
    "    xs.append(\n",
    "        minimize_scalar(\n",
    "            diff_sq,\n",
    "            method=\"bounded\",\n",
    "            bounds=(b1 + 1.0e-3, b2 - 1.0e-3),\n",
    "            options={\"xatol\": 1.0e-16}\n",
    "        ).x\n",
    "    )\n",
    "\n",
    "spectrum = np.array(xs)"
   ]
  },
  {
   "cell_type": "code",
   "execution_count": null,
   "metadata": {},
   "outputs": [],
   "source": [
    "files = [f for f in os.listdir(DATA_FOLDER) if f.endswith(\".sqlite\") and not \"tmp\" in f]"
   ]
  },
  {
   "cell_type": "code",
   "execution_count": null,
   "metadata": {},
   "outputs": [],
   "source": [
    "file_name = f\"contact-fitted_a-inv={a_inv:+1.1f}_zeta=spherical_projector=a1g_n-eigs=200.sqlite\"\n",
    "df = ut.read_table(\n",
    "    os.path.join(DATA_FOLDER, file_name),\n",
    "    zeta=None,\n",
    "    round_digits=2,\n",
    "    filter_poles=False,\n",
    "    filter_by_nstates=False,\n",
    "    filter_degeneracy=False,\n",
    ").query(\"nlevel < 24 and epsilon < 0.2 and L == @L\")[\n",
    "    [\"n1d\", \"epsilon\", \"nstep\", \"L\", \"x\", \"nlevel\", \"mass\"]\n",
    "]\n",
    "df[\"L\"] = df.L.round(7)\n",
    "df.head()"
   ]
  },
  {
   "cell_type": "code",
   "execution_count": null,
   "metadata": {},
   "outputs": [],
   "source": [
    "data = []\n",
    "for idx, (l, nstep) in df[[\"L\", \"nstep\"]].drop_duplicates().iterrows():\n",
    "    for nlevel, x in enumerate(spectrum):\n",
    "        data.append({\n",
    "            \"L\": l,\n",
    "            \"epsilon\": 0,\n",
    "            \"nstep\": int(nstep),\n",
    "            \"n1d\": None,\n",
    "            \"x\": x,\n",
    "            \"nlevel\": nlevel,\n",
    "        })\n",
    "tf = pd.DataFrame(data)\n",
    "\n",
    "for deg in ut.get_degeneracy_list(20):\n",
    "    tf.loc[tf.nlevel >= deg, \"nlevel\"] += 1"
   ]
  },
  {
   "cell_type": "code",
   "execution_count": null,
   "metadata": {},
   "outputs": [],
   "source": [
    "ff = df.groupby([\"n1d\", \"epsilon\"]).apply(\n",
    "    lambda frame: (frame.set_index([\"L\", \"nstep\", \"nlevel\"])[[\"x\"]]\n",
    "    - tf.set_index([\"L\", \"nstep\", \"nlevel\"])[[\"x\"]]).abs()\n",
    ").reset_index().dropna()\n",
    "\n",
    "ff[\"diff_e\"] = ff[\"x\"] / ff[\"epsilon\"] / (df[\"mass\"].unique()[0]/2)\n",
    "ff[\"e2\"] = ff[\"epsilon\"]**2\n",
    "\n",
    "ff[\"nstep_label\"] = ff.nstep.where(ff.nstep > 0, \"$\\infty$\")\n",
    "\n",
    "ff.head()"
   ]
  },
  {
   "cell_type": "code",
   "execution_count": null,
   "metadata": {},
   "outputs": [],
   "source": [
    "grid = sns.FacetGrid(\n",
    "    data=ff.sort_values(\"epsilon\").query(\"nlevel > 0 and nlevel < 5\"),\n",
    "    col=\"nlevel\",\n",
    "    hue=\"nstep_label\",\n",
    "    col_wrap=4,\n",
    "    sharey=True,\n",
    "    margin_titles=True,\n",
    "    hue_order=[1,2,4,r\"$\\infty$\"]\n",
    ")\n",
    "\n",
    "grid.map(plt.plot, \"epsilon\", \"diff_e\", marker=\".\", ls=\":\", zorder=10)\n",
    "grid.add_legend(title=\"$n_\\mathrm{step}$\")\n",
    "\n",
    "for ax in grid.axes.flat:\n",
    "    ax.set_yscale(\"log\")\n",
    "    ax.set_xscale(\"log\")\n",
    "    ax.set_xlim(1.9e-2, 2**-4)\n",
    "    \n",
    "grid.set_xlabels(\"$\\epsilon \\, [\\mathrm{fm}]$\")\n",
    "grid.set_ylabels(r\"$\\left|x_A - x_N\\right| / (\\mu\\epsilon)$\")\n",
    "\n",
    "styles.finalize(grid.fig, width=None)"
   ]
  },
  {
   "cell_type": "code",
   "execution_count": null,
   "metadata": {},
   "outputs": [],
   "source": [
    "grid.savefig(\"continuum-diff-detail.jpg\", bbox_inches=\"tight\")"
   ]
  },
  {
   "cell_type": "code",
   "execution_count": null,
   "metadata": {},
   "outputs": [],
   "source": [
    "ff[\"even\"] = ff.n1d % 2 == 0\n",
    "\n",
    "grid = sns.FacetGrid(\n",
    "    data=ff.query(\"nlevel > 0 and nlevel < 2\").query(\"epsilon < 0.05\"),\n",
    "    col=\"nstep\",\n",
    "    row=\"nlevel\",\n",
    "    hue=\"even\",\n",
    "    sharey=False,\n",
    "    margin_titles=True,\n",
    "    col_order=[1,2,4,-1]\n",
    ")\n",
    "\n",
    "grid.map(plt.plot, \"epsilon\", \"diff_e\", marker=\"o\", ls=\":\", zorder=10)\n",
    "grid.add_legend(title=\"$n_{1d}$ even\")\n",
    "\n",
    "for ax in grid.axes.flat:\n",
    "    ax.set_yscale(\"log\")\n",
    "    ax.set_xscale(\"log\")\n",
    "\n",
    "grid.set_xlabels(\"$\\epsilon \\, [\\mathrm{fm}]$\")\n",
    "grid.set_ylabels(r\"$\\left|x_A - x_N\\right| / (\\mu\\epsilon)$\")\n",
    "\n",
    "styles.finalize(grid.fig, width=None)"
   ]
  },
  {
   "cell_type": "code",
   "execution_count": null,
   "metadata": {},
   "outputs": [],
   "source": [
    "grid.savefig(\"continuum-diff-detail.jpg\", bbox_inches=\"tight\")"
   ]
  }
 ],
 "metadata": {
  "kernelspec": {
   "display_name": "Python 3",
   "language": "python",
   "name": "python3"
  },
  "language_info": {
   "codemirror_mode": {
    "name": "ipython",
    "version": 3
   },
   "file_extension": ".py",
   "mimetype": "text/x-python",
   "name": "python",
   "nbconvert_exporter": "python",
   "pygments_lexer": "ipython3",
   "version": "3.7.3"
  }
 },
 "nbformat": 4,
 "nbformat_minor": 2
}
