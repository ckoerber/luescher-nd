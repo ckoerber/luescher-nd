{
 "cells": [
  {
   "cell_type": "code",
   "execution_count": null,
   "metadata": {},
   "outputs": [],
   "source": [
    "from luescher_nd.zeta.zeta3d import DispersionZeta3D\n",
    "import pandas as pd\n",
    "import numpy as np\n",
    "import os"
   ]
  },
  {
   "cell_type": "code",
   "execution_count": null,
   "metadata": {},
   "outputs": [],
   "source": [
    "CWD = os.getcwd()\n",
    "ROOT = os.path.dirname(CWD)\n",
    "PAPER = os.path.join(ROOT, \"papers\", \"luescher-nd\")"
   ]
  },
  {
   "cell_type": "code",
   "execution_count": null,
   "metadata": {},
   "outputs": [],
   "source": [
    "norms = {\n",
    "    1: 1.01092403943465,\n",
    "    2: 0.876111009542394,\n",
    "    3: 0.837387860316806,\n",
    "    4: 0.819780003837739,\n",
    "    5: 0.809897923441695,\n",
    "    6: 0.803632303522803,\n",
    "    7: 0.799330009223405,\n",
    "    8: 0.796205142152675,\n",
    "    9: 0.793838821006476,\n",
    "    10: 0.791988326687533,\n",
    "    11: 0.790503744465088,\n",
    "    12: 0.789287691287492,\n",
    "    13: 0.788274270126898,\n",
    "    14: 0.787417357563582,\n",
    "    15: 0.786683739985032,\n",
    "    16: 0.786048913637068,\n",
    "    17: 0.785494418656777,\n",
    "    18: 0.785006092573360,\n",
    "    19: 0.784572894336584,\n",
    "    20: 0.784186093200921,\n",
    "    21: 0.783838697216824,\n",
    "    22: 0.783525042827789,\n",
    "    23: 0.783240495095067,\n",
    "    24: 0.782981225338827,\n",
    "    25: 0.782744043889144,\n",
    "    26: 0.782526272681728,\n",
    "    27: 0.782325647072780,\n",
    "    28: 0.782140239360991,\n",
    "    29: 0.781968398629612,\n",
    "    30: 0.781808702994389,\n",
    "    31: 0.781659921378535,\n",
    "    32: 0.781520982673569,\n",
    "    33: 0.781390950676730,\n",
    "    34: 0.781269003583586,\n",
    "    35: 0.781154417100468,\n",
    "    36: 0.781046550454205,\n",
    "    37: 0.780944834736610,\n",
    "    38: 0.780848763142425,\n",
    "    39: 0.780757882752073,\n",
    "    40: 0.780671787581956,\n",
    "    41: 0.780590112680369,\n",
    "    42: 0.780512529090365,\n",
    "    43: 0.780438739534904,\n",
    "    44: 0.780368474706527,\n",
    "    45: 0.780301490065182,\n",
    "    46: 0.780237563065005,\n",
    "    47: 0.780176490744592,\n",
    "    48: 0.780118087626490,\n",
    "    49: 0.780062183880675,\n",
    "    50: 0.780008623714170,\n",
    "    r\"$\\infty$\": 0.777551349695929,\n",
    "}"
   ]
  },
  {
   "cell_type": "code",
   "execution_count": null,
   "metadata": {},
   "outputs": [],
   "source": [
    "df = pd.DataFrame(\n",
    "    [(key, value) for key, value in norms.items()], \n",
    "    columns=[\"$n_{s}$\", r\"$\\mathcal L^{\\dispersion (n_s)}_3$\"],\n",
    ")\n",
    "df[\"$n_{s}$\"] = df[\"$n_{s}$\"].astype(str)\n",
    "df[r\"$\\mathcal L^{\\dispersion (n_s)}_3$\"] *= np.pi**2 * 2"
   ]
  },
  {
   "cell_type": "code",
   "execution_count": null,
   "metadata": {},
   "outputs": [],
   "source": [
    "text = df.to_latex(index=False, escape=False, float_format=\"{:1.14f}\".format)\n",
    "header = \"\\n\".join(text.split(\"\\n\")[:4])\n",
    "\n",
    "header = header.replace(r\"\\begin{tabular}\", r\"\\begin{tabular}[t]\")\n",
    "\n",
    "footer = \"\\n\".join(text.split(\"\\n\")[-3:])\n",
    "body = \"\\n\".join(text.split(\"\\n\")[4:-3])\n",
    "\n",
    "split = \"\\n\" + footer + header + \"\\n\"\n",
    "split = split.replace(r\"\\begin{tabular}[t]{\", r\"\\begin{tabular}[t]{|\")\n",
    "\n",
    "n_splits = 3\n",
    "\n",
    "\n",
    "table = header + \"\\n\" \n",
    "n_max = len(body.split(\"\\n\"))\n",
    "parts = []\n",
    "for n in range(n_splits):\n",
    "    parts.append(\"\\n\".join(body.split(\"\\n\")[n_max//n_splits*n:n_max//n_splits*(n+1)]))\n",
    "table += split.join(parts) + \"\\n\" + footer"
   ]
  },
  {
   "cell_type": "code",
   "execution_count": null,
   "metadata": {},
   "outputs": [],
   "source": [
    "fname = \"section\", \"counterterm\", \"diserpersion-zeta-3d-counterterm-table.tex\"\n",
    "with open(os.path.join(PAPER, *fname), \"w\") as fout:\n",
    "    fout.write(table)\n"
   ]
  },
  {
   "cell_type": "code",
   "execution_count": null,
   "metadata": {},
   "outputs": [],
   "source": []
  },
  {
   "cell_type": "code",
   "execution_count": null,
   "metadata": {},
   "outputs": [],
   "source": []
  }
 ],
 "metadata": {
  "kernelspec": {
   "display_name": "Python 3",
   "language": "python",
   "name": "python3"
  },
  "language_info": {
   "codemirror_mode": {
    "name": "ipython",
    "version": 3
   },
   "file_extension": ".py",
   "mimetype": "text/x-python",
   "name": "python",
   "nbconvert_exporter": "python",
   "pygments_lexer": "ipython3",
   "version": "3.7.4"
  }
 },
 "nbformat": 4,
 "nbformat_minor": 2
}
