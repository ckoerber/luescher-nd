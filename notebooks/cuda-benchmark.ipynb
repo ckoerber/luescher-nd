{
 "cells": [
  {
   "cell_type": "markdown",
   "metadata": {},
   "source": [
    "# Cuda Benchmark "
   ]
  },
  {
   "cell_type": "markdown",
   "metadata": {},
   "source": [
    "Benchmark for lattice hamiltonian computations using scipy comapred cupy"
   ]
  },
  {
   "cell_type": "markdown",
   "metadata": {},
   "source": [
    "# Init"
   ]
  },
  {
   "cell_type": "markdown",
   "metadata": {},
   "source": [
    "## Imports"
   ]
  },
  {
   "cell_type": "code",
   "execution_count": null,
   "metadata": {},
   "outputs": [],
   "source": [
    "# Python\n",
    "import itertools\n",
    "\n",
    "# Data management\n",
    "import numpy as np\n",
    "import pandas as pd\n",
    "import cupy as cp\n",
    "import os\n",
    "\n",
    "# Plotting\n",
    "import matplotlib.pylab as plt\n",
    "import seaborn as sns\n",
    "sns.set(style=\"ticks\", font_scale=.9, palette=\"muted\")\n",
    "\n",
    "# Fitting\n",
    "import scipy.optimize as opt\n",
    "\n",
    "# Project modules\n",
    "import luescher_nd.utilities as ut"
   ]
  },
  {
   "cell_type": "code",
   "execution_count": null,
   "metadata": {},
   "outputs": [],
   "source": [
    "%load_ext blackcellmagic"
   ]
  },
  {
   "cell_type": "markdown",
   "metadata": {},
   "source": [
    "## Preparation"
   ]
  },
  {
   "cell_type": "code",
   "execution_count": null,
   "metadata": {},
   "outputs": [],
   "source": [
    "n1d_max_range = np.arange(10, 100, 10)\n",
    "ndim_max_range = [3,]\n",
    "n_step_range = range(1, 5)\n",
    "cuda_range = [True, False]"
   ]
  },
  {
   "cell_type": "code",
   "execution_count": null,
   "metadata": {},
   "outputs": [],
   "source": [
    "data = []\n",
    "\n",
    "if os.path.exists(\"benchmark.csv\"):\n",
    "    df = pd.read_csv(\"benchmark.csv\", index_col=0)\n",
    "else:\n",
    "    df = pd.DataFrame()\n",
    "    \n",
    "df.tail()"
   ]
  },
  {
   "cell_type": "markdown",
   "metadata": {},
   "source": [
    "## Actual Benchmark"
   ]
  },
  {
   "cell_type": "raw",
   "metadata": {},
   "source": [
    "for n1d_max, ndim_max, n_step, cuda in itertools.product(\n",
    "    n1d_max_range, ndim_max_range, n_step_range, cuda_range\n",
    "):\n",
    "    data = {\n",
    "        \"n1d_max\": n1d_max,\n",
    "        \"ndim_max\": ndim_max,\n",
    "        \"n_step\": n_step,\n",
    "        \"cuda\": cuda,\n",
    "    }\n",
    "    kwargs = data.copy()\n",
    "    kwargs.pop(\"n_step\")\n",
    "    kwargs[\"derivative_shifts\"] = ut.get_laplace_coefficients(n_step)\n",
    "    \n",
    "    matches = len(df.query(\" and \".join([f\"{key} == {val}\" for key, val in data.items()])))\n",
    "    if matches:\n",
    "        continue\n",
    "\n",
    "    timing = %timeit -o -q ut.get_kinetic_hamiltonian(**kwargs)    \n",
    "    h0 = ut.get_kinetic_hamiltonian(**kwargs)\n",
    "    data[\"n_step\"] = n_step\n",
    "    data[\"kin_mean\"] = timing.average\n",
    "    data[\"kin_sdev\"] = timing.stdev\n",
    "    \n",
    "    timing = %timeit -o -q ut.get_full_hamiltonian(h0, 1.0, cuda=cuda)\n",
    "    data[\"ful_mean\"] = timing.average\n",
    "    data[\"ful_sdev\"] = timing.stdev\n",
    "    \n",
    "    hf = ut.get_full_hamiltonian(h0, 1.0, cuda=cuda)\n",
    "    vec = np.ones(h0.shape[0], dtype=float)\n",
    "    if cuda:\n",
    "        vec = cp.array(vec)\n",
    "    timing = %timeit -o -q (hf * vec)\n",
    "    data[\"matvec_mean\"] = timing.average\n",
    "    data[\"matvec_sdev\"] = timing.stdev \n",
    "\n",
    "    tf = pd.DataFrame([data])\n",
    "    df = df.append(tf, ignore_index=True, sort=True)\n",
    "    df.to_csv(\"benchmark.csv\")"
   ]
  },
  {
   "cell_type": "markdown",
   "metadata": {},
   "source": [
    "# Summary"
   ]
  },
  {
   "cell_type": "code",
   "execution_count": null,
   "metadata": {},
   "outputs": [],
   "source": [
    "df = (\n",
    "    pd.read_csv(\"benchmark.csv\", index_col=0)\n",
    "    .sort_values(by=[\"cuda\", \"n1d_max\", \"n_step\"])\n",
    "    .set_index([\"cuda\", \"n1d_max\", \"n_step\"])\n",
    ")\n",
    "for key in [\"kin\", \"ful\", \"matvec\"]:\n",
    "    df[key] = df.apply(lambda row: (row[key + \"_mean\"], row[key + \"_sdev\"]), axis=1)\n",
    "    \n",
    "df = (\n",
    "    df[[\"kin\", \"ful\", \"matvec\"]]\n",
    "    .stack(level=0)\n",
    "    .reset_index(level=-1)\n",
    "    .rename(columns={\"level_3\": \"dtype\", 0: \"val\"})\n",
    "    .reset_index()\n",
    ")\n",
    "df[[\"mean\", \"sdev\"]] = df.apply(lambda row: pd.Series(row[\"val\"]), axis=1)\n",
    "df = df.drop(\"val\", axis=1)\n",
    "\n",
    "\n",
    "df.head()"
   ]
  },
  {
   "cell_type": "code",
   "execution_count": null,
   "metadata": {},
   "outputs": [],
   "source": [
    "grid = sns.FacetGrid(\n",
    "    data=df,\n",
    "    col=\"n_step\",\n",
    "    row=\"dtype\",\n",
    "    hue=\"cuda\",\n",
    "    sharex=True,\n",
    "    sharey=\"row\",\n",
    "    height=3,\n",
    "    margin_titles=True,\n",
    "    legend_out=False,\n",
    ")\n",
    "\n",
    "grid.map(plt.errorbar, \"n1d_max\", \"mean\", \"sdev\")\n",
    "grid.fig.set_dpi(200)\n",
    "grid.set(yscale=\"log\")\n",
    "grid.add_legend()\n",
    "\n",
    "grid.fig.tight_layout(w_pad=1)\n",
    "\n",
    "plt.show()"
   ]
  },
  {
   "cell_type": "code",
   "execution_count": null,
   "metadata": {},
   "outputs": [],
   "source": [
    "grid.savefig(\"benchmark-cpu-gpu-hamiltonian.pdf\", bbox_inches=\"tight\")"
   ]
  }
 ],
 "metadata": {
  "kernelspec": {
   "display_name": ".luescher-nd",
   "language": "python",
   "name": ".luescher-nd"
  },
  "language_info": {
   "codemirror_mode": {
    "name": "ipython",
    "version": 3
   },
   "file_extension": ".py",
   "mimetype": "text/x-python",
   "name": "python",
   "nbconvert_exporter": "python",
   "pygments_lexer": "ipython3",
   "version": "3.7.2"
  }
 },
 "nbformat": 4,
 "nbformat_minor": 2
}
