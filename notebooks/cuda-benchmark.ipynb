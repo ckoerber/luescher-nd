{
 "cells": [
  {
   "cell_type": "markdown",
   "metadata": {},
   "source": [
    "# Benchmark for solving lattice hamiltonian"
   ]
  },
  {
   "cell_type": "code",
   "execution_count": null,
   "metadata": {},
   "outputs": [],
   "source": [
    "# Python\n",
    "import itertools\n",
    "\n",
    "# Data management\n",
    "import numpy as np\n",
    "import pandas as pd\n",
    "import cupy as cp\n",
    "import os\n",
    "\n",
    "# Plotting\n",
    "import matplotlib.pylab as plt\n",
    "import seaborn as sns\n",
    "sns.set(style=\"ticks\", font_scale=.9, palette=\"muted\")\n",
    "\n",
    "# Fitting\n",
    "import scipy.optimize as opt\n",
    "\n",
    "# Project modules\n",
    "import luescher_nd.utilities as ut"
   ]
  },
  {
   "cell_type": "code",
   "execution_count": null,
   "metadata": {},
   "outputs": [],
   "source": [
    "%load_ext blackcellmagic"
   ]
  },
  {
   "cell_type": "code",
   "execution_count": null,
   "metadata": {},
   "outputs": [],
   "source": [
    "def get_laplace_coefficients(n_step: int):\n",
    "    \"\"\"Implementation fo finite step laplace derivative coefficients.\n",
    "\n",
    "    See also https://en.wikipedia.org/wiki/Finite_difference_coefficient.\n",
    "\n",
    "    Arguments\n",
    "    ---------\n",
    "        n_step: int\n",
    "            Step range of derivative. Must be larger than 0.\n",
    "    \"\"\"\n",
    "    out = {}\n",
    "\n",
    "    if n_step < 1:\n",
    "        raise ValueError(\"'n_step' must be larger than zero.\")\n",
    "\n",
    "    elif n_step == 1:\n",
    "        out[0] = -2\n",
    "        out[1] = out[-1] = 1\n",
    "\n",
    "    elif n_step == 2:\n",
    "        out[0] = -5 / 2\n",
    "        out[1] = out[-1] = 4 / 3\n",
    "        out[2] = out[-2] = -1 / 12\n",
    "\n",
    "    elif n_step == 3:\n",
    "        out[0] = -49 / 18\n",
    "        out[1] = out[-1] = 3 / 2\n",
    "        out[2] = out[-2] = -3 / 20\n",
    "        out[3] = out[-3] = 1 / 90\n",
    "\n",
    "    elif n_step == 4:\n",
    "        out[0] = -205 / 72\n",
    "        out[1] = out[-1] = 8 / 5\n",
    "        out[2] = out[-2] = -1 / 5\n",
    "        out[3] = out[-3] = 8 / 315\n",
    "        out[4] = out[-4] = -1 / 560\n",
    "\n",
    "    else:\n",
    "        raise NotImplementedError(\"'n_step' not implemented for values larger than 6.\")\n",
    "\n",
    "    return out"
   ]
  },
  {
   "cell_type": "code",
   "execution_count": null,
   "metadata": {},
   "outputs": [],
   "source": [
    "n1d_max_range = np.arange(10, 100, 10)\n",
    "ndim_max_range = [3,]\n",
    "n_step_range = range(1, 5)\n",
    "cuda_range = [True, False]"
   ]
  },
  {
   "cell_type": "code",
   "execution_count": null,
   "metadata": {},
   "outputs": [],
   "source": [
    "data = []\n",
    "\n",
    "if os.path.exists(\"benchmark.csv\"):\n",
    "    df = pd.read_csv(\"benchmark.csv\", index_col=0)\n",
    "else:\n",
    "    df = pd.DataFrame()\n",
    "    \n",
    "df.tail()"
   ]
  },
  {
   "cell_type": "raw",
   "metadata": {},
   "source": [
    "for n1d_max, ndim_max, n_step, cuda in itertools.product(\n",
    "    n1d_max_range, ndim_max_range, n_step_range, cuda_range\n",
    "):\n",
    "    data = {\n",
    "        \"n1d_max\": n1d_max,\n",
    "        \"ndim_max\": ndim_max,\n",
    "        \"n_step\": n_step,\n",
    "        \"cuda\": cuda,\n",
    "    }\n",
    "    kwargs = data.copy()\n",
    "    kwargs.pop(\"n_step\")\n",
    "    kwargs[\"derivative_shifts\"] = get_laplace_coefficients(n_step)\n",
    "    \n",
    "    matches = len(df.query(\" and \".join([f\"{key} == {val}\" for key, val in data.items()])))\n",
    "    if matches:\n",
    "        continue\n",
    "\n",
    "    timing = %timeit -o -q ut.get_kinetic_hamiltonian(**kwargs)    \n",
    "    h0 = ut.get_kinetic_hamiltonian(**kwargs)\n",
    "    data[\"n_step\"] = n_step\n",
    "    data[\"kin_mean\"] = timing.average\n",
    "    data[\"kin_sdev\"] = timing.stdev\n",
    "    \n",
    "    timing = %timeit -o -q ut.get_full_hamiltonian(h0, 1.0, cuda=cuda)\n",
    "    data[\"ful_mean\"] = timing.average\n",
    "    data[\"ful_sdev\"] = timing.stdev\n",
    "    \n",
    "    hf = ut.get_full_hamiltonian(h0, 1.0, cuda=cuda)\n",
    "    vec = np.ones(h0.shape[0], dtype=float)\n",
    "    if cuda:\n",
    "        vec = cp.array(vec)\n",
    "    timing = %timeit -o -q (hf * vec)\n",
    "    data[\"matvec_mean\"] = timing.average\n",
    "    data[\"matvec_sdev\"] = timing.stdev \n",
    "\n",
    "    tf = pd.DataFrame([data])\n",
    "    df = df.append(tf, ignore_index=True, sort=True)\n",
    "    df.to_csv(\"benchmark.csv\")"
   ]
  },
  {
   "cell_type": "code",
   "execution_count": null,
   "metadata": {},
   "outputs": [],
   "source": []
  }
 ],
 "metadata": {
  "kernelspec": {
   "display_name": ".luescher-nd",
   "language": "python",
   "name": ".luescher-nd"
  },
  "language_info": {
   "codemirror_mode": {
    "name": "ipython",
    "version": 3
   },
   "file_extension": ".py",
   "mimetype": "text/x-python",
   "name": "python",
   "nbconvert_exporter": "python",
   "pygments_lexer": "ipython3",
   "version": "3.7.2"
  }
 },
 "nbformat": 4,
 "nbformat_minor": 2
}
