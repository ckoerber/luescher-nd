{
 "cells": [
  {
   "cell_type": "markdown",
   "metadata": {},
   "source": [
    "# Derivatives"
   ]
  },
  {
   "cell_type": "code",
   "execution_count": null,
   "metadata": {},
   "outputs": [],
   "source": [
    "import numpy as np\n",
    "from itertools import product\n",
    "import matplotlib.pylab as plt"
   ]
  },
  {
   "cell_type": "markdown",
   "metadata": {},
   "source": [
    "# Finite difference dispersion"
   ]
  },
  {
   "cell_type": "markdown",
   "metadata": {},
   "source": [
    "There is a one to one corespondence between a finite step derivative and the dispersion of the corresponding momentum operator on the lattice.\n",
    "\n",
    "E.g. for a Laplace finite step derivative of the form\n",
    "\n",
    "$$\n",
    "  \\frac{\\partial^2}{\\partial^2x}f(x) \\mapsto\n",
    "  \\frac{1}{\\epsilon^2}\\sum_{n=-N_s}^{N_s} c_n^{N_s} f(\\epsilon n_x + \\epsilon n) \\, ,\n",
    "  x = \\epsilon n_x \\, ,\n",
    "$$\n",
    "where $\\epsilon$ is the lattice spacing, corresponds to the momentum dispersion\n",
    "$$\n",
    "    p^2 \\mapsto D^{N_s}(p) = - \\frac{1}{\\epsilon^2}\\sum_{n=-N_s}^{N_s} c_n^{N_s} \\cos(n p \\epsilon) \\, .\n",
    "$$\n",
    "\n",
    "In general, one wants to identify the coefficients $c_n^{N_s}$ such that $D^{N_s}(p) = p^2 + \\mathcal O \\left( (\\epsilon p)^{2 N_s} \\right)$. \n",
    "\n",
    "\n",
    "If one now expands \n",
    "$$\n",
    "    \\cos(n p \\epsilon) = \\sum_{m=0}^\\infty \\frac{(-)^m}{(2m)!} (n p \\epsilon)^{2m}\\, ,\n",
    "$$\n",
    "one finds that the coefficients $c_n$ are determined by the liner equation\n",
    "\\begin{align}\n",
    "    v_m &= \\sum_{n=0}^{N_s} A_{m n} \\gamma_n\n",
    "    \\, , & \n",
    "    A_{mn} &= \\frac{(-)^m}{(2m)!} n^{2m} \\, ,\n",
    "    \\\\\n",
    "    v_1 &= 1 \n",
    "    \\, , & \n",
    "    v_m &= 0 \\, \\forall \\, m \\neq 1\n",
    "    \\\\\n",
    "    c_0 &= - \\gamma_0 \n",
    "    \\, , &\n",
    "    c_{\\pm n} &= - \\frac{\\gamma_n}{2} \\, \\forall \\, n > 0\n",
    "\\end{align}\n",
    "where $n$ and $m$ run from $0$ to $N_s$.\n"
   ]
  },
  {
   "cell_type": "code",
   "execution_count": null,
   "metadata": {},
   "outputs": [],
   "source": [
    "def derivative_coeffs(Nstep: int):\n",
    "    \"\"\"Computes the derivative coefficient for the lapace operator up to step range Nstep.\n",
    "    \n",
    "    The dispersion of the related momentum squared operator is equal to p**2 up to order P**(2*NStep).\n",
    "    \n",
    "    **Arguments**\n",
    "        Nstep: int\n",
    "            The number of momentum steps in each direction.\n",
    "    \"\"\"\n",
    "    v = np.zeros(Nstep + 1)\n",
    "    v[1] = 1\n",
    "\n",
    "    A = np.zeros([Nstep + 1, Nstep + 1])\n",
    "    for m, n in product(*[range(Nstep + 1)] * 2):\n",
    "        A[m, n] = 1 / np.math.factorial(2 * m) * (-1) ** m * n ** (2 * m)\n",
    "\n",
    "    gamma = np.linalg.solve(A, v)\n",
    "\n",
    "    coeffs = {}\n",
    "    for nstep, coeff in enumerate(gamma):\n",
    "        if nstep == 0:\n",
    "            coeffs[nstep] = -coeff\n",
    "        else:\n",
    "            coeffs[+nstep] = -coeff / 2\n",
    "            coeffs[-nstep] = -coeff / 2\n",
    "\n",
    "    return coeffs\n"
   ]
  },
  {
   "cell_type": "code",
   "execution_count": null,
   "metadata": {},
   "outputs": [],
   "source": [
    "fig, ax = plt.subplots(figsize=(3, 2), dpi=250)\n",
    "\n",
    "p = np.linspace(-1, 1, 1000)\n",
    "\n",
    "for nstep in range(2, 10, 2):\n",
    "    coeffs = derivative_coeffs(nstep)\n",
    "    Dp = np.sum([-cn * np.cos(n * p) for n, cn in coeffs.items()], axis=0)\n",
    "    ax.plot(p, p ** 2 - Dp, label=f\"$D^{{({nstep})}}(p)$\", lw=1)\n",
    "\n",
    "ax.legend(fontsize=6, frameon=False)\n",
    "ax.set_xlabel(\"$p$\")\n",
    "ax.set_ylabel(\"$p^2 - D(p)$\")\n",
    "ax.set_yscale(\"log\")\n",
    "ax.set_ylim(1.0e-12, 1)\n",
    "\n",
    "plt.show(fig)"
   ]
  }
 ],
 "metadata": {
  "kernelspec": {
   "display_name": "Python 3",
   "language": "python",
   "name": "python3"
  },
  "language_info": {
   "codemirror_mode": {
    "name": "ipython",
    "version": 3
   },
   "file_extension": ".py",
   "mimetype": "text/x-python",
   "name": "python",
   "nbconvert_exporter": "python",
   "pygments_lexer": "ipython3",
   "version": "3.7.2"
  }
 },
 "nbformat": 4,
 "nbformat_minor": 2
}
