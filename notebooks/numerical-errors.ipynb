{
 "cells": [
  {
   "cell_type": "code",
   "execution_count": null,
   "metadata": {},
   "outputs": [],
   "source": [
    "import os\n",
    "import re\n",
    "\n",
    "from importlib import reload\n",
    "\n",
    "import numpy as np\n",
    "import pandas as pd\n",
    "\n",
    "from scipy.stats import norm\n",
    "from scipy import stats\n",
    "\n",
    "import seaborn as sns\n",
    "import matplotlib.pylab as plt\n",
    "\n",
    "from luescher_nd.database import utilities as ut\n",
    "from luescher_nd.database.utilities import DATA_FOLDER\n",
    "\n",
    "sns.set(context=\"notebook\", style=\"ticks\", font_scale=1)"
   ]
  },
  {
   "cell_type": "code",
   "execution_count": null,
   "metadata": {},
   "outputs": [],
   "source": [
    "%load_ext blackcellmagic"
   ]
  },
  {
   "cell_type": "code",
   "execution_count": null,
   "metadata": {},
   "outputs": [],
   "source": [
    "files = [f for f in os.listdir(DATA_FOLDER) if f.endswith(\".sqlite\") and not \"tmp\" in f]\n",
    "print(\"\\n\".join([f\"{n:2d} {f}\" for n, f in enumerate(files)]))"
   ]
  },
  {
   "cell_type": "code",
   "execution_count": null,
   "metadata": {},
   "outputs": [],
   "source": [
    "files = [f for f in files if \"spherical\" in f and \"a1g\" in f and \"0.0\" in f]\n",
    "\n",
    "cols = [\"L\", \"n1d\", \"nstep\", \"x\", \"contact_strength\", \"nlevel\"]\n",
    "\n",
    "dfs = []\n",
    "for f in files:\n",
    "    df = ut.read_table(os.path.join(DATA_FOLDER, f), filter_degeneracy=True)[cols]\n",
    "    df[\"precise\"] = False if \"less-prec\" in f else True\n",
    "    dfs.append(df)\n",
    "\n",
    "\n",
    "df = (\n",
    "    pd.concat(dfs, ignore_index=True)\n",
    "    .set_index([\"precise\", \"L\", \"n1d\", \"nstep\", \"nlevel\"])\n",
    "    .sort_index()\n",
    "    \n",
    ")\n",
    "\n",
    "diff = (df.loc[True] - df.loc[False]).dropna()\n",
    "\n",
    "diff.head()\n"
   ]
  },
  {
   "cell_type": "code",
   "execution_count": null,
   "metadata": {},
   "outputs": [],
   "source": [
    "fig, ax = plt.subplots(figsize=(2, 3), dpi=250)\n",
    "counts = diff.reset_index().groupby([\"L\", \"n1d\", \"nstep\"])[[\"x\"]].count()\n",
    "\n",
    "y = 4 * np.arange(len(counts))\n",
    "ax.barh(y, counts.values.flatten(), height=4)\n",
    "\n",
    "\n",
    "ax.set_xlabel(\"count\")\n",
    "\n",
    "ax.set_yticks(y)\n",
    "ax.set_yticklabels([\"$%1.0f$, $%3d$, %3d\" % el for el in counts.index], fontsize=4)\n",
    "ax.set_ylabel(\"$L$, $n_{1d}$, $n_\\mathrm{step}$\")\n",
    "\n",
    "sns.despine()\n",
    "\n",
    "ax.set_title(\"Count of $x$-values\")\n",
    "\n",
    "plt.show(fig)"
   ]
  },
  {
   "cell_type": "markdown",
   "metadata": {},
   "source": [
    "# Distribution of $x$-values"
   ]
  },
  {
   "cell_type": "code",
   "execution_count": null,
   "metadata": {},
   "outputs": [],
   "source": [
    "grid = sns.FacetGrid(\n",
    "    diff.reset_index(),\n",
    "    row=\"n1d\",\n",
    "    col=\"L\",\n",
    "    hue=\"nstep\",\n",
    "    sharex=\"col\",\n",
    "    sharey=False,\n",
    "    margin_titles=True,\n",
    ")\n",
    "\n",
    "grid.map(sns.distplot, \"x\", norm_hist=True)\n",
    "grid.add_legend()\n",
    "grid.set_xlabels(\"$\\Delta x$\")\n",
    "\n",
    "sns.despine(grid.fig, left=True, trim=True)\n",
    "for ax in grid.axes.flatten():\n",
    "    ax.set_yticks([])\n",
    "\n",
    "plt.show(grid.fig)"
   ]
  },
  {
   "cell_type": "raw",
   "metadata": {},
   "source": [
    "grid.savefig(\"x-numerical-error-ensemblewise.jpeg\", bbox_inches=\"tight\")"
   ]
  },
  {
   "cell_type": "code",
   "execution_count": null,
   "metadata": {
    "scrolled": false
   },
   "outputs": [],
   "source": [
    "grid = sns.FacetGrid(diff.reset_index(), col=\"L\", row=\"n1d\", sharex=\"col\", sharey=False)\n",
    "\n",
    "grid.map(sns.distplot, \"x\", norm_hist=True)\n",
    "\n",
    "grid.add_legend()\n",
    "grid.set_xlabels(\"$\\Delta x$\")\n",
    "\n",
    "sns.despine(grid.fig, left=True, trim=True)\n",
    "for ax in grid.axes.flatten():\n",
    "    ax.set_yticks([])\n",
    "\n",
    "plt.show(grid.fig)"
   ]
  },
  {
   "cell_type": "code",
   "execution_count": null,
   "metadata": {},
   "outputs": [],
   "source": [
    "grid = sns.FacetGrid(diff.reset_index(), col=\"L\", sharex=False, sharey=False)\n",
    "\n",
    "grid.map(sns.distplot, \"x\", norm_hist=True)\n",
    "grid.add_legend()\n",
    "grid.set_xlabels(\"$\\Delta x$\")\n",
    "\n",
    "sns.despine(grid.fig, left=True, trim=True)\n",
    "for ax in grid.axes.flatten():\n",
    "    ax.set_yticks([])\n",
    "\n",
    "plt.show(grid.fig)"
   ]
  },
  {
   "cell_type": "code",
   "execution_count": null,
   "metadata": {},
   "outputs": [],
   "source": [
    "vals = diff.x.dropna().sort_values()\n",
    "\n",
    "vals = vals[(np.abs(stats.zscore(vals)) < 2)]\n",
    "\n",
    "\n",
    "mu, std = norm.fit(vals)\n",
    "x = np.linspace(diff.x.min(), diff.x.max(), 1000)\n",
    "p = norm.pdf(x, mu, std)"
   ]
  },
  {
   "cell_type": "code",
   "execution_count": null,
   "metadata": {},
   "outputs": [],
   "source": [
    "grid = sns.FacetGrid(diff.reset_index(), sharex=False, sharey=False, xlim=(-1.e-12, 1.e-12))\n",
    "\n",
    "grid.map(sns.distplot, \"x\", norm_hist=True)\n",
    "\n",
    "grid.map(sns.distplot, \"x\", norm_hist=True)\n",
    "grid.add_legend()\n",
    "grid.set_xlabels(\"$\\Delta x$\")\n",
    "\n",
    "sns.despine(grid.fig, left=True, trim=True)\n",
    "for ax in grid.axes.flatten():\n",
    "    ax.set_yticks([])\n",
    "\n",
    "ax.plot(x, p, label=f\"$N(\\mu={mu:1.2e}, \\sigma={std:1.2e})$\", color=\"green\")\n",
    "ax.legend(frameon=False, fontsize=6, loc=\"upper left\", bbox_to_anchor=(0.6, 0.5))\n",
    "\n",
    "grid.fig.set_dpi(250)\n",
    "\n",
    "plt.show(grid.fig)"
   ]
  },
  {
   "cell_type": "raw",
   "metadata": {},
   "source": [
    "grid.fig.savefig(\"x-numerical-error.jpeg\", bbox_inches=\"tight\")"
   ]
  },
  {
   "cell_type": "markdown",
   "metadata": {},
   "source": [
    "# Contact interaction"
   ]
  },
  {
   "cell_type": "code",
   "execution_count": null,
   "metadata": {},
   "outputs": [],
   "source": [
    "cdiff = diff.reset_index().groupby([\"L\", \"n1d\", \"nstep\"])[[\"contact_strength\"]].mean()\n",
    "\n",
    "vals = cdiff.contact_strength.dropna().sort_values()\n",
    "\n",
    "vals = vals[(np.abs(stats.zscore(vals)) < 4)]\n",
    "\n",
    "\n",
    "mu, std = norm.fit(vals)\n",
    "x = np.linspace(vals.min(), vals.max(), 1000)\n",
    "p = norm.pdf(x, mu, std)"
   ]
  },
  {
   "cell_type": "code",
   "execution_count": null,
   "metadata": {},
   "outputs": [],
   "source": [
    "grid = sns.FacetGrid(cdiff.reset_index(), sharex=False, sharey=False, xlim=(-5.e-15, 5.e-15))\n",
    "\n",
    "grid.map(sns.distplot, \"contact_strength\", norm_hist=True)\n",
    "\n",
    "grid.map(sns.distplot, \"contact_strength\", norm_hist=True)\n",
    "grid.add_legend()\n",
    "grid.set_xlabels(\"$\\Delta c$\")\n",
    "\n",
    "sns.despine(grid.fig, left=True, trim=True)\n",
    "for ax in grid.axes.flatten():\n",
    "    ax.set_yticks([])\n",
    "\n",
    "ax.plot(x, p, label=f\"$N(\\mu={mu:1.2e}, \\sigma={std:1.2e})$\", color=\"green\")\n",
    "ax.legend(frameon=False, fontsize=6, loc=\"upper left\", bbox_to_anchor=(0.6, 0.5))\n",
    "\n",
    "grid.fig.set_dpi(250)\n",
    "\n",
    "plt.show(grid.fig)"
   ]
  },
  {
   "cell_type": "raw",
   "metadata": {},
   "source": [
    "grid.fig.savefig(\"c-numerical-error.jpeg\", bbox_inches=\"tight\")"
   ]
  }
 ],
 "metadata": {
  "kernelspec": {
   "display_name": "Python 3",
   "language": "python",
   "name": "python3"
  },
  "language_info": {
   "codemirror_mode": {
    "name": "ipython",
    "version": 3
   },
   "file_extension": ".py",
   "mimetype": "text/x-python",
   "name": "python",
   "nbconvert_exporter": "python",
   "pygments_lexer": "ipython3",
   "version": "3.7.3"
  }
 },
 "nbformat": 4,
 "nbformat_minor": 2
}
