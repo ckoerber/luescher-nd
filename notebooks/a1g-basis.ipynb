{
 "cells": [
  {
   "cell_type": "code",
   "execution_count": null,
   "metadata": {},
   "outputs": [],
   "source": [
    "import os\n",
    "import re\n",
    "\n",
    "from importlib import reload\n",
    "\n",
    "import numpy as np\n",
    "import pandas as pd\n",
    "\n",
    "import seaborn as sns\n",
    "import matplotlib.pylab as plt\n",
    "\n",
    "from luescher_nd.database import utilities as ut\n",
    "from luescher_nd.database.utilities import DATA_FOLDER\n",
    "\n",
    "from luescher_nd.operators.a1g import projector\n",
    "\n",
    "from luescher_nd.operators import get_projector_to_not_a1g\n",
    "from luescher_nd.database.utilities import get_degeneracy\n",
    "\n",
    "from luescher_nd.hamiltonians.contact import MomentumContactHamiltonian\n",
    "\n",
    "from luescher_nd.database import utilities as ut\n",
    "\n",
    "import numpy as np\n",
    "from scipy.sparse.linalg import eigsh"
   ]
  },
  {
   "cell_type": "code",
   "execution_count": null,
   "metadata": {},
   "outputs": [],
   "source": [
    "%load_ext blackcellmagic"
   ]
  },
  {
   "cell_type": "code",
   "execution_count": null,
   "metadata": {},
   "outputs": [],
   "source": [
    "file_names = [f for f in os.listdir(DATA_FOLDER) if f.endswith(\".h5\")]"
   ]
  },
  {
   "cell_type": "code",
   "execution_count": null,
   "metadata": {},
   "outputs": [],
   "source": [
    "dfs = []\n",
    "for file_name in file_names:\n",
    "    dfs.append(\n",
    "        pd.read_hdf(os.path.join(DATA_FOLDER, file_name), key=\"overlap\").fillna(0)\n",
    "    )\n",
    "\n",
    "df = pd.concat(dfs, ignore_index=True)\n",
    "\n",
    "n2 = (\n",
    "    df.a1g.str.extractall(\"\\((?P<nx>[0-9]+), (?P<ny>[0-9]+), (?P<nz>[0-9]+)\\)\")\n",
    "    .reset_index(1, drop=True)\n",
    "    .astype(int)\n",
    ")\n",
    "df[\"n2\"] = (n2 ** 2).sum(axis=1)\n"
   ]
  },
  {
   "cell_type": "code",
   "execution_count": null,
   "metadata": {},
   "outputs": [],
   "source": [
    "cmap = sns.color_palette(\"BuGn_r\", n_colors=10)[::-1]\n",
    "CUTOFF = 0.02\n",
    "\n",
    "def heatmap(**kwargs):\n",
    "    \"\"\"\n",
    "    \"\"\"\n",
    "    frame = kwargs[\"data\"]\n",
    "    pivot = frame.pivot(values=\"overlap\", index=\"a1g\", columns=\"n1d\")\n",
    "    missing = 1 - pivot.sum(axis=0)\n",
    "    missing[missing.abs() < CUTOFF] = np.nan\n",
    "    missing = pd.DataFrame(data=[missing.values], columns=missing.index, index=[\"(...)\"])\n",
    "    if not all(missing.isna().values[0]):\n",
    "        pivot = pd.concat([pivot, missing])\n",
    "    \n",
    "    ax = plt.gca()\n",
    "    sns.heatmap(pivot, vmin=1.e-2, vmax=1, cmap=cmap, cbar=False, linewidths=1, annot=True, fmt=\"0.2f\", ax=ax)\n",
    "    y1, y2 = ax.get_ylim()\n",
    "    ax.set_ylim(y1+0.5, y2-0.5)\n",
    "    ax.tick_params(axis=u'both', which=u'both',length=0)\n"
   ]
  },
  {
   "cell_type": "code",
   "execution_count": null,
   "metadata": {
    "scrolled": false
   },
   "outputs": [],
   "source": [
    "grid = sns.FacetGrid(\n",
    "    data=df[df.nlevel.isin([0, 1, 2, 8, 9]) & df.n1d.isin([4, 10, 20, 30, 40, 50])]\n",
    "    .query(\"overlap > @CUTOFF\")\n",
    "    .sort_values([\"n1d\", \"n2\"]),\n",
    "    col=\"nstep\",\n",
    "    row=\"nlevel\",\n",
    "    sharey=False,\n",
    "    sharex=False,\n",
    "    margin_titles=True,\n",
    "    aspect=1.2,\n",
    "    col_order=[1,4,-1]\n",
    ")\n",
    "\n",
    "grid.map_dataframe(heatmap)\n",
    "\n",
    "row_lables = [\n",
    "    text for ax in grid.axes.flat for text in ax.texts if \"nlevel\" in text.get_text()\n",
    "]\n",
    "plt.setp(row_lables, text=\"\")\n",
    "grid.set_titles(\n",
    "    col_template=\"$n_\\mathrm{{step}} = {col_name}$\",\n",
    "    row_template=\"$n_\\mathrm{{level}} = {row_name}$\",\n",
    ")\n",
    "\n",
    "text = [ax.title for ax in grid.axes.flat if \"-1\" in ax.title.get_text()][0]\n",
    "plt.setp([text], text=text.get_text().replace(\"-1\", \"\\infty\"))\n",
    "\n",
    "plt.subplots_adjust(wspace=0.4, hspace=0.5)\n",
    "\n",
    "for nlevel, axes in zip(grid.row_names, grid.axes):\n",
    "    for nstep, ax in zip(grid.col_names, axes):\n",
    "        tf = df.query(\"nlevel == @nlevel and nstep == @nstep\")\n",
    "        x_map = tf.groupby(\"n1d\")[\"x\"].mean().to_dict()\n",
    "\n",
    "        ax.set_xlabel(\"$n_{1d}$\")\n",
    "\n",
    "        topax = ax.twiny()\n",
    "        topax.xaxis.set_ticks_position(\"top\")\n",
    "        topax.xaxis.set_label_position(\"top\")\n",
    "        topax.set_xlabel(\"$x$\")\n",
    "        topax.set_xticklabels(\n",
    "            [\n",
    "                \"{0:2.2f}\".format(x_map[int(n1d.get_text())])\n",
    "                for n1d in ax.get_xticklabels()\n",
    "            ]\n",
    "        )\n",
    "        topax.set_xticks(ax.get_xticks())\n",
    "        topax.set_xlim(ax.get_xlim())\n",
    "\n",
    "sns.despine(grid.fig, left=True, bottom=True)\n",
    "\n",
    "for ax in grid.axes.flatten():\n",
    "    ax.set_yticklabels(\n",
    "        [f\"${label.get_text()}$\" for label in ax.get_yticklabels()], rotation=0\n",
    "    )\n",
    "    ax.set_xticklabels([f\"${label.get_text()}$\" for label in ax.get_xticklabels()])\n",
    "\n",
    "grid.set_ylabels(r\"$\\left\\vert [p] \\right\\rangle \\in A_{1g}$\")\n",
    "\n",
    "\n",
    "plt.show(grid.fig)\n"
   ]
  },
  {
   "cell_type": "raw",
   "metadata": {},
   "source": [
    "grid.savefig(\"a1g-state-overlap.jpeg\", bbox_inches=\"tight\")"
   ]
  }
 ],
 "metadata": {
  "kernelspec": {
   "display_name": "Python 3",
   "language": "python",
   "name": "python3"
  },
  "language_info": {
   "codemirror_mode": {
    "name": "ipython",
    "version": 3
   },
   "file_extension": ".py",
   "mimetype": "text/x-python",
   "name": "python",
   "nbconvert_exporter": "python",
   "pygments_lexer": "ipython3",
   "version": "3.7.3"
  }
 },
 "nbformat": 4,
 "nbformat_minor": 2
}
