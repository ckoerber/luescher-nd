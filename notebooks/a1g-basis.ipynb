{
 "cells": [
  {
   "cell_type": "code",
   "execution_count": null,
   "metadata": {},
   "outputs": [],
   "source": [
    "import os\n",
    "import re\n",
    "\n",
    "from importlib import reload\n",
    "\n",
    "import numpy as np\n",
    "import pandas as pd\n",
    "\n",
    "import seaborn as sns\n",
    "import matplotlib.pylab as plt\n",
    "\n",
    "from luescher_nd.database import utilities as ut\n",
    "from luescher_nd.database.utilities import DATA_FOLDER\n",
    "\n",
    "from luescher_nd.operators.a1g import projector\n",
    "\n",
    "from luescher_nd.operators import get_projector_to_not_a1g\n",
    "from luescher_nd.database.utilities import get_degeneracy\n",
    "\n",
    "from luescher_nd.hamiltonians.contact import MomentumContactHamiltonian\n",
    "\n",
    "from luescher_nd.database import utilities as ut\n",
    "\n",
    "import numpy as np\n",
    "from scipy.sparse.linalg import eigsh"
   ]
  },
  {
   "cell_type": "code",
   "execution_count": null,
   "metadata": {},
   "outputs": [],
   "source": [
    "%load_ext blackcellmagic"
   ]
  },
  {
   "cell_type": "code",
   "execution_count": null,
   "metadata": {},
   "outputs": [],
   "source": [
    "df = pd.read_hdf(\n",
    "    os.path.join(\n",
    "        DATA_FOLDER,\n",
    "        \"eigs-overlap_a-inv=+0.0_zeta=spherical_projector=a1g_n-eigs=200.h5\",\n",
    "    ),\n",
    "    key=\"overlap\",\n",
    ")\n",
    "(df.groupby([\"n1d\", \"epsilon\", \"L\", \"nlevel\"])[[\"overlap\"]].sum().round(3)-1).overlap.unique()"
   ]
  },
  {
   "cell_type": "code",
   "execution_count": null,
   "metadata": {},
   "outputs": [],
   "source": [
    "cmap = sns.color_palette(\"BuGn_r\", n_colors=10)[::-1]\n",
    "\n",
    "def heatmap(**kwargs):\n",
    "    \"\"\"\n",
    "    \"\"\"\n",
    "    frame = kwargs[\"data\"]\n",
    "    pivot = frame.pivot(values=\"overlap\", index=\"a1g\", columns=\"n1d\")\n",
    "    ax = plt.gca()\n",
    "    sns.heatmap(pivot, vmin=1.e-2, vmax=1, cmap=cmap, cbar=False, linewidths=1, annot=True, fmt=\"0.2f\", ax=ax)\n",
    "    y1, y2 = ax.get_ylim()\n",
    "    ax.set_ylim(y1+0.5, y2-0.5)\n",
    "    ax.tick_params(axis=u'both', which=u'both',length=0)\n"
   ]
  },
  {
   "cell_type": "code",
   "execution_count": null,
   "metadata": {
    "scrolled": false
   },
   "outputs": [],
   "source": [
    "grid = sns.FacetGrid(\n",
    "    data=df[df.nlevel.isin([0, 1, 2, 5, 9])].query(\"nstep == -1 and overlap > 0.005\"),\n",
    "    col=\"nlevel\",\n",
    "    sharey=False,\n",
    "    sharex=False,\n",
    "    margin_titles=False,\n",
    "    col_wrap=5,\n",
    ")\n",
    "\n",
    "grid.map_dataframe(heatmap)\n",
    "\n",
    "for ax in grid.axes.flatten():\n",
    "    ax.set_yticklabels([f\"${label.get_text()}$\" for label in ax.get_yticklabels()], rotation=0)\n",
    "    ax.set_xticklabels([f\"${label.get_text()}$\" for label in ax.get_xticklabels()])\n",
    "\n",
    "#grid.fig.set_dpi(250)\n",
    "    \n",
    "plt.subplots_adjust(wspace=0.4)\n",
    "\n",
    "grid.set_xlabels(\"$n_{1d}$\")\n",
    "grid.set_ylabels(r\"$\\left\\vert [p] \\right\\rangle \\in A_{1g}$\")\n",
    "\n",
    "plt.show(grid.fig)"
   ]
  },
  {
   "cell_type": "raw",
   "metadata": {},
   "source": [
    "grid.savefig(\"a1g-state-overlap.jpeg\", bbox_inches=\"tight\")"
   ]
  }
 ],
 "metadata": {
  "kernelspec": {
   "display_name": "Python 3",
   "language": "python",
   "name": "python3"
  },
  "language_info": {
   "codemirror_mode": {
    "name": "ipython",
    "version": 3
   },
   "file_extension": ".py",
   "mimetype": "text/x-python",
   "name": "python",
   "nbconvert_exporter": "python",
   "pygments_lexer": "ipython3",
   "version": "3.7.3"
  }
 },
 "nbformat": 4,
 "nbformat_minor": 2
}
