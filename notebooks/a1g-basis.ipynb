{
 "cells": [
  {
   "cell_type": "code",
   "execution_count": null,
   "metadata": {},
   "outputs": [],
   "source": [
    "import os\n",
    "import re\n",
    "\n",
    "from importlib import reload\n",
    "\n",
    "import numpy as np\n",
    "import pandas as pd\n",
    "\n",
    "import seaborn as sns\n",
    "import matplotlib.pylab as plt\n",
    "\n",
    "from luescher_nd.database import utilities as ut\n",
    "from luescher_nd.database.utilities import DATA_FOLDER\n",
    "\n",
    "from luescher_nd.operators.a1g import projector\n",
    "\n",
    "from luescher_nd.operators import get_projector_to_not_a1g\n",
    "from luescher_nd.database.utilities import get_degeneracy\n",
    "\n",
    "from luescher_nd.hamiltonians.contact import MomentumContactHamiltonian\n",
    "\n",
    "from luescher_nd.database import utilities as ut\n",
    "\n",
    "import numpy as np\n",
    "from scipy.sparse.linalg import eigsh"
   ]
  },
  {
   "cell_type": "code",
   "execution_count": null,
   "metadata": {},
   "outputs": [],
   "source": [
    "%load_ext blackcellmagic"
   ]
  },
  {
   "cell_type": "code",
   "execution_count": null,
   "metadata": {},
   "outputs": [],
   "source": [
    "file_name = \"contact-fitted_a-inv=+0.0_zeta=cartesian_projector=a1g_n-eigs=200.sqlite\"\n",
    "df = ut.read_table(\n",
    "    os.path.join(DATA_FOLDER, file_name),\n",
    "    zeta=None,\n",
    "    round_digits=2,\n",
    "    filter_poles=False,\n",
    "    filter_by_nstates=False,\n",
    "    filter_degeneracy=False\n",
    ").query(\"nlevel == 0 and nstep == -1\")[[\"n1d\", \"epsilon\", \"nstep\", \"L\", \"x\", \"nlevel\", \"contact_strength\", \"E\"]]"
   ]
  },
  {
   "cell_type": "code",
   "execution_count": null,
   "metadata": {},
   "outputs": [],
   "source": [
    "interactions = df.set_index([\"n1d\", \"epsilon\"])[\"contact_strength\"].to_dict()\n",
    "interactions"
   ]
  },
  {
   "cell_type": "code",
   "execution_count": null,
   "metadata": {},
   "outputs": [],
   "source": [
    "ndim = 3\n",
    "contact_strength = -0.10822073617155972"
   ]
  },
  {
   "cell_type": "code",
   "execution_count": null,
   "metadata": {},
   "outputs": [],
   "source": []
  },
  {
   "cell_type": "code",
   "execution_count": null,
   "metadata": {},
   "outputs": [],
   "source": []
  },
  {
   "cell_type": "code",
   "execution_count": null,
   "metadata": {},
   "outputs": [],
   "source": [
    "def get_a1g_basis(n1d, ndim=3):\n",
    "    degs = get_degeneracy(n1d, ndim)\n",
    "    p = projector(n1d, ndim)\n",
    "    basis = {}\n",
    "    for vec_set in degs.values():\n",
    "        for vec in vec_set:\n",
    "            pvec = (n1d ** np.arange(ndim)) @ np.array(vec)\n",
    "            bvec = p.T[pvec].toarray().flatten()\n",
    "            bvec /= np.sqrt(bvec@bvec)\n",
    "            basis[vec] = bvec\n",
    "    return basis"
   ]
  },
  {
   "cell_type": "code",
   "execution_count": null,
   "metadata": {},
   "outputs": [],
   "source": [
    "data = []\n",
    "\n",
    "for (n1d, epsilon), c0 in interactions.items():\n",
    "    if n1d >=30 or n1d % 2 != 0 or n1d * epsilon > 1:\n",
    "        continue\n",
    "    \n",
    "    p = projector(n1d, ndim)\n",
    "    pnot = get_projector_to_not_a1g(n1d, ndim)\n",
    "\n",
    "    basis = get_a1g_basis(n1d, ndim=ndim)\n",
    "    \n",
    "\n",
    "    h = MomentumContactHamiltonian(\n",
    "        n1d,\n",
    "        epsilon=epsilon,\n",
    "        ndim=ndim,\n",
    "        nstep=None,\n",
    "        contact_strength=c0,\n",
    "        filter_out=pnot,\n",
    "        filter_cutoff=3.0e2,\n",
    "    )\n",
    "    E, v = eigsh(h.op, k=20, which=\"SA\", tol=1.e-16)\n",
    "    x = 2 * h.mass / 2 * E * h.L**2 / 4 / np.pi**2\n",
    "    \n",
    "    for nlevel, (xx, vv) in enumerate(zip(x, v.T)):\n",
    "        for key, bv in basis.items():\n",
    "            coeff = bv@vv\n",
    "            overlap = coeff**2\n",
    "            \n",
    "            if overlap > 1.e-2:\n",
    "                data.append({\n",
    "                    \"n1d\": n1d,\n",
    "                    \"epsilon\": epsilon,\n",
    "                    \"L\": epsilon*n1d,\n",
    "                    \"x\": xx,\n",
    "                    \"nlevel\":  nlevel,\n",
    "                    \"overlap\": overlap,\n",
    "                    \"coeff\": coeff,\n",
    "                    \"a1g\": key, \n",
    "                })\n",
    "                \n",
    "df = pd.DataFrame(data)"
   ]
  },
  {
   "cell_type": "code",
   "execution_count": null,
   "metadata": {},
   "outputs": [],
   "source": [
    "df.head()"
   ]
  },
  {
   "cell_type": "code",
   "execution_count": null,
   "metadata": {},
   "outputs": [],
   "source": [
    "df.query(\"nlevel == 9\")"
   ]
  },
  {
   "cell_type": "code",
   "execution_count": null,
   "metadata": {},
   "outputs": [],
   "source": [
    "cmap = sns.color_palette(\"BuGn_r\", n_colors=10)[::-1]\n",
    "\n",
    "def heatmap(**kwargs):\n",
    "    \"\"\"\n",
    "    \"\"\"\n",
    "    frame = kwargs[\"data\"]\n",
    "    pivot = frame.pivot(values=\"overlap\", index=\"a1g\", columns=\"epsilon\")\n",
    "    sns.heatmap(pivot, vmin=1.e-2, vmax=1, cmap=cmap, cbar=False, linewidths=1)\n"
   ]
  },
  {
   "cell_type": "code",
   "execution_count": null,
   "metadata": {
    "scrolled": false
   },
   "outputs": [],
   "source": [
    "grid = sns.FacetGrid(\n",
    "    data=df.query(\"L == 1 and (nlevel == 0 or nlevel == 5 or nlevel ==9)\"),\n",
    "    row=\"nlevel\",\n",
    "    col=\"L\",\n",
    "    sharey=False,\n",
    "    sharex=False,\n",
    "    margin_titles=False,\n",
    ")\n",
    "\n",
    "grid.map_dataframe(heatmap)\n",
    "\n",
    "for ax in grid.axes.flatten():\n",
    "    ax.set_yticklabels(ax.get_yticklabels(), rotation=0)\n",
    "\n",
    "#grid.fig.set_dpi(250)\n",
    "    \n",
    "plt.show(grid.fig)"
   ]
  },
  {
   "cell_type": "code",
   "execution_count": null,
   "metadata": {},
   "outputs": [],
   "source": []
  }
 ],
 "metadata": {
  "kernelspec": {
   "display_name": "Python 3",
   "language": "python",
   "name": "python3"
  },
  "language_info": {
   "codemirror_mode": {
    "name": "ipython",
    "version": 3
   },
   "file_extension": ".py",
   "mimetype": "text/x-python",
   "name": "python",
   "nbconvert_exporter": "python",
   "pygments_lexer": "ipython3",
   "version": "3.7.3"
  }
 },
 "nbformat": 4,
 "nbformat_minor": 2
}
