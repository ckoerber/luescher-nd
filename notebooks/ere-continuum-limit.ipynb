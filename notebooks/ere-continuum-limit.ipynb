{
 "cells": [
  {
   "cell_type": "code",
   "execution_count": null,
   "metadata": {},
   "outputs": [],
   "source": [
    "import os\n",
    "import re\n",
    "\n",
    "import numpy as np\n",
    "import pandas as pd\n",
    "\n",
    "import gvar as gv\n",
    "import lsqfit\n",
    "\n",
    "from luescher_nd.database import utilities as ut\n",
    "from luescher_nd.database.utilities import DATA_FOLDER\n",
    "\n",
    "import seaborn as sns\n",
    "import matplotlib.pylab as plt\n",
    "import matplotlib\n",
    "\n",
    "from luescher_nd.plotting import styles\n",
    "from luescher_nd.plotting.styles import MARKERS"
   ]
  },
  {
   "cell_type": "code",
   "execution_count": null,
   "metadata": {},
   "outputs": [],
   "source": [
    "A1_WIDTH = 6.0"
   ]
  },
  {
   "cell_type": "code",
   "execution_count": null,
   "metadata": {},
   "outputs": [],
   "source": [
    "styles.setup(pgf=False)"
   ]
  },
  {
   "cell_type": "code",
   "execution_count": null,
   "metadata": {},
   "outputs": [],
   "source": [
    "matplotlib.use(\"pgf\")\n",
    "sns.set(\n",
    "    context=\"paper\",\n",
    "    style=\"ticks\",\n",
    "    font_scale=1/1.7,\n",
    "    rc={\n",
    "        # \"mathtext.fontset\": \"cm\",\n",
    "        \"pgf.rcfonts\": False,\n",
    "        \"axes.unicode_minus\": False,\n",
    "        \"font.serif\": [],\n",
    "        \"font.sans-serif\": [],\n",
    "    },\n",
    ")"
   ]
  },
  {
   "cell_type": "code",
   "execution_count": null,
   "metadata": {},
   "outputs": [],
   "source": [
    "%load_ext blackcellmagic"
   ]
  },
  {
   "cell_type": "code",
   "execution_count": null,
   "metadata": {},
   "outputs": [],
   "source": [
    "a_inv = 0.0\n",
    "L = 1.0"
   ]
  },
  {
   "cell_type": "code",
   "execution_count": null,
   "metadata": {},
   "outputs": [],
   "source": [
    "file_name = f\"contact-fitted_a-inv={a_inv:+1.1f}_zeta=spherical_projector=a1g_n-eigs=200.sqlite\"\n",
    "print(file_name)\n",
    "df = ut.read_table(\n",
    "    os.path.join(DATA_FOLDER, file_name),\n",
    "    zeta=\"spherical\",\n",
    "    round_digits=2,\n",
    "    filter_poles=True,\n",
    "    filter_by_nstates=False,\n",
    "    filter_degeneracy=True,\n",
    ").query(\"nlevel < 24 and n1d > 5\")[\n",
    "    [\"n1d\", \"epsilon\", \"nstep\", \"L\", \"x\", \"nlevel\", \"mass\", \"y\"]\n",
    "]\n",
    "df[\"L\"] = df.L.round(7)\n",
    "df.head()\n",
    "\n",
    "def nstep_label(nstep) -> str:\n",
    "    return \"$\" + (str(nstep) if nstep > 0 else r\"\\infty\") + \"$\"\n",
    "\n",
    "df[\"nstep_label\"] = df.nstep.apply(nstep_label)"
   ]
  },
  {
   "cell_type": "code",
   "execution_count": null,
   "metadata": {
    "scrolled": false
   },
   "outputs": [],
   "source": [
    "tf = (\n",
    "    df.loc[df.nlevel % 2 == 0]\n",
    "    .query(\"x < 20 and y < 5 and y > 0 and nstep != 1 and x > 0 and L ==1\")\n",
    "    .sort_values([\"epsilon\"], ascending=True)\n",
    ")\n",
    "\n",
    "grid = sns.FacetGrid(\n",
    "    data=tf,\n",
    "    col=\"nstep\",\n",
    "    row=\"nlevel\",\n",
    "    sharex=True,\n",
    "    sharey=True,\n",
    "    legend_out=True,\n",
    "    margin_titles=True,\n",
    "    col_order=[2, 4, -1],\n",
    "    row_order=np.sort(tf.nlevel.unique())[::-1],\n",
    "    aspect=3,\n",
    "    height=1.5,\n",
    ")\n",
    "\n",
    "\n",
    "grid.map(plt.plot, \"epsilon\", \"y\", ls=\"--\", lw=\"0.5\", marker=\".\", ms=1)\n",
    "[plt.setp(ax.texts, text=\"\") for ax in grid.axes.flat]\n",
    "\n",
    "for ax in grid.axes.flat:\n",
    "    ax.set_yscale(\"log\")\n",
    "    ax.set_xscale(\"log\", basex=2)\n",
    "\n",
    "grid.set_ylabels(r\"\")\n",
    "grid.set_xlabels(r\"\")\n",
    "grid.set_titles(\n",
    "    row_template=r\" \"*10 + r\"$E_{{{row_name}}}$\" + \" \"*10,\n",
    "    col_template=r\"$n_{{\\mathrm{{step}}}} = {col_name}$\",\n",
    ")\n",
    "\n",
    "plt.subplots_adjust(wspace=0.2, hspace=0.2)\n",
    "\n",
    "ratio = grid.fig.get_figheight() / grid.fig.get_figwidth()\n",
    "grid.fig.set_figheight(ratio * A1_WIDTH)\n",
    "grid.fig.set_figwidth(A1_WIDTH)\n",
    "\n",
    "grid.fig.text(\n",
    "    0.5,\n",
    "    0.5,\n",
    "    \"Preliminary\",\n",
    "    fontsize=60,\n",
    "    color=\"grey\",\n",
    "    ha=\"center\",\n",
    "    va=\"center\",\n",
    "    alpha=0.2,\n",
    "    rotation=30,\n",
    "    zorder=10,\n",
    ")\n",
    "\n",
    "grid.fig.text(\n",
    "    -0.05,\n",
    "    0.5,\n",
    "    \"$p \\cot(\\delta(p)) \\, [\\mathrm{fm}^{-1}]$\",\n",
    "    rotation=90,\n",
    "    va=\"baseline\",\n",
    "    ha=\"center\",\n",
    "    fontsize=8,\n",
    "    color=\"black\",\n",
    ")\n",
    "grid.fig.text(\n",
    "    0.5,\n",
    "    -0.00,\n",
    "    \"$\\epsilon [\\mathrm{fm}]$\",\n",
    "    va=\"top\",\n",
    "    ha=\"center\",\n",
    "    fontsize=8,\n",
    "    color=\"black\",\n",
    ")\n",
    "\n",
    "\n",
    "grid.fig.set_dpi(300)"
   ]
  },
  {
   "cell_type": "code",
   "execution_count": null,
   "metadata": {},
   "outputs": [],
   "source": [
    "grid.savefig(\"ere-continuum-extrapolation.pgf\", bbox_axes=\"tight\")"
   ]
  },
  {
   "cell_type": "code",
   "execution_count": null,
   "metadata": {},
   "outputs": [],
   "source": []
  }
 ],
 "metadata": {
  "kernelspec": {
   "display_name": "Python 3",
   "language": "python",
   "name": "python3"
  },
  "language_info": {
   "codemirror_mode": {
    "name": "ipython",
    "version": 3
   },
   "file_extension": ".py",
   "mimetype": "text/x-python",
   "name": "python",
   "nbconvert_exporter": "python",
   "pygments_lexer": "ipython3",
   "version": "3.7.3"
  }
 },
 "nbformat": 4,
 "nbformat_minor": 2
}
