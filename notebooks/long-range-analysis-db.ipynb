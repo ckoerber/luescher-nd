{
 "cells": [
  {
   "cell_type": "markdown",
   "metadata": {},
   "source": [
    "# Init"
   ]
  },
  {
   "cell_type": "code",
   "execution_count": null,
   "metadata": {},
   "outputs": [],
   "source": [
    "import os\n",
    "from itertools import product\n",
    "import re\n",
    "\n",
    "import numpy as np\n",
    "import pandas as pd\n",
    "\n",
    "import matplotlib.pylab as plt\n",
    "import seaborn as sns\n",
    "\n",
    "from tqdm import tqdm\n",
    "\n",
    "from luescher_nd.zeta.zeta3d import DispersionZeta3d\n",
    "from luescher_nd.zeta.extern.pyzeta import zeta\n",
    "\n",
    "from luescher_nd.hamiltonians.longrange import p_cot_delta\n",
    "\n",
    "from luescher_nd.database.connection import DatabaseSession\n",
    "from luescher_nd.database.tables import LongRangeEnergyEntry\n",
    "\n",
    "from luescher_nd.hamiltonians.longrange import HBARC, M0, MN, GBAR0, E0, GAMMA0\n",
    "\n",
    "MU0 = MN / 2"
   ]
  },
  {
   "cell_type": "code",
   "execution_count": null,
   "metadata": {},
   "outputs": [],
   "source": [
    "%load_ext blackcellmagic"
   ]
  },
  {
   "cell_type": "markdown",
   "metadata": {},
   "source": [
    "## Init Data"
   ]
  },
  {
   "cell_type": "code",
   "execution_count": null,
   "metadata": {},
   "outputs": [],
   "source": [
    "DATA = os.path.join(os.getcwd(), os.pardir, \"data\")\n",
    "\n",
    "DB = {}\n",
    "\n",
    "DB[\"iv-c-fitted\"] = os.path.abspath(os.path.join(DATA, \"db-lr-iv-c-fitted.sqlite\"))\n",
    "DB[\"iv-c-fixed\"] = os.path.abspath(os.path.join(DATA, \"db-lr-iv-c-fixed.sqlite\"))\n",
    "DB[\"fv-d-fitted\"] = os.path.abspath(os.path.join(DATA, \"db-lr-fv-d-fitted.sqlite\"))\n",
    "DB[\"fv-c-fitted\"] = os.path.abspath(os.path.join(DATA, \"db-lr-fv-c-fitted.sqlite\"))\n",
    "DB[\"fv-d-fitted-10M0\"] = os.path.abspath(os.path.join(DATA, \"db-lr-fv-d-fitted-10M0.sqlite\"))\n",
    "\n",
    "dfs = []\n",
    "\n",
    "for key, path in DB.items():\n",
    "    sess = DatabaseSession(path, commit=False)\n",
    "    df = pd.read_sql_table(\"long-range-energy\", sess.engine, index_col=\"id\")\n",
    "    df[\"type\"] = key\n",
    "    df[\"L\"] = df[\"n1d\"] * df[\"epsilon\"]\n",
    "    df[\"E [MeV]\"] = df[\"E\"] * HBARC\n",
    "    df[\"p2\"] = df[\"E\"] * 2 * MU0\n",
    "    df[\"nstep\"] = df[\"nstep\"].fillna(-1).astype(int)\n",
    "    df[\"x\"] = df[\"p2\"] / (2 * np.pi / df[\"L\"])**2\n",
    "    df = df.dropna()\n",
    "    \n",
    "    dfs.append(df)\n",
    "\n",
    "DF = pd.concat(dfs, ignore_index=True)\n",
    "DF.head()"
   ]
  },
  {
   "cell_type": "code",
   "execution_count": null,
   "metadata": {
    "scrolled": false
   },
   "outputs": [],
   "source": [
    "lattice_pars = [\"L\", \"epsilon\", \"nstep\"]\n",
    "cols = [col for col in DF.columns if col not in [\"dispersion\", \"spherical\"]]\n",
    "\n",
    "lattice_zetas = {}\n",
    "\n",
    "for L, n1d, nstep in tqdm(list(product(DF.L.unique(), DF.n1d.unique(), DF.nstep.unique()))):\n",
    "    epsilon = L / n1d\n",
    "    ind = (DF.L == L) & (DF.n1d == n1d) & (DF.nstep == nstep)\n",
    "    z = DispersionZeta3d(L, epsilon, nstep if nstep > 0 else None)\n",
    "    DF.loc[ind, \"dispersion\"] = z(DF.loc[ind, \"x\"].values) / np.pi / DF.loc[ind, \"L\"]\n",
    "\n",
    "DF.loc[DF.nstep == -1, \"nstep\"] = \"$\\infty$\"\n",
    "DF[\"nstep\"] = DF[\"nstep\"].astype(str)\n",
    "    \n",
    "print(\"-> Now computing spherical Lüscher results (also takes some time)\")\n",
    "DF[\"spherical\"] = zeta(DF.x.values) / np.pi / DF.L.values\n",
    "\n",
    "DF = pd.melt(DF, id_vars=cols, var_name=\"luescher\", value_name=\"y\")\n",
    "\n",
    "DF.head()"
   ]
  },
  {
   "cell_type": "markdown",
   "metadata": {},
   "source": [
    "## Helper functions"
   ]
  },
  {
   "cell_type": "code",
   "execution_count": null,
   "metadata": {},
   "outputs": [],
   "source": [
    "def plot_ere(*args, **kwargs):\n",
    "    \"\"\"Plots effective range expansion for data and analytic result.\n",
    "    \"\"\"\n",
    "    ax = plt.gca()\n",
    "    p2range = np.linspace(args[0].min(), args[0].max(), 100)\n",
    "    \n",
    "    ax.plot(*args, **kwargs)\n",
    "    ax.plot(\n",
    "        p2range,\n",
    "        p_cot_delta(np.sqrt(p2range+0j), GBAR0, MU0, M0).real,\n",
    "        label=\"Analytic\",\n",
    "        ls=\"-\",\n",
    "        color=\"black\",\n",
    "        zorder=-1,\n",
    "        lw=1,\n",
    "    )"
   ]
  },
  {
   "cell_type": "markdown",
   "metadata": {},
   "source": [
    "# Plots"
   ]
  },
  {
   "cell_type": "code",
   "execution_count": null,
   "metadata": {},
   "outputs": [],
   "source": [
    "print(\"options for type:\", DF.type.unique())\n",
    "print(\"options for nstep:\", DF.nstep.unique())"
   ]
  },
  {
   "cell_type": "markdown",
   "metadata": {},
   "source": [
    "What correspond to what:\n",
    "* `iv-c-fixed`: Parameters for finite volume lattice hamiltonian where chosen to be the same as in infinite volume continuum\n",
    "* `iv-c-fitted`: Parameters for finite volume lattice hamiltonian where fitted to reproduce infinite volume continuum boundstate\n",
    "* `fv-c-fitted`: Parameters for finite volume lattice hamiltonian where fitted to intersection of standard Lüscher intersection with analytic effective range expansion \n",
    "* `fv-d-fitted`: Parameters for finite volume lattice hamiltonian where fitted to intersection of dispersion Lüscher intersection with analytic effective range expansion \n",
    "* `fv-d-fitted-10M0`: Same as above with potential looking more like a delta function ($M = 10 M_0$).\n",
    "\n",
    "Change the query kwargs to produce different fits (run the next 3 cells)"
   ]
  },
  {
   "cell_type": "code",
   "execution_count": null,
   "metadata": {},
   "outputs": [],
   "source": [
    "query_kwargs = {\n",
    "    \"type\": \"'iv-c-fitted'\", # note the double quotations\n",
    "    \"nstep\": \"'$\\infty$'\"\n",
    "}\n",
    "col = \"$L$ [fm$^{-1}$]\"\n",
    "row = \"n1d\"\n",
    "hue = \"luescher\"\n",
    "x = \"$p^2$ [fm$^{-2}$]\"\n",
    "y = \"$p \\cot(\\delta_0(p))$ [fm$^{-1}$]\""
   ]
  },
  {
   "cell_type": "code",
   "execution_count": null,
   "metadata": {
    "scrolled": false
   },
   "outputs": [],
   "source": [
    "query = \" and \".join(f\"{key} == {val}\" for key, val in query_kwargs.items())\n",
    "query += \" and x > -5 and y < 2 and y > -2 and nstep != '1'\"\n",
    "query += \" and x > -5 and nstep != '1'\"\n",
    "query += \" and date > '2019-05-4 06:00:00.000' and date < '2019-05-05 15:00:00'\"\n",
    "\n",
    "df = DF.query(query).sort_values(\"x\")\n",
    "for key, val in {\n",
    "    \"y\": \"$p \\cot(\\delta_0(p))$ [fm$^{-1}$]\",\n",
    "    \"L\": \"$L$ [fm$^{-1}$]\",\n",
    "    \"p2\": \"$p^2$ [fm$^{-2}$]\",\n",
    "}.items():\n",
    "    df[val] = df[key]\n",
    "\n",
    "df = df[df.n1d % 10 == 0]\n"
   ]
  },
  {
   "cell_type": "code",
   "execution_count": null,
   "metadata": {
    "scrolled": false
   },
   "outputs": [],
   "source": [
    "grid = sns.FacetGrid(\n",
    "    data=df,\n",
    "    col=col,\n",
    "    hue=hue,\n",
    "    row=row,\n",
    "    sharex=True,\n",
    "    sharey=True,\n",
    "    legend_out=True,\n",
    "    hue_order={\"spherical\", \"dispersion\"},\n",
    ")\n",
    "\n",
    "grid.map(plot_ere, x, y, ms=1, lw=0.5, ls=\"--\", marker=\"s\")\n",
    "\n",
    "grid.fig.set_dpi(200)\n",
    "grid.fig.suptitle(\", \".join(f\"{key} = {val}\" for key, val in query_kwargs.items()), y=1.02)\n",
    "grid.add_legend(frameon=False)\n",
    "\n",
    "plt.show()"
   ]
  },
  {
   "cell_type": "code",
   "execution_count": null,
   "metadata": {},
   "outputs": [],
   "source": []
  }
 ],
 "metadata": {
  "kernelspec": {
   "display_name": "Python 3",
   "language": "python",
   "name": "python3"
  },
  "language_info": {
   "codemirror_mode": {
    "name": "ipython",
    "version": 3
   },
   "file_extension": ".py",
   "mimetype": "text/x-python",
   "name": "python",
   "nbconvert_exporter": "python",
   "pygments_lexer": "ipython3",
   "version": "3.7.3"
  }
 },
 "nbformat": 4,
 "nbformat_minor": 2
}
