{
 "cells": [
  {
   "cell_type": "markdown",
   "metadata": {},
   "source": [
    "# Init"
   ]
  },
  {
   "cell_type": "markdown",
   "metadata": {},
   "source": [
    "## Import"
   ]
  },
  {
   "cell_type": "code",
   "execution_count": null,
   "metadata": {},
   "outputs": [],
   "source": [
    "import os\n",
    "from itertools import product\n",
    "\n",
    "import pandas as pd\n",
    "import numpy as np\n",
    "from scipy.optimize import minimize_scalar\n",
    "\n",
    "import seaborn as sns\n",
    "import matplotlib.pylab as plt\n",
    "\n",
    "import lsqfit\n",
    "import gvar as gv\n",
    "\n",
    "from luescher_nd.database.utilities import read_table\n",
    "\n",
    "from luescher_nd.zeta.extern.pyzeta import zeta\n",
    "from luescher_nd.zeta.zeta3d import Zeta3D "
   ]
  },
  {
   "cell_type": "code",
   "execution_count": null,
   "metadata": {},
   "outputs": [],
   "source": [
    "%load_ext blackcellmagic"
   ]
  },
  {
   "cell_type": "markdown",
   "metadata": {},
   "source": [
    "## Data"
   ]
  },
  {
   "cell_type": "code",
   "execution_count": null,
   "metadata": {},
   "outputs": [],
   "source": [
    "DATA = os.path.join(os.getcwd(), os.pardir, \"data\")"
   ]
  },
  {
   "cell_type": "code",
   "execution_count": null,
   "metadata": {},
   "outputs": [],
   "source": [
    "DB_NAME = \"db-contact-fv-c-fitted-parity-a-inv.sqlite\"\n",
    "\n",
    "df_cc = read_table(\n",
    "    os.path.join(DATA, DB_NAME.replace(\"fv-c\", \"fv-c-cartesian\")),\n",
    "    dispersion_zeta=False,\n",
    "    round_digits=1,\n",
    "    filter_poles=True,\n",
    ")\n",
    "\n",
    "df_c = read_table(\n",
    "    os.path.join(DATA, DB_NAME),\n",
    "    dispersion_zeta=False,\n",
    "    round_digits=1,\n",
    "    filter_poles=True,\n",
    ")\n",
    "df_d = read_table(\n",
    "    os.path.join(DATA, DB_NAME.replace(\"fv-c\", \"fv-d\")),\n",
    "    dispersion_zeta=True,\n",
    "    round_digits=1,\n",
    "    filter_poles=True,\n",
    ")\n",
    "df_cd = read_table(\n",
    "    os.path.join(DATA, DB_NAME),\n",
    "    dispersion_zeta=True,\n",
    "    round_digits=1,\n",
    "    filter_poles=True,\n",
    ")\n",
    "\n",
    "df_c[\"type\"] = \"Regular Lüscher\"\n",
    "df_d[\"type\"] = \"Dispersion Lüscher\"\n",
    "df_cd[\"type\"] = \"RL fit, DL ERE\"\n",
    "df_cc[\"type\"] = \"Cartesian Lüscher\"\n",
    "\n",
    "df = df_c.append(df_d, ignore_index=True)\n",
    "df = df.append(df_cd, ignore_index=True)\n",
    "df = df.append(df_cc, ignore_index=True)\n",
    "\n",
    "df.head()\n"
   ]
  },
  {
   "cell_type": "markdown",
   "metadata": {},
   "source": [
    "## Find the poles of the zeta function"
   ]
  },
  {
   "cell_type": "code",
   "execution_count": null,
   "metadata": {},
   "outputs": [],
   "source": [
    "poles = np.unique(\n",
    "    (np.array(np.meshgrid(*[np.arange(10)] * 3)) ** 2).sum(axis=0).flatten()\n",
    ")\n",
    "poles = np.append([-10], poles)\n",
    "\n",
    "zeros = []\n",
    "\n",
    "L = 1.0\n",
    "a_inv = -5\n",
    "\n",
    "for x_start, x_end in zip(poles, np.roll(poles, -1)[:-1]):\n",
    "    if x_end > 30:\n",
    "        continue\n",
    "\n",
    "    res = minimize_scalar(\n",
    "        lambda x: (a_inv - zeta(x) / np.pi / L) ** 2,\n",
    "        bounds=(x_start + 0.1, x_end - 0.1),\n",
    "        method=\"bounded\",\n",
    "        options={\"xatol\": 1.0e-12},\n",
    "    )\n",
    "    zeros.append(res.x[0])\n",
    "\n",
    "zeros = np.array(zeros)\n"
   ]
  },
  {
   "cell_type": "code",
   "execution_count": null,
   "metadata": {},
   "outputs": [],
   "source": [
    "fig, ax = plt.subplots(figsize=(3, 2), dpi=300)\n",
    "\n",
    "z = Zeta3D(N=200, spherical=False)\n",
    "#z = zeta\n",
    "\n",
    "for x_start, x_end in zip(poles, np.roll(poles, -1)[:-1]):\n",
    "    if x_end > 20:\n",
    "        break\n",
    "    x = np.linspace(x_start+0.01, x_end-0.01, 300)\n",
    "    ax.plot(x, z(x)/np.pi/L, c=\"blue\", ls=\"--\", lw=1)\n",
    "\n",
    "ax.axhline(a_inv, ls=\"-\", lw=1, color=\"black\", zorder=-1)\n",
    "for zero in zeros:\n",
    "    ax.plot(zero, zeta(zero)/np.pi/L, marker=\"o\", ms=2, color=\"black\")\n",
    "    \n",
    "ax.set_ylim(-10, 10)\n",
    "ax.set_xlim(-2, 10)\n",
    "\n",
    "ax.set_ylabel(\"$p \\cot(\\delta_0(p))$ [fm$^{-1}$]\", fontsize=8)\n",
    "ax.set_xlabel(r\"$x = \\left(\\frac{p L}{2 \\pi}\\right)^2$\", fontsize=8)\n",
    "ax.set_title(\"$L = 1$ [fm]\", fontsize=6)\n",
    "\n",
    "sns.despine()\n",
    "\n",
    "plt.show()"
   ]
  },
  {
   "cell_type": "raw",
   "metadata": {},
   "source": [
    "fig.savefig(\"zeta-contact-finite-scattering.jpg\", bbox_inches=\"tight\")"
   ]
  },
  {
   "cell_type": "markdown",
   "metadata": {},
   "source": [
    "# Analysis"
   ]
  },
  {
   "cell_type": "markdown",
   "metadata": {},
   "source": [
    "## Convergence pattern"
   ]
  },
  {
   "cell_type": "code",
   "execution_count": null,
   "metadata": {
    "scrolled": false
   },
   "outputs": [],
   "source": [
    "nstep = '1'\n",
    "dff = df.query(\"L == @L and nstep == '1' and epsilon < 0.1\")\n",
    "\n",
    "e_inf = zeros * (2 * np.pi / L) ** 2 / 2 / (dff.mass.unique()[0] / 2)\n",
    "\n",
    "nlevels = dff.nlevel.unique()[:9]"
   ]
  },
  {
   "cell_type": "code",
   "execution_count": null,
   "metadata": {
    "scrolled": false
   },
   "outputs": [],
   "source": [
    "data = []\n",
    "fits = {}\n",
    "\n",
    "\n",
    "def polynomial(epsilon, p):\n",
    "    out = 0\n",
    "    for n in range(len(p.keys())):\n",
    "        out += p[f\"x{n}\"] * epsilon ** (2 * n)\n",
    "    return out\n",
    "\n",
    "\n",
    "class FitArgs:\n",
    "    def __init__(self, data, fcn, nexp=2):\n",
    "        self.data = data\n",
    "        self.fcn = fcn\n",
    "        self.nexp = nexp\n",
    "        \n",
    "    def __call__(self, width):\n",
    "        prior = {\"x0\": gv.gvar(self.data[0][0],  np.exp(width))}\n",
    "        prior.update({f\"x{n}\": gv.gvar(0, 5 * 2 ** n * np.exp(width)) for n in range(1, nexp)})\n",
    "        return {\"prior\": prior, \"fcn\": self.fcn, \"data\": self.data, \"svdcut\": 1.e-13}\n",
    "\n",
    "\n",
    "num_error = 1.0e-8\n",
    "\n",
    "for nexp in range(2, 3):\n",
    "    for key in [\"Dispersion Lüscher\", \"Regular Lüscher\", \"Cartesian Lüscher\"]:\n",
    "        tf = dff.query(\"type == @key\")\n",
    "        for nzero, nlevel in enumerate(nlevels):\n",
    "            epsilon, x = tf.query(\"nlevel == @nlevel\")[[\"epsilon\", \"x\"]].values.T\n",
    "\n",
    "            if len(epsilon) < 2:\n",
    "                continue\n",
    "\n",
    "            x = gv.gvar(x, [num_error*np.random.uniform(0.5, 1.5) for _ in x])\n",
    "\n",
    "            fit_args = FitArgs(data=(epsilon, x), fcn=polynomial, nexp=nexp)\n",
    "\n",
    "            fit = lsqfit.nonlinear_fit(**fit_args(4))\n",
    "\n",
    "            data.append(\n",
    "                {\n",
    "                    \"x_fit\": fit.p[\"x0\"],\n",
    "                    \"x_luescher\": zeros[nzero],\n",
    "                    \"nexp\": nexp,\n",
    "                    \"logGBF\": fit.logGBF,\n",
    "                    \"chi2/dof\": fit.chi2 / fit.dof,\n",
    "                    \"nlevel\": nlevel,\n",
    "                    \"type\": key,\n",
    "                    #\"p_width\": width,\n",
    "                }\n",
    "            )\n",
    "\n",
    "            fits[(nlevel, key, nexp)] = fit\n",
    "\n",
    "fit_frame = pd.DataFrame(data)\n",
    "\n",
    "fit_frame[\"delta_x\"] = (fit_frame[\"x_luescher\"] - fit_frame[\"x_fit\"]) / fit_frame[\n",
    "    \"x_luescher\"\n",
    "]\n",
    "\n",
    "fit_frame.head()\n"
   ]
  },
  {
   "cell_type": "code",
   "execution_count": null,
   "metadata": {},
   "outputs": [],
   "source": [
    "idx = fit_frame.groupby([\"nlevel\", \"type\"])[\"logGBF\"].transform(max) == fit_frame['logGBF']\n",
    "opt_fit_frame = fit_frame[idx].sort_values([\"nlevel\", \"type\"])\n",
    "\n",
    "print(opt_fit_frame.nexp.unique())\n",
    "\n",
    "opt_fit_frame.head()"
   ]
  },
  {
   "cell_type": "code",
   "execution_count": null,
   "metadata": {
    "scrolled": false
   },
   "outputs": [],
   "source": [
    "fig, axs = plt.subplots(figsize=(6, 2), dpi=250, ncols=3, sharex=True, sharey=True)\n",
    "\n",
    "for ax, key in zip(axs, [\"Dispersion Lüscher\", \"Regular Lüscher\", \"Cartesian Lüscher\"]):\n",
    "    tf = dff.query(\"type == @key\")\n",
    "    for nzero, nlevel in enumerate(nlevels):\n",
    "        x, energy = tf.query(\"nlevel == @nlevel\")[[\"epsilon\", \"x\"]].values.T\n",
    "\n",
    "        if len(x) < 2:\n",
    "            continue\n",
    "\n",
    "        color = ax.plot(x, energy, ls=\"None\", marker=\"o\", ms=2, label=f\"{nlevel}\")[\n",
    "            0\n",
    "        ].get_color()\n",
    "\n",
    "        \n",
    "\n",
    "        best_fit_data = opt_fit_frame.query(\n",
    "            \"type == @key and nlevel == @nlevel\"\n",
    "        ).to_dict(\"records\")[0]\n",
    "        best_fit = fits[(nlevel, key, best_fit_data[\"nexp\"])]\n",
    "\n",
    "        x_cont = np.linspace(-0.01, x.max() * 1.5, 100)\n",
    "        y_fit = best_fit.fcn(x_cont, best_fit.p)\n",
    "\n",
    "        ax.fill_between(\n",
    "            x_cont,\n",
    "            gv.mean(y_fit) - gv.sdev(y_fit),\n",
    "            gv.mean(y_fit) + gv.sdev(y_fit),\n",
    "            alpha=0.2,\n",
    "            color=color,\n",
    "            lw=0,\n",
    "        )\n",
    "        ax.plot(\n",
    "            x_cont,\n",
    "            gv.mean(y_fit),\n",
    "            color=color,\n",
    "            lw=0.5,\n",
    "            # , $\\chi^2 = {fit.chi2/fit.dof:1.2f}$, $\\log(GBF) = {fit.logGBF:1.2f}$\",\n",
    "        )\n",
    "        ax.plot(0, zeros[nzero], color=color, marker=\"s\", ms=1)\n",
    "\n",
    "    ax.axvline(0, color=\"black\", zorder=-1, lw=0.5)\n",
    "\n",
    "    # ax.set_yticks(range(0, 11, 1))\n",
    "    ax.set_ylim(-1, 12)\n",
    "    ax.set_title(f\"type = {key}\", fontsize=8)\n",
    "\n",
    "    for zero in zeros:\n",
    "        if zero > 10:\n",
    "            break\n",
    "        ax.plot(0, zero, marker=\"s\", color=\"black\", ms=1, zorder=-1)\n",
    "\n",
    "axs[0].set_ylabel(\"$x$\")\n",
    "axs[0].set_xlabel(\"$\\epsilon$ [fm]\")\n",
    "axs[-1].legend(\n",
    "    loc=\"upper left\",\n",
    "    fontsize=6,\n",
    "    frameon=False,\n",
    "    bbox_to_anchor=(1.0, 1.0),\n",
    "    title=\"nlevel\",\n",
    ")\n",
    "sns.despine()\n",
    "\n",
    "fig.suptitle(\n",
    "    rf\"L = {L}, nstep = {nstep}, $x(\\epsilon) = \\sum_{{n=0}}^{{n_\\exp=3,4}} a_n \\epsilon^{{2n}}$\",\n",
    "    y=1.15,\n",
    "    fontsize=8,\n",
    ")\n",
    "\n",
    "plt.show()\n"
   ]
  },
  {
   "cell_type": "raw",
   "metadata": {},
   "source": [
    "fig.savefig(\"continuum-limit.jpg\", bbox_inches=\"tight\")"
   ]
  },
  {
   "cell_type": "markdown",
   "metadata": {},
   "source": [
    "## Difference plot"
   ]
  },
  {
   "cell_type": "code",
   "execution_count": null,
   "metadata": {
    "scrolled": false
   },
   "outputs": [],
   "source": [
    "tmp = opt_fit_frame.copy()\n",
    "\n",
    "mean_title = \"$x_{\\mathrm{RL}} - x_{\\mathrm{fit}}$ [%]\"\n",
    "\n",
    "tmp[mean_title] = gv.mean(tmp[\"delta_x\"].values * 100)\n",
    "tmp[\"dx_sdev\"] = gv.sdev(tmp[\"delta_x\"].values * 100)\n",
    "\n",
    "fig, axs = plt.subplots(dpi=200, figsize=(3, 2), nrows=2, sharex=True)\n",
    "\n",
    "ax = axs[1]\n",
    "\n",
    "for key in tmp[\"type\"].unique():\n",
    "    tf = tmp.query(\"type == @key and nlevel > 0\")\n",
    "    axs[1].errorbar(\n",
    "        np.arange(len(tf[\"nlevel\"])),\n",
    "        tf[mean_title],\n",
    "        tf[\"dx_sdev\"],\n",
    "        ls=\"None\",\n",
    "        elinewidth=1,\n",
    "        capsize=2,\n",
    "        label=key\n",
    "    )\n",
    "    axs[0].plot(\n",
    "        np.arange(len(tf[\"nlevel\"])), tf[\"chi2/dof\"], ls=\"None\", marker=\"o\", ms=2\n",
    "    )\n",
    "\n",
    "axs[1].set_yscale(\"log\")\n",
    "axs[0].set_yscale(\"log\")\n",
    "axs[0].set_ylim(1.e-6, 1.e6)\n",
    "#axs[1].set_ylim(1.e-3, 3.e0)\n",
    "\n",
    "ax.legend(\n",
    "    title=r\"Type\", fontsize=6, frameon=False, loc=\"upper left\", bbox_to_anchor=(1, 1.8)\n",
    ")\n",
    "\n",
    "\n",
    "sns.despine()\n",
    "\n",
    "axs[1].set_ylabel(mean_title, fontsize=6)\n",
    "axs[0].set_ylabel(r\"$\\chi^2/\\mathrm{dof}$\", fontsize=6)\n",
    "axs[1].set_xlabel(\"nlevel\")\n",
    "ax.set_xticks([])\n",
    "\n",
    "fig.suptitle(\n",
    "    rf\"L = {L}, nstep = {nstep}, $x(\\epsilon) = \\sum_{{n=0}}^{{n_\\exp=3,4}} a_n \\epsilon^{{2n}}$\",\n",
    "    y=1.15,\n",
    "    fontsize=8,\n",
    ")\n",
    "\n",
    "plt.show()\n"
   ]
  },
  {
   "cell_type": "raw",
   "metadata": {},
   "source": [
    "fig.savefig(\"figs/best-fit-comparison.jpg\", bbox_inches=\"tight\")"
   ]
  },
  {
   "cell_type": "code",
   "execution_count": null,
   "metadata": {},
   "outputs": [],
   "source": [
    "def get_errs(x, z, y_shift = 5):\n",
    "    x_mean = gv.mean(x)\n",
    "    y_mean = z(x_mean)/ np.pi + y_shift\n",
    "    x_lower = x_mean - gv.sdev(x)\n",
    "    x_upper = x_mean + gv.sdev(x)\n",
    "    y_lower = z(x_lower)/ np.pi\n",
    "    y_upper = z(x_upper)/ np.pi\n",
    "    return x_mean, np.abs(y_mean)#, (y_mean-y_lower, y_upper-y_mean), (x_mean-x_lower, x_upper-x_mean), \n",
    "    \n",
    "    "
   ]
  },
  {
   "cell_type": "code",
   "execution_count": null,
   "metadata": {
    "scrolled": false
   },
   "outputs": [],
   "source": [
    "fig, ax = plt.subplots(dpi=200, figsize=(3, 2), nrows=1, sharex=True)\n",
    "\n",
    "markers = {\"Cartesian Lüscher\": \"s\", \"Dispersion Lüscher\": \"d\", \"Regular Lüscher\": \"o\"}\n",
    "\n",
    "for key in tmp[\"type\"].unique():\n",
    "    tf = tmp.query(\"type == @key and x_luescher > 0\")\n",
    "    x, y = get_errs(tf.x_fit.values, z)\n",
    "    ax.plot(\n",
    "        x, y,\n",
    "        ls=\"--\",\n",
    "        marker=markers[key],\n",
    "        label=key,\n",
    "        ms=2,\n",
    "        lw=.5,\n",
    "        #elinewidth=.5,\n",
    "        #capsize=2,\n",
    "    )\n",
    "    \n",
    "#ax.axhline(0, color=\"black\", zorder=-1, label=\"Input\", lw=1)\n",
    "\n",
    "\n",
    "ax.legend(\n",
    "    title=r\"Type\", fontsize=6, frameon=False, loc=\"upper left\", bbox_to_anchor=(1, 1)\n",
    ")\n",
    "\n",
    "\n",
    "sns.despine()\n",
    "\n",
    "ax.set_ylabel(r\"$\\left|p \\cot(\\delta_0(p)) + \\frac{1}{a_0}\\right|$ [fm$^{-1}$]\", fontsize=8)\n",
    "ax.set_xlabel(r\"$x = \\left(\\frac{p L}{2 \\pi}\\right)^2$\", fontsize=8)\n",
    "\n",
    "fig.suptitle(\n",
    "    rf\"L = {L}, nstep = {nstep}, $x(\\epsilon) = \\sum_{{n=0}}^{{n_\\exp=3,4}} a_n \\epsilon^{{2n}}$\",\n",
    "    y=1.15,\n",
    "    fontsize=8,\n",
    ")\n",
    "\n",
    "ax.set_yscale(\"log\")\n",
    "ax.set_xscale(\"log\")\n",
    "\n",
    "#ax.set_ylim(1.e-10, 1.e1)\n",
    "#ax.set_xlim(1.e-3, 1.e1)\n",
    "\n",
    "\n",
    "plt.show(fig)"
   ]
  },
  {
   "cell_type": "raw",
   "metadata": {},
   "source": [
    "fig.savefig(\"fit-to-ERE.jpg\", bbox_inches=\"tight\")"
   ]
  },
  {
   "cell_type": "code",
   "execution_count": null,
   "metadata": {},
   "outputs": [],
   "source": []
  }
 ],
 "metadata": {
  "kernelspec": {
   "display_name": "Python 3",
   "language": "python",
   "name": "python3"
  },
  "language_info": {
   "codemirror_mode": {
    "name": "ipython",
    "version": 3
   },
   "file_extension": ".py",
   "mimetype": "text/x-python",
   "name": "python",
   "nbconvert_exporter": "python",
   "pygments_lexer": "ipython3",
   "version": "3.7.3"
  }
 },
 "nbformat": 4,
 "nbformat_minor": 2
}
