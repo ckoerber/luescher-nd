{
 "cells": [
  {
   "cell_type": "markdown",
   "metadata": {},
   "source": [
    "# Init"
   ]
  },
  {
   "cell_type": "code",
   "execution_count": null,
   "metadata": {},
   "outputs": [],
   "source": [
    "import matplotlib.pylab as plt\n",
    "\n",
    "import numpy as np\n",
    "import pandas as pd\n",
    "import seaborn as sns\n",
    "\n",
    "from luescher_nd.zeta.zeta2d import Zeta2D"
   ]
  },
  {
   "cell_type": "code",
   "execution_count": null,
   "metadata": {},
   "outputs": [],
   "source": [
    "%load_ext blackcellmagic"
   ]
  },
  {
   "cell_type": "markdown",
   "metadata": {},
   "source": [
    "# Comparison with Tom"
   ]
  },
  {
   "cell_type": "markdown",
   "metadata": {},
   "source": [
    "Init the zeta functions"
   ]
  },
  {
   "cell_type": "code",
   "execution_count": null,
   "metadata": {},
   "outputs": [],
   "source": [
    "N = 40\n",
    "z_spherical = Zeta2D(N, spherical=True)\n",
    "z_cartesian = Zeta2D(N, spherical=False)"
   ]
  },
  {
   "cell_type": "markdown",
   "metadata": {},
   "source": [
    "Plot to compare with Tom"
   ]
  },
  {
   "cell_type": "code",
   "execution_count": null,
   "metadata": {},
   "outputs": [],
   "source": [
    "fig, ax = plt.subplots(figsize=(3,2), dpi=200)\n",
    "\n",
    "tol = 40.0\n",
    "\n",
    "x = np.linspace(-4, 10, 1002)\n",
    "\n",
    "for z, key in zip([z_spherical, z_cartesian], [\"spherical\", \"cartesian\"]):\n",
    "    y = z(x)\n",
    "    y[y>tol] = np.inf\n",
    "    y[y<-tol] = -np.inf\n",
    "\n",
    "    ax.plot(x, y, ls=\"--\", label=key)\n",
    "\n",
    "    ax.axhline(0, color=\"black\", lw=.5, ls=\"-\", zorder=-1)\n",
    "    ax.axvline(0, color=\"black\", lw=.5, ls=\"-\", zorder=-1)\n",
    "\n",
    "sns.despine()\n",
    "\n",
    "ax.legend(loc=\"upper left\", bbox_to_anchor=(1,1), frameon=False)\n",
    "\n",
    "ax.set_ylim(-20, 20)\n",
    "ax.set_xlim(-4, 10)\n",
    "\n",
    "ax.set_xlabel(\"$x$\")\n",
    "ax.set_ylabel(\"$S_2(x)$\")\n",
    "\n",
    "ax.set_title(f\"$N={N}$\", fontsize=10)\n",
    "\n",
    "plt.show()"
   ]
  },
  {
   "cell_type": "code",
   "execution_count": null,
   "metadata": {},
   "outputs": [],
   "source": [
    "fig.savefig(\"figs/zeta-2d.jpg\", bbox_inches=\"tight\")"
   ]
  },
  {
   "cell_type": "markdown",
   "metadata": {},
   "source": [
    "## ERE"
   ]
  },
  {
   "cell_type": "markdown",
   "metadata": {},
   "source": [
    "Computation of Effective range expansion"
   ]
  },
  {
   "cell_type": "code",
   "execution_count": null,
   "metadata": {},
   "outputs": [],
   "source": [
    "from scipy.optimize import minimize_scalar"
   ]
  },
  {
   "cell_type": "markdown",
   "metadata": {},
   "source": [
    "Assume fixed scattering length and box volume to solve Tom's equation (26)"
   ]
  },
  {
   "cell_type": "code",
   "execution_count": null,
   "metadata": {},
   "outputs": [],
   "source": [
    "a0 = 1.0\n",
    "L = 1.0\n",
    "\n",
    "lhs = 2 * np.pi * np.log(2 * np.pi * a0 / L) "
   ]
  },
  {
   "cell_type": "code",
   "execution_count": null,
   "metadata": {},
   "outputs": [],
   "source": [
    "class MinKernel:\n",
    "    def __init__(self, val, func):\n",
    "        self.val = val\n",
    "        self.func = func\n",
    "        \n",
    "    def chi2(self, x):\n",
    "        return (self.val - self.func(x))**2"
   ]
  },
  {
   "cell_type": "markdown",
   "metadata": {},
   "source": [
    "Exactly extrac the ground state by finding the intersections between zeta and $\\cot(\\delta_o(x))$ (is it the ground state though?)"
   ]
  },
  {
   "cell_type": "code",
   "execution_count": null,
   "metadata": {},
   "outputs": [],
   "source": [
    "kernel_spherical = MinKernel(lhs, z_spherical)\n",
    "kernel_cartesian = MinKernel(lhs, z_cartesian)\n",
    "\n",
    "x0_spherical = minimize_scalar(kernel_spherical.chi2, bracket=(0, 0.5), tol=1.e-12).x[0]\n",
    "x0_cartesian = minimize_scalar(kernel_cartesian.chi2, bracket=(0, 0.5), tol=1.e-12).x[0]"
   ]
  },
  {
   "cell_type": "code",
   "execution_count": null,
   "metadata": {},
   "outputs": [],
   "source": [
    "def ere(y, x):\n",
    "    return y / np.pi**2 + 1 / np.pi * np.log(x)"
   ]
  },
  {
   "cell_type": "markdown",
   "metadata": {},
   "source": [
    "Plot intersection"
   ]
  },
  {
   "cell_type": "code",
   "execution_count": null,
   "metadata": {},
   "outputs": [],
   "source": [
    "fig, ax = plt.subplots(figsize=(3, 2), dpi=200)\n",
    "\n",
    "tol = 80.0\n",
    "x = np.linspace(0, 10, 1002)\n",
    "\n",
    "for z, key in zip([z_spherical, z_cartesian], [\"spherical\", \"cartesian\"]):\n",
    "    y = z(x)\n",
    "    y[y > tol] = np.inf\n",
    "    y[y < -tol] = -np.inf\n",
    "\n",
    "    ax.plot(x, ere(y, x), ls=\"--\", label=key)\n",
    "\n",
    "    ax.axhline(0, color=\"black\", lw=0.5, ls=\"-\", zorder=-1)\n",
    "    ax.axvline(0, color=\"black\", lw=0.5, ls=\"-\", zorder=-1)\n",
    "\n",
    "ax.plot(\n",
    "    x0_spherical,\n",
    "    ere(z_spherical(x0_spherical), x0_spherical),\n",
    "    marker=\"o\",\n",
    "    ms=2,\n",
    "    color=\"black\",\n",
    "    zorder=2,\n",
    ")\n",
    "ax.plot(\n",
    "    x0_cartesian,\n",
    "    ere(z_cartesian(x0_cartesian), x0_cartesian),\n",
    "    marker=\"o\",\n",
    "    ms=2,\n",
    "    color=\"black\",\n",
    "    zorder=2,\n",
    ")\n",
    "\n",
    "sns.despine()\n",
    "\n",
    "ax.plot(\n",
    "    x,\n",
    "    2 / np.pi * np.log(a0 * 2 * np.pi * np.sqrt(x) / L),\n",
    "    color=\"green\",\n",
    "    ls=\"-\",\n",
    "    lw=\"1\",\n",
    "    label=\"Analytic\",\n",
    ")\n",
    "\n",
    "ax.legend(loc=\"upper left\", bbox_to_anchor=(1, 1), frameon=False)\n",
    "\n",
    "ax.set_ylim(-5, 5)\n",
    "ax.set_xlim(0, 10)\n",
    "\n",
    "ax.set_xlabel(\"$x$\")\n",
    "ax.set_ylabel(\"$\\cot(\\delta_0(x))$\")\n",
    "\n",
    "plt.show()\n"
   ]
  },
  {
   "cell_type": "markdown",
   "metadata": {},
   "source": [
    "# Fit FV discrete Hamiltonian to ground state"
   ]
  },
  {
   "cell_type": "code",
   "execution_count": null,
   "metadata": {},
   "outputs": [],
   "source": [
    "from luescher_nd.hamiltonians.contact import MomentumContactHamiltonian\n",
    "from luescher_nd.operators import get_parity_projector\n",
    "\n",
    "from scipy.sparse.linalg import eigsh"
   ]
  },
  {
   "cell_type": "code",
   "execution_count": null,
   "metadata": {},
   "outputs": [],
   "source": [
    "n1d = 20\n",
    "epsilon = L / n1d\n",
    "ndim = 2\n",
    "nstep = None\n",
    "mass = 4.758\n",
    "mu = mass / 2\n",
    "\n",
    "p_minus = get_parity_projector(n1d, ndim, positive=False)\n",
    "\n",
    "def get_first_state(contact_strength):\n",
    "\n",
    "    eigs = np.sort(eigsh(MomentumContactHamiltonian(\n",
    "        contact_strength=-np.exp(contact_strength),\n",
    "        n1d=n1d,\n",
    "        epsilon=epsilon,\n",
    "        mass=mass,\n",
    "        ndim=ndim,\n",
    "        nstep=nstep,\n",
    "        filter_out=p_minus,\n",
    "        filter_cutoff=1.0e2,\n",
    "    ).op, return_eigenvectors=False, k=5, which=\"SA\"))\n",
    "    return eigs[1]"
   ]
  },
  {
   "cell_type": "markdown",
   "metadata": {},
   "source": [
    "Note that I do not fit the ground state but the first excited state ($x>0$)."
   ]
  },
  {
   "cell_type": "code",
   "execution_count": null,
   "metadata": {
    "scrolled": false
   },
   "outputs": [],
   "source": [
    "contact_fitter_spherical = MinKernel(\n",
    "    x0_spherical * (2 * np.pi / L) ** 2 / 2 / mu, get_first_state\n",
    ")\n",
    "contact_fitter_cartesian = MinKernel(\n",
    "    x0_cartesian * (2 * np.pi / L) ** 2 / 2 / mu, get_first_state\n",
    ")\n",
    "\n",
    "c0_spherical = minimize_scalar(contact_fitter_spherical.chi2, tol=1.e-12).x\n",
    "c0_cartesian = minimize_scalar(contact_fitter_cartesian.chi2, tol=1.e-12).x"
   ]
  },
  {
   "cell_type": "markdown",
   "metadata": {},
   "source": [
    "# Plot computed ERE"
   ]
  },
  {
   "cell_type": "markdown",
   "metadata": {},
   "source": [
    "get spectrum"
   ]
  },
  {
   "cell_type": "code",
   "execution_count": null,
   "metadata": {},
   "outputs": [],
   "source": [
    "h_spherical = MomentumContactHamiltonian(\n",
    "        contact_strength=-np.exp(c0_spherical),\n",
    "        n1d=n1d,\n",
    "        epsilon=epsilon,\n",
    "        mass=mass,\n",
    "        ndim=ndim,\n",
    "        nstep=nstep,\n",
    "        filter_out=p_minus,\n",
    "        filter_cutoff=1.0e2,\n",
    "    )\n",
    "h_cartesian = MomentumContactHamiltonian(\n",
    "        contact_strength=-np.exp(c0_cartesian),\n",
    "        n1d=n1d,\n",
    "        epsilon=epsilon,\n",
    "        mass=mass,\n",
    "        ndim=ndim,\n",
    "        nstep=nstep,\n",
    "        filter_out=p_minus,\n",
    "        filter_cutoff=1.0e2,\n",
    "    )\n",
    "\n",
    "eigs_spherical = eigsh(h_spherical.op, return_eigenvectors=False, k=20, which=\"SA\")\n",
    "eigs_caresian = eigsh(h_cartesian.op, return_eigenvectors=False, k=20, which=\"SA\")"
   ]
  },
  {
   "cell_type": "code",
   "execution_count": null,
   "metadata": {},
   "outputs": [],
   "source": [
    "x_spherical = np.sort(eigs_spherical) * 2 * mu * L**2 / 4 / np.pi**2\n",
    "x_cartesian = np.sort(eigs_caresian) * 2 * mu * L**2 / 4 / np.pi**2"
   ]
  },
  {
   "cell_type": "code",
   "execution_count": null,
   "metadata": {},
   "outputs": [],
   "source": [
    "fig, ax = plt.subplots(figsize=(3, 2), dpi=200)\n",
    "\n",
    "tol = 80.0\n",
    "x = np.linspace(0, 10, 1002)\n",
    "\n",
    "for z, key in zip([z_spherical, z_cartesian], [\"spherical\", \"cartesian\"]):\n",
    "    y = z(x)\n",
    "    y[y > tol] = np.inf\n",
    "    y[y < -tol] = -np.inf\n",
    "\n",
    "    ax.plot(x, ere(y, x), ls=\"--\")\n",
    "\n",
    "    ax.axhline(0, color=\"black\", lw=0.5, ls=\"-\", zorder=-1)\n",
    "    ax.axvline(0, color=\"black\", lw=0.5, ls=\"-\", zorder=-1)\n",
    "\n",
    "ax.plot(\n",
    "    x_spherical,\n",
    "    ere(z_spherical(x_spherical), x_spherical),\n",
    "    marker=\"o\",\n",
    "    ms=2,\n",
    "    ls=\"None\",\n",
    "    color=\"black\",\n",
    "    zorder=2,\n",
    "    label=\"Spectrum Spherical\"\n",
    ")\n",
    "ax.plot(\n",
    "    x_cartesian,\n",
    "    ere(z_cartesian(x_cartesian), x_cartesian),\n",
    "    marker=\"s\",\n",
    "    ms=2,\n",
    "    ls=\"None\",\n",
    "    color=\"black\",\n",
    "    zorder=2,\n",
    "    label=\"Spectrum Cartesian\"\n",
    ")\n",
    "\n",
    "sns.despine()\n",
    "\n",
    "ax.plot(\n",
    "    x,\n",
    "    2 / np.pi * np.log(a0 * 2 * np.pi * np.sqrt(x) / L),\n",
    "    color=\"green\",\n",
    "    ls=\"-\",\n",
    "    lw=\"1\",\n",
    "    label=\"Analytic\",\n",
    "    zorder=1\n",
    ")\n",
    "\n",
    "ax.legend(loc=\"upper left\", bbox_to_anchor=(1, 1), frameon=False)\n",
    "\n",
    "ax.set_ylim(-5, 5)\n",
    "ax.set_xlim(0, 10)\n",
    "\n",
    "ax.set_xlabel(\"$x$\")\n",
    "ax.set_ylabel(\"$\\cot(\\delta_0(x))$\")\n",
    "\n",
    "ax.set_title(f\"$\\epsilon = {epsilon}$ [fm], $L = {L}$ [fm], $a_0 = {a0}$ [fm]\", fontsize=8)\n",
    "\n",
    "plt.show()\n",
    "\n"
   ]
  },
  {
   "cell_type": "raw",
   "metadata": {},
   "source": [
    "fig.savefig(\"figs/ere-2d-proof-of-principle.jpg\", bbox_inches=\"tight\")"
   ]
  },
  {
   "cell_type": "markdown",
   "metadata": {},
   "source": [
    "# Database"
   ]
  },
  {
   "cell_type": "code",
   "execution_count": null,
   "metadata": {},
   "outputs": [],
   "source": [
    "from luescher_nd.database.utilities import read_table\n",
    "import pandas as pd\n",
    "import os"
   ]
  },
  {
   "cell_type": "code",
   "execution_count": null,
   "metadata": {},
   "outputs": [],
   "source": [
    "ROOT = os.path.abspath(\"../data/two-d\")\n",
    "db = os.path.join(ROOT, \"db-contact-fv-c-parity.sqlite\")"
   ]
  },
  {
   "cell_type": "code",
   "execution_count": null,
   "metadata": {},
   "outputs": [],
   "source": [
    "df = read_table(database=db, drop_comment=False).drop(columns=\"y\")\n",
    "\n",
    "df = (\n",
    "    pd.merge(\n",
    "        df,\n",
    "        df.comment.str.extract(\n",
    "            \"spherical=(?P<spherical>[01]{1})&a0=(?P<a0>[0-9\\.]+)&n=(?P<n>[0-9]+)\"\n",
    "        ),\n",
    "        how=\"inner\",\n",
    "        left_index=True,\n",
    "        right_index=True,\n",
    "    )\n",
    "    .astype(dtype={\"spherical\": int, \"a0\": float, \"n\": int})\n",
    "    .astype({\"spherical\": bool})\n",
    ")\n",
    "\n",
    "\n",
    "zeta = {True: z_spherical, False: z_cartesian}\n",
    "\n",
    "\n",
    "df[\"y\"] = df.apply(\n",
    "    lambda row: ere(zeta[row[\"spherical\"]](row[\"x\"]), row[\"x\"])[0], axis=1\n",
    ")\n",
    "df = df.dropna()\n",
    "\n",
    "df = df.drop(columns=[\"comment\", \"date\"])\n",
    "df[\"epsilon\"] = df.epsilon.round(3)\n",
    "\n",
    "tf = df.query(\"y < 5 and y > -5 and epsilon < 0.1 and L == 1\").sort_values(\n",
    "    [\"spherical\", \"n1d\", \"nstep\", \"nlevel\"]\n",
    ")\n",
    "\n",
    "tf.head()\n"
   ]
  },
  {
   "cell_type": "code",
   "execution_count": null,
   "metadata": {},
   "outputs": [],
   "source": [
    "grid = sns.FacetGrid(\n",
    "    data=tf,\n",
    "    row=\"spherical\",\n",
    "    col=\"nstep\",\n",
    "    hue=\"epsilon\",\n",
    "    legend_out=True,\n",
    "    margin_titles=True,\n",
    "    col_order=[\"1\", \"4\", \"$\\\\infty$\"],\n",
    "    hue_kws=dict(marker=[\"o\", \"s\", \"v\", \"^\", \"d\"])\n",
    ")\n",
    "\n",
    "grid.map(plt.plot, \"x\", \"y\", ms=3, ls=\":\", marker=\"s\", lw=0.5).add_legend(title=r\"$\\epsilon$ [fm]\")\n",
    "\n",
    "x = np.linspace(-0.1, 20, 200)\n",
    "\n",
    "for ax in grid.axes.flatten():\n",
    "    ax.set_ylim(-1, 3)\n",
    "\n",
    "    ax.axhline(0, color=\"black\", lw=0.5, ls=\"-\", zorder=-1)\n",
    "    ax.axvline(0, color=\"black\", lw=0.5, ls=\"-\", zorder=-1)\n",
    "    ax.plot(\n",
    "        x,\n",
    "        2 / np.pi * np.log(a0 * 2 * np.pi * np.sqrt(x) / L),\n",
    "        color=\"black\",\n",
    "        ls=\"--\",\n",
    "        lw=\"1\",\n",
    "        label=\"Analytic\",\n",
    "        zorder=-1,\n",
    "    )\n",
    "\n",
    "grid.set_ylabels(\"$\\cot(\\delta_0(x))$\")\n",
    "grid.set_xlabels(\"$x$\")\n",
    "\n",
    "grid.fig.suptitle(f\"$L = {tf.L.unique()[0]}$ [fm], $a_0 = {tf.a0.unique()[0]}$ [fm]\", y=1.06)\n",
    "\n",
    "grid.fig.set_dpi(250)\n",
    "grid.fig.set_figheight(4)"
   ]
  },
  {
   "cell_type": "raw",
   "metadata": {
    "scrolled": false
   },
   "source": [
    "grid.fig.savefig(\"figs/ere-2d-grid.jpg\", bbox_inches=\"tight\")"
   ]
  },
  {
   "cell_type": "code",
   "execution_count": null,
   "metadata": {},
   "outputs": [],
   "source": [
    "cf = df.groupby([\"epsilon\", \"L\", \"nstep\", \"spherical\"])[[\"contact_strength\"]].mean().reset_index()#.query(\"L == 1\")\n",
    "\n",
    "cf[\"y\"] = -1./cf[\"contact_strength\"]\n",
    "\n",
    "cf.head()"
   ]
  },
  {
   "cell_type": "code",
   "execution_count": null,
   "metadata": {},
   "outputs": [],
   "source": [
    "grid = sns.FacetGrid(\n",
    "    data=cf,\n",
    "    row=\"spherical\",\n",
    "    col=\"nstep\",\n",
    "    hue=\"L\",\n",
    "    legend_out=True,\n",
    "    margin_titles=True,\n",
    "    col_order=[\"1\", \"4\", \"$\\\\infty$\"],\n",
    "    hue_kws=dict(marker=[\"o\", \"s\", \"v\", \"^\", \"d\"]),\n",
    ")\n",
    "\n",
    "grid.map(plt.plot, \"epsilon\", \"y\", ms=3, ls=\":\", marker=\"s\", lw=0.5)\n",
    "\n",
    "x = np.linspace(-0.1, 20, 200)\n",
    "\n",
    "grid.set_ylabels(r\"$-1/c_0(\\epsilon)$ [fm$^{-1}$]\")\n",
    "grid.set_xlabels(\"$\\epsilon$ [fm]\")\n",
    "\n",
    "grid.fig.suptitle(f\"$a_0 = {df.a0.unique()[0]}$ [fm]\", y=1.06)\n",
    "\n",
    "eps = np.linspace(1.0e-2, 9.0e-1, 100)\n",
    "Lambda = 2* np.pi / eps\n",
    "y1 = 2 * mu / np.pi / 2 * np.log(a0 * Lambda)\n",
    "G = 0.52326651247849486024677309202244625024950319935978\n",
    "y2 = y1 - 2 * mu / np.pi**2 * (G - np.pi/8)\n",
    "\n",
    "for ax in grid.axes.flatten():\n",
    "    ax.set_xscale(\"log\")\n",
    "    ax.set_xlim(1.0e-2, 9.0e-1)\n",
    "    ax.plot(\n",
    "        eps,\n",
    "        y1,\n",
    "        label=r\"$\\frac{\\mu}{\\pi} \\log\\left(\\frac{2\\pi}{\\epsilon}a_0\\right)$\",\n",
    "        ls=\"-\",\n",
    "        color=\"blue\",\n",
    "        lw=.5,\n",
    "        zorder=-1\n",
    "    )\n",
    "    ax.plot(\n",
    "        eps,\n",
    "        y2,\n",
    "        label=r\"$\\frac{\\mu}{\\pi} \\log\\left(\\frac{2\\pi}{\\epsilon}a_0\\right) \"\n",
    "        r\"- \\frac{2\\mu}{\\pi^2}\\left(G - \\frac{\\pi}{8}\\right)$\",\n",
    "        ls=\"-\",\n",
    "        color=\"green\",\n",
    "        lw=.5,\n",
    "        zorder=-1\n",
    "    )\n",
    "\n",
    "grid.fig.set_dpi(250)\n",
    "grid.fig.set_figheight(4)\n",
    "\n",
    "plt.subplots_adjust()\n",
    "\n",
    "leg = ax.legend(fontsize=10, frameon=False, loc=\"upper left\", bbox_to_anchor=(1.1, 1.5), title=\"$L$ [fm]\")\n"
   ]
  },
  {
   "cell_type": "raw",
   "metadata": {},
   "source": [
    "grid.fig.savefig(\"figs/contact-scaling-2d.jpg\", bbox_inches=\"tight\")"
   ]
  },
  {
   "cell_type": "code",
   "execution_count": null,
   "metadata": {},
   "outputs": [],
   "source": [
    "ttf = cf.query(\"nstep == '$\\\\infty$' and spherical == True\")\n",
    "Lambda = 2* np.pi / ttf.epsilon\n",
    "y1 = 2 * mu / np.pi / 2 * np.log(a0 * Lambda)\n",
    "\n",
    "fig, ax = plt.subplots(figsize=(3,2), dpi=200)\n",
    "\n",
    "plt.plot(ttf.epsilon, np.abs(ttf.y - y1)/y1 * 100, ls=\"--\", lw=.5, marker=\"o\", ms=1)\n",
    "sns.despine()\n",
    "\n",
    "ax.set_xlabel(\"$\\epsilon$ [fm]\")\n",
    "ax.set_ylabel(r\"$ \\left|\\Delta\\frac{-1}{c_0(\\epsilon)}\\right|$ [%]\")\n",
    "ax.set_title(\"Spherical data, spherical ERE,\" f\" nstep = {ttf.nstep.unique()[0]}\", fontsize=8)\n",
    "\n",
    "ax.set_yscale(\"log\")\n",
    "\n",
    "plt.show()"
   ]
  },
  {
   "cell_type": "raw",
   "metadata": {},
   "source": [
    "fig.savefig(\"figs/contact-scaling-difference-2d.jpg\", bbox_inches=\"tight\")"
   ]
  },
  {
   "cell_type": "code",
   "execution_count": null,
   "metadata": {},
   "outputs": [],
   "source": []
  }
 ],
 "metadata": {
  "kernelspec": {
   "display_name": "Python 3",
   "language": "python",
   "name": "python3"
  },
  "language_info": {
   "codemirror_mode": {
    "name": "ipython",
    "version": 3
   },
   "file_extension": ".py",
   "mimetype": "text/x-python",
   "name": "python",
   "nbconvert_exporter": "python",
   "pygments_lexer": "ipython3",
   "version": "3.7.3"
  }
 },
 "nbformat": 4,
 "nbformat_minor": 2
}
